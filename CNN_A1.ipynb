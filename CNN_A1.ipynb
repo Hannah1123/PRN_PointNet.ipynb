{
  "nbformat": 4,
  "nbformat_minor": 0,
  "metadata": {
    "colab": {
      "name": "CNN-A1.ipynb",
      "provenance": [],
      "collapsed_sections": [
        "ZCEbK0Qmq4Qr",
        "A2ooJGjtpd1n",
        "4LqtpSbEqZ48",
        "3s7gbk5i6f2Z",
        "E7-BEhKz6iZ6",
        "BvCIO66k6oiy",
        "BYSMOsEApvhh",
        "ExGVRR4sTsIP",
        "P6L7bmPZLbaB",
        "FiPtNDTY2fAf",
        "PkR_EP15nt7q",
        "FmR36KMLoDVF"
      ],
      "authorship_tag": "ABX9TyMCdN0Hp0j87RdgbOTbJIDF",
      "include_colab_link": true
    },
    "kernelspec": {
      "name": "python3",
      "display_name": "Python 3"
    }
  },
  "cells": [
    {
      "cell_type": "markdown",
      "metadata": {
        "id": "view-in-github",
        "colab_type": "text"
      },
      "source": [
        "<a href=\"https://colab.research.google.com/github/Hannah1123/uts-deeplearng2020.ipynb/blob/master/CNN_A1.ipynb\" target=\"_parent\"><img src=\"https://colab.research.google.com/assets/colab-badge.svg\" alt=\"Open In Colab\"/></a>"
      ]
    },
    {
      "cell_type": "markdown",
      "metadata": {
        "id": "ZCEbK0Qmq4Qr"
      },
      "source": [
        "##LOAD DATASET"
      ]
    },
    {
      "cell_type": "code",
      "metadata": {
        "id": "ZiwmTu8KZPFl",
        "colab": {
          "base_uri": "https://localhost:8080/",
          "height": 127
        },
        "outputId": "69e67e5d-c42c-4f50-af2a-04c70ac0e4d1"
      },
      "source": [
        "# Connecting to GDrive\n",
        "from google.colab import drive\n",
        "drive.mount('/content/gdrive')"
      ],
      "execution_count": null,
      "outputs": [
        {
          "output_type": "stream",
          "text": [
            "Go to this URL in a browser: https://accounts.google.com/o/oauth2/auth?client_id=947318989803-6bn6qk8qdgf4n4g3pfee6491hc0brc4i.apps.googleusercontent.com&redirect_uri=urn%3aietf%3awg%3aoauth%3a2.0%3aoob&response_type=code&scope=email%20https%3a%2f%2fwww.googleapis.com%2fauth%2fdocs.test%20https%3a%2f%2fwww.googleapis.com%2fauth%2fdrive%20https%3a%2f%2fwww.googleapis.com%2fauth%2fdrive.photos.readonly%20https%3a%2f%2fwww.googleapis.com%2fauth%2fpeopleapi.readonly\n",
            "\n",
            "Enter your authorization code:\n",
            "··········\n",
            "Mounted at /content/gdrive\n"
          ],
          "name": "stdout"
        }
      ]
    },
    {
      "cell_type": "code",
      "metadata": {
        "id": "6KJVbfkJL9_g",
        "colab": {
          "base_uri": "https://localhost:8080/",
          "height": 73
        },
        "outputId": "ca9a9904-9520-4a22-914e-34cef2d4fe3f"
      },
      "source": [
        "import tensorflow as tf\n",
        "import os\n",
        "import numpy as np\n",
        "from mlxtend.data import loadlocal_mnist\n",
        "import matplotlib.pyplot as plt\n",
        "from skimage import feature # This pacakge is used for LBP feature extraction\n",
        "from sklearn import svm # This pacakge is used for svm classification\n",
        "from sklearn import metrics\n",
        "from sklearn.neighbors import KNeighborsClassifier\n",
        "%matplotlib inline\n",
        "import cv2\n",
        "import seaborn as sns\n",
        "%load_ext tensorboard\n"
      ],
      "execution_count": null,
      "outputs": [
        {
          "output_type": "stream",
          "text": [
            "/usr/local/lib/python3.6/dist-packages/statsmodels/tools/_testing.py:19: FutureWarning: pandas.util.testing is deprecated. Use the functions in the public API at pandas.testing instead.\n",
            "  import pandas.util.testing as tm\n"
          ],
          "name": "stderr"
        }
      ]
    },
    {
      "cell_type": "code",
      "metadata": {
        "id": "exhki0m5bpU6",
        "colab": {
          "base_uri": "https://localhost:8080/",
          "height": 35
        },
        "outputId": "c1ea50ab-bc0a-4a1f-ac38-d4eb8aa7b5e0"
      },
      "source": [
        "# Changing to the working directory to access sample images\n",
        "cd /content/gdrive/My Drive/42028-DL-CNN-2020/MNIST"
      ],
      "execution_count": null,
      "outputs": [
        {
          "output_type": "stream",
          "text": [
            "/content/gdrive/My Drive/42028-DL-CNN-2020/MNIST\n"
          ],
          "name": "stdout"
        }
      ]
    },
    {
      "cell_type": "code",
      "metadata": {
        "id": "-8BPQ5Xecn0i",
        "colab": {
          "base_uri": "https://localhost:8080/",
          "height": 55
        },
        "outputId": "f94aa8c9-d571-401f-a7c2-d8cae55c529d"
      },
      "source": [
        "!cp '/content/gdrive/My Drive/42028-DL-CNN-2020/MNIST/train-images-idx3-ubyte.gz' train-images-idx3-ubyte.gz\n"
      ],
      "execution_count": null,
      "outputs": [
        {
          "output_type": "stream",
          "text": [
            "cp: cannot stat '/content/gdrive/My Drive/42028-DL-CNN-2020/MNIST/train-images-idx3-ubyte.gz': No such file or directory\n"
          ],
          "name": "stdout"
        }
      ]
    },
    {
      "cell_type": "code",
      "metadata": {
        "id": "KgS0RsaSc-Lb",
        "colab": {
          "base_uri": "https://localhost:8080/",
          "height": 53
        },
        "outputId": "432479bf-1d09-4181-a358-a13527e673b0"
      },
      "source": [
        "!gunzip train-images-idx3-ubyte.gz"
      ],
      "execution_count": null,
      "outputs": [
        {
          "output_type": "stream",
          "text": [
            "ERROR! Session/line number was not unique in database. History logging moved to new session 59\n",
            "gzip: train-images-idx3-ubyte already exists; do you wish to overwrite (y or n)? y\n"
          ],
          "name": "stdout"
        }
      ]
    },
    {
      "cell_type": "code",
      "metadata": {
        "id": "22tcwApoeLf0",
        "colab": {
          "base_uri": "https://localhost:8080/",
          "height": 35
        },
        "outputId": "e366470d-5f68-4562-b588-4c3b83576628"
      },
      "source": [
        "pwd"
      ],
      "execution_count": null,
      "outputs": [
        {
          "output_type": "execute_result",
          "data": {
            "text/plain": [
              "'/content/gdrive/My Drive/42028-DL-CNN-2020/MNIST'"
            ]
          },
          "metadata": {
            "tags": []
          },
          "execution_count": 10
        }
      ]
    },
    {
      "cell_type": "code",
      "metadata": {
        "id": "RbUXWcd_eOes"
      },
      "source": [
        "!gunzip train-labels-idx1-ubyte.gz"
      ],
      "execution_count": null,
      "outputs": []
    },
    {
      "cell_type": "code",
      "metadata": {
        "id": "_qSwrnKWidHP"
      },
      "source": [
        "!gunzip t10k-images-idx3-ubyte.gz\n",
        "!gunzip t10k-labels-idx1-ubyte.gz"
      ],
      "execution_count": null,
      "outputs": []
    },
    {
      "cell_type": "code",
      "metadata": {
        "id": "m5437CJFjX0k"
      },
      "source": [
        "X_train_fla, y_train = loadlocal_mnist(\n",
        "        images_path='/content/gdrive/My Drive/42028-DL-CNN-2020/MNIST/train-images-idx3-ubyte', \n",
        "        labels_path='/content/gdrive/My Drive/42028-DL-CNN-2020/MNIST/train-labels-idx1-ubyte')"
      ],
      "execution_count": null,
      "outputs": []
    },
    {
      "cell_type": "code",
      "metadata": {
        "id": "jNMa9_X6jlsM",
        "colab": {
          "base_uri": "https://localhost:8080/",
          "height": 35
        },
        "outputId": "30917c83-002d-4e4c-cdb7-60841c730ffb"
      },
      "source": [
        "print('Dimensions: %s x %s' % (X_train_fla.shape[0], X_train_fla.shape[1]))\n",
        "#print('\\n1st row', X_train[0])"
      ],
      "execution_count": null,
      "outputs": [
        {
          "output_type": "stream",
          "text": [
            "Dimensions: 60000 x 784\n"
          ],
          "name": "stdout"
        }
      ]
    },
    {
      "cell_type": "code",
      "metadata": {
        "id": "tJgf7NtCkMEZ",
        "colab": {
          "base_uri": "https://localhost:8080/",
          "height": 71
        },
        "outputId": "4c860f79-f27f-4f20-e645-cec02462cb4b"
      },
      "source": [
        "\n",
        "print('Digits:  0 1 2 3 4 5 6 7 8 9')\n",
        "print('labels: %s' % np.unique(y_train))\n",
        "print('Class distribution: %s' % np.bincount(y_train))"
      ],
      "execution_count": null,
      "outputs": [
        {
          "output_type": "stream",
          "text": [
            "Digits:  0 1 2 3 4 5 6 7 8 9\n",
            "labels: [0 1 2 3 4 5 6 7 8 9]\n",
            "Class distribution: [5923 6742 5958 6131 5842 5421 5918 6265 5851 5949]\n"
          ],
          "name": "stdout"
        }
      ]
    },
    {
      "cell_type": "code",
      "metadata": {
        "id": "S2gS9Vi-kNvY"
      },
      "source": [
        "np.savetxt(fname='/content/gdrive/My Drive/42028-DL-CNN-2020/MNIST/train-images.csv', \n",
        "           X=X, delimiter=',', fmt='%d')\n",
        "np.savetxt(fname='//content/gdrive/My Drive/42028-DL-CNN-2020/MNIST/train-labels.csv', \n",
        "           X=y, delimiter=',', fmt='%d')"
      ],
      "execution_count": null,
      "outputs": []
    },
    {
      "cell_type": "code",
      "metadata": {
        "id": "grPCQ-Unk29A"
      },
      "source": [
        "X_test_fla, y_test = loadlocal_mnist(\n",
        "        images_path='/content/gdrive/My Drive/42028-DL-CNN-2020/MNIST/t10k-images-idx3-ubyte', \n",
        "        labels_path='/content/gdrive/My Drive/42028-DL-CNN-2020/MNIST/t10k-labels-idx1-ubyte')"
      ],
      "execution_count": null,
      "outputs": []
    },
    {
      "cell_type": "code",
      "metadata": {
        "id": "XPZhMg3Rk_SX"
      },
      "source": [
        "np.savetxt(fname='/content/gdrive/My Drive/42028-DL-CNN-2020/MNIST/test-images.csv', \n",
        "           X=X, delimiter=',', fmt='%d')\n",
        "np.savetxt(fname='//content/gdrive/My Drive/42028-DL-CNN-2020/MNIST/test-labels.csv', \n",
        "           X=y, delimiter=',', fmt='%d')"
      ],
      "execution_count": null,
      "outputs": []
    },
    {
      "cell_type": "code",
      "metadata": {
        "id": "2QQng9B8sfIP",
        "colab": {
          "base_uri": "https://localhost:8080/",
          "height": 35
        },
        "outputId": "ad862f62-00f7-4956-d6cc-c355abd598a9"
      },
      "source": [
        "print('Dimensions: %s x %s' % (X_test.shape[0], X_test.shape[1]))"
      ],
      "execution_count": null,
      "outputs": [
        {
          "output_type": "stream",
          "text": [
            "Dimensions: 10000 x 784\n"
          ],
          "name": "stdout"
        }
      ]
    },
    {
      "cell_type": "markdown",
      "metadata": {
        "id": "_TrDRqO2Bx8e"
      },
      "source": [
        "####visualization"
      ]
    },
    {
      "cell_type": "code",
      "metadata": {
        "id": "diomB5N0wu-4",
        "colab": {
          "base_uri": "https://localhost:8080/",
          "height": 53
        },
        "outputId": "701639e0-d3db-43b5-ce59-1bfcd3febea9"
      },
      "source": [
        "# reshape train and test data\n",
        "X_train=X_train_fla.reshape(-1,28,28)\n",
        "X_test=X_test_fla.reshape(-1,28,28)\n",
        "\n",
        "# print the size of the result reshaped train and test data splits\n",
        "\n",
        "print(\"Train dataset after reshaping:{}\".format(np.shape(X_train)))\n",
        "print(\"Test dataset after reshaping :{}\".format(np.shape(X_test)))"
      ],
      "execution_count": null,
      "outputs": [
        {
          "output_type": "stream",
          "text": [
            "Train dataset after reshaping:(60000, 28, 28)\n",
            "Test dataset after reshaping :(10000, 28, 28)\n"
          ],
          "name": "stdout"
        }
      ]
    },
    {
      "cell_type": "code",
      "metadata": {
        "id": "Z5k2-1zim4A8",
        "colab": {
          "base_uri": "https://localhost:8080/",
          "height": 282
        },
        "outputId": "83615468-cf80-4d43-80cb-308cac86a057"
      },
      "source": [
        "# view few images and print its corresponding label\n",
        "labelNames = [\"0\", \"1\", \"2\", \"3\", \"4\",\n",
        "\t\"5\", \"6\", \"7\", \"8\", \"9\"]\n",
        "img_index = 10\n",
        "fig = plt.figure()\n",
        "ax1 = fig.add_subplot(3,3,1)\n",
        "ax1.axis('off')\n",
        "ax1.imshow(X_train[img_index])\n",
        "plt.title(labelNames[y_train[img_index]])\n",
        "\n",
        "ax2 = fig.add_subplot(3,3,2)\n",
        "ax2.axis('off')\n",
        "img_index = 500\n",
        "ax2.imshow(X_train[img_index])\n",
        "plt.title(labelNames[y_train[img_index]])\n",
        "\n",
        "ax3 = fig.add_subplot(3,3,3)\n",
        "ax3.axis('off')\n",
        "img_index = 1000\n",
        "ax3.imshow(X_train[img_index])\n",
        "plt.title(labelNames[y_train[img_index]])\n",
        "\n",
        "ax4 = fig.add_subplot(3,3,4)\n",
        "ax4.axis('off')\n",
        "img_index = 3000\n",
        "ax4.imshow(X_train[img_index])\n",
        "plt.title(labelNames[y_train[img_index]])\n",
        "\n",
        "ax5 = fig.add_subplot(3,3,5)\n",
        "ax5.axis('off')\n",
        "img_index = 10300\n",
        "ax5.imshow(X_train[img_index])\n",
        "plt.title(labelNames[y_train[img_index]])\n",
        "\n",
        "ax6 = fig.add_subplot(3,3,6)\n",
        "ax6.axis('off')\n",
        "img_index = 15000\n",
        "ax6.imshow(X_train[img_index])\n",
        "plt.title(labelNames[y_train[img_index]])\n",
        "\n",
        "ax7 = fig.add_subplot(3,3,7)\n",
        "ax7.axis('off')\n",
        "img_index = 20000\n",
        "ax7.imshow(X_train[img_index])\n",
        "plt.title(labelNames[y_train[img_index]])\n",
        "\n",
        "ax8 = fig.add_subplot(3,3,8)\n",
        "ax8.axis('off')\n",
        "img_index = 30050\n",
        "ax8.imshow(X_train[img_index])\n",
        "plt.title(labelNames[y_train[img_index]])\n",
        "\n",
        "ax9 = fig.add_subplot(3,3,9)\n",
        "ax9.axis('off')\n",
        "img_index = 50002\n",
        "ax9.imshow(X_train[img_index])\n",
        "plt.title(labelNames[y_train[img_index]])"
      ],
      "execution_count": null,
      "outputs": [
        {
          "output_type": "execute_result",
          "data": {
            "text/plain": [
              "Text(0.5, 1.0, '6')"
            ]
          },
          "metadata": {
            "tags": []
          },
          "execution_count": 65
        },
        {
          "output_type": "display_data",
          "data": {
            "image/png": "[encoded data removed]",
            "text/plain": [
              "<Figure size 432x288 with 9 Axes>"
            ]
          },
          "metadata": {
            "tags": [],
            "needs_background": "light"
          }
        }
      ]
    },
    {
      "cell_type": "code",
      "metadata": {
        "id": "0Dtxmu664wyM",
        "colab": {
          "base_uri": "https://localhost:8080/",
          "height": 35
        },
        "outputId": "425c9ffd-578f-4265-e68d-35415a7f9eaa"
      },
      "source": [
        "X_train[img_index].shape"
      ],
      "execution_count": null,
      "outputs": [
        {
          "output_type": "execute_result",
          "data": {
            "text/plain": [
              "(28, 28)"
            ]
          },
          "metadata": {
            "tags": []
          },
          "execution_count": 12
        }
      ]
    },
    {
      "cell_type": "markdown",
      "metadata": {
        "id": "tyO7zVjBPjhr"
      },
      "source": [
        "####normalization\n",
        "-In the experimentals of LBP, normalization does not applied "
      ]
    },
    {
      "cell_type": "code",
      "metadata": {
        "id": "Lpv_lKJvPis5"
      },
      "source": [
        "X_train_fla = X_train_fla/255.0\n",
        "X_test_fla = X_test_fla/255.0"
      ],
      "execution_count": null,
      "outputs": []
    },
    {
      "cell_type": "markdown",
      "metadata": {
        "id": "A2ooJGjtpd1n"
      },
      "source": [
        "##LBP  \n",
        "training data feature extraction"
      ]
    },
    {
      "cell_type": "code",
      "metadata": {
        "id": "x8PG84E9pCAM"
      },
      "source": [
        "class LocalBinaryPatterns:\n",
        "\tdef __init__(self, numPoints, radius):\n",
        "\t\t# store the number of points and radius\n",
        "\t\tself.numPoints = numPoints\n",
        "\t\tself.radius = radius\n",
        " \n",
        "\tdef LBPfeatures(self, image, eps=1e-7):\n",
        "\t\t# compute the Local Binary Pattern representation\n",
        "\t\t# of the image, and then use the LBP representation\n",
        "\t\t# to build the histogram of patterns\n",
        "\t\t# median filters are applied\n",
        "\t\ti=0\n",
        "\t\tfor i in range(5):\n",
        "\t\t  image = cv2.medianBlur(image, 3)\n",
        "\t\t  i = i+1\n",
        "\t\tlbp = feature.local_binary_pattern(image, self.numPoints,\n",
        "\t\t\tself.radius, method=\"uniform\")\n",
        "    # Form the histogram\n",
        "\t\t(hist, _) = np.histogram(lbp.ravel(),\n",
        "\t\t\tbins=np.arange(0, self.numPoints + 3),\n",
        "\t\t\trange=(0, self.numPoints + 2))\n",
        " \n",
        "\t\t# normalize the histogram\n",
        "\t\thist = hist.astype(\"float\")\n",
        "\t\thist /= (hist.sum() + eps)\n",
        " \n",
        "\t\t# return the histogram of Local Binary Patterns\n",
        "\t\treturn hist"
      ],
      "execution_count": null,
      "outputs": []
    },
    {
      "cell_type": "code",
      "metadata": {
        "id": "YmGa5PWvpoo6"
      },
      "source": [
        "# Create an object of LocalBinaryPatterns class and initial the parameters.\n",
        "desc = LocalBinaryPatterns(24, 8)\n",
        "data_train_lbp = []\n",
        "labels_train_lbp = []\n",
        "\n",
        "\n",
        "# loop over the training images\n",
        "for img_index in range(60000):   \n",
        "\t# load the train image, and extract LBP features\n",
        "\timage_lbp = (X_train[img_index])\n",
        "\thist = desc.LBPfeatures(image_lbp)\n",
        "\n",
        "\tlabels_train_lbp.append(y_train[img_index])\n",
        "\tdata_train_lbp.append(hist)"
      ],
      "execution_count": null,
      "outputs": []
    },
    {
      "cell_type": "markdown",
      "metadata": {
        "id": "4LqtpSbEqZ48"
      },
      "source": [
        "##HOG  \n",
        "training data feature extraction"
      ]
    },
    {
      "cell_type": "code",
      "metadata": {
        "id": "Txa1qv6xqdc_",
        "colab": {
          "base_uri": "https://localhost:8080/",
          "height": 71
        },
        "outputId": "76561c1c-3c7f-48c4-e956-9a3aabe99761"
      },
      "source": [
        "# initialize the data matrix and labels\n",
        "print(\"Extracting features from training dataset...\")\n",
        "data_train_hog = []\n",
        "labels_train_hog = []\n",
        "\n",
        "# loop over the training images\n",
        "for img_index in range(len(X_train)):\n",
        "  # load the image, and extract HOG features it\n",
        " \n",
        "  image_hog = (X_train[img_index])# Complete the code \n",
        "  \n",
        "  # Hint: use orientation =9, pixel_per_cell=(10,10), cells_per_block=2,2, \n",
        "  # transform_sqrt=True and block_norm=\"L2-Hys\"\n",
        "  # \n",
        "  H_train = feature.hog(image_hog, orientations=9, pixels_per_cell=(8,8), cells_per_block=(2,2), block_norm='L1', transform_sqrt=True) # Complete the code \n",
        " \n",
        "  # update the data and labels\n",
        "  data_train_hog.append(H_train) # Complete the code \n",
        "  labels_train_hog.append(y_train[img_index]) # Complete the code \n",
        "## END YOUR CODE HERE ##\n",
        "print(np.shape(data_train_hog))\n",
        "print(np.shape(labels_train_hog))"
      ],
      "execution_count": null,
      "outputs": [
        {
          "output_type": "stream",
          "text": [
            "Extracting features from training dataset...\n",
            "(60000, 144)\n",
            "(60000,)\n"
          ],
          "name": "stdout"
        }
      ]
    },
    {
      "cell_type": "markdown",
      "metadata": {
        "id": "3s7gbk5i6f2Z"
      },
      "source": [
        "##KNN"
      ]
    },
    {
      "cell_type": "markdown",
      "metadata": {
        "id": "MLmcfMyqD3ex"
      },
      "source": [
        "###KNN_RAW"
      ]
    },
    {
      "cell_type": "code",
      "metadata": {
        "id": "GtpilVuSEE-P",
        "colab": {
          "base_uri": "https://localhost:8080/",
          "height": 71
        },
        "outputId": "bf324058-c341-45b2-803e-cc8c4dfe7600"
      },
      "source": [
        "clf_raw=KNeighborsClassifier(n_neighbors=7)\n",
        "clf_raw.fit(X_train_fla, y_train)"
      ],
      "execution_count": null,
      "outputs": [
        {
          "output_type": "execute_result",
          "data": {
            "text/plain": [
              "KNeighborsClassifier(algorithm='auto', leaf_size=30, metric='minkowski',\n",
              "                     metric_params=None, n_jobs=None, n_neighbors=7, p=2,\n",
              "                     weights='uniform')"
            ]
          },
          "metadata": {
            "tags": []
          },
          "execution_count": 77
        }
      ]
    },
    {
      "cell_type": "code",
      "metadata": {
        "id": "lkMhJavUS-2e",
        "colab": {
          "base_uri": "https://localhost:8080/",
          "height": 35
        },
        "outputId": "6ab7e166-ccfa-4c4f-db0e-ef162165dd8e"
      },
      "source": [
        "acc_train_raw = clf_raw.score(X_train_fla, y_train)\n",
        "print('Train set accuracy: ', acc_train_raw)"
      ],
      "execution_count": null,
      "outputs": [
        {
          "output_type": "stream",
          "text": [
            "Train set accuracy:  0.97915\n"
          ],
          "name": "stdout"
        }
      ]
    },
    {
      "cell_type": "code",
      "metadata": {
        "id": "cV733R51HbQB",
        "colab": {
          "base_uri": "https://localhost:8080/",
          "height": 35
        },
        "outputId": "a226e3fc-8a27-4ecc-f7a5-a1f440a7ec62"
      },
      "source": [
        "predictions_knn_raw = clf_raw.predict(X_test_fla)\n",
        "print(\"Test raw_knn Accuracy: {:.2f}\".format(clf_raw.score(X_test_fla,y_test)))"
      ],
      "execution_count": null,
      "outputs": [
        {
          "output_type": "stream",
          "text": [
            "Test raw_knn Accuracy: 0.97\n"
          ],
          "name": "stdout"
        }
      ]
    },
    {
      "cell_type": "code",
      "metadata": {
        "id": "wsNjV9sWHjNi",
        "colab": {
          "base_uri": "https://localhost:8080/",
          "height": 197
        },
        "outputId": "1b7ea644-340c-44a5-eed6-d8ae4b434f62"
      },
      "source": [
        "print(metrics.confusion_matrix(y_test, predictions_knn_raw))"
      ],
      "execution_count": null,
      "outputs": [
        {
          "output_type": "stream",
          "text": [
            "[[ 973    1    1    0    0    1    3    1    0    0]\n",
            " [   0 1129    3    0    1    1    1    0    0    0]\n",
            " [   7    6  992    5    1    0    2   16    3    0]\n",
            " [   0    1    2  970    1   19    0    7    7    3]\n",
            " [   0    7    0    0  944    0    3    5    1   22]\n",
            " [   1    1    0   12    2  860    5    1    6    4]\n",
            " [   4    2    0    0    3    5  944    0    0    0]\n",
            " [   0   14    6    2    4    0    0  992    0   10]\n",
            " [   6    1    3   14    5   13    3    4  920    5]\n",
            " [   2    5    1    6   10    5    1   11    1  967]]\n"
          ],
          "name": "stdout"
        }
      ]
    },
    {
      "cell_type": "markdown",
      "metadata": {
        "id": "E7-BEhKz6iZ6"
      },
      "source": [
        "###KNN_HOG"
      ]
    },
    {
      "cell_type": "code",
      "metadata": {
        "id": "Wfz5uyy568kc"
      },
      "source": [
        "clf_hog=KNeighborsClassifier(n_neighbors=7)"
      ],
      "execution_count": null,
      "outputs": []
    },
    {
      "cell_type": "code",
      "metadata": {
        "id": "5P8Ot6kb6n7D",
        "colab": {
          "base_uri": "https://localhost:8080/",
          "height": 71
        },
        "outputId": "c886f80d-4db4-4f9b-9fa5-ecb26953d85b"
      },
      "source": [
        "clf_hog.fit(data_train_hog, labels_train_hog)"
      ],
      "execution_count": null,
      "outputs": [
        {
          "output_type": "execute_result",
          "data": {
            "text/plain": [
              "KNeighborsClassifier(algorithm='auto', leaf_size=30, metric='minkowski',\n",
              "                     metric_params=None, n_jobs=None, n_neighbors=7, p=2,\n",
              "                     weights='uniform')"
            ]
          },
          "metadata": {
            "tags": []
          },
          "execution_count": 36
        }
      ]
    },
    {
      "cell_type": "code",
      "metadata": {
        "id": "s2yMqyyYeEBG",
        "colab": {
          "base_uri": "https://localhost:8080/",
          "height": 35
        },
        "outputId": "7c58c567-ff04-47e4-af89-6a1fc409a44c"
      },
      "source": [
        "acc_train_hog = clf_hog.score(data_train_hog, labels_train_hog)\n",
        "print('Train set accuracy: ', acc_train_hog)"
      ],
      "execution_count": null,
      "outputs": [
        {
          "output_type": "stream",
          "text": [
            "Train set accuracy:  0.9595333333333333\n"
          ],
          "name": "stdout"
        }
      ]
    },
    {
      "cell_type": "code",
      "metadata": {
        "id": "V5Xq1FZq7kK1",
        "colab": {
          "base_uri": "https://localhost:8080/",
          "height": 71
        },
        "outputId": "6e866eee-beb8-4831-dd9a-7c9ee6e4a327"
      },
      "source": [
        "# initialize the data matrix and labels\n",
        "print(\"Extracting features from test dataset...\")\n",
        "labels_test_nn_hog = []\n",
        "data_test_nn_hog=[]\n",
        "# loop over the training images\n",
        "for img_ind in range(len(X_test)):\n",
        "  # load the image, and extract HOG features\n",
        "  \n",
        "  img_hog= X_test[img_ind]\n",
        "  H_test = feature.hog(img_hog,orientations=9, pixels_per_cell=(8,8), cells_per_block=(2,2),\\\n",
        "                  block_norm='L1', transform_sqrt=True) \n",
        "  # Hint: use same settings as used in training phase\n",
        "  \n",
        "  data_test_nn_hog.append(H_test) #数据特征\n",
        "  \n",
        "  labels_test_nn_hog.append(y_test[img_ind])\n",
        "\n",
        "  \n",
        "  \n",
        "print(np.shape(data_test_nn_hog))\n",
        "print(np.shape(labels_test_nn_hog))"
      ],
      "execution_count": null,
      "outputs": [
        {
          "output_type": "stream",
          "text": [
            "Extracting features from test dataset...\n",
            "(10000, 144)\n",
            "(10000,)\n"
          ],
          "name": "stdout"
        }
      ]
    },
    {
      "cell_type": "code",
      "metadata": {
        "id": "DJA-7rZWVRNJ"
      },
      "source": [
        "predictions_knn_hog = clf_hog.predict(data_test_nn_hog)"
      ],
      "execution_count": null,
      "outputs": []
    },
    {
      "cell_type": "code",
      "metadata": {
        "id": "Tqpf56g8Z0gV",
        "colab": {
          "base_uri": "https://localhost:8080/",
          "height": 35
        },
        "outputId": "3b8607ad-c8c5-4f0b-82a4-d0bba7038c39"
      },
      "source": [
        "print(\"Test lbp_knn Accuracy: {:.2f}\".format(clf_hog.score(data_test_nn_hog,labels_test_nn_hog)))"
      ],
      "execution_count": null,
      "outputs": [
        {
          "output_type": "stream",
          "text": [
            "Test lbp_knn Accuracy: 0.94\n"
          ],
          "name": "stdout"
        }
      ]
    },
    {
      "cell_type": "code",
      "metadata": {
        "id": "N_32X6r3aCxt",
        "colab": {
          "base_uri": "https://localhost:8080/",
          "height": 197
        },
        "outputId": "a2ba9442-f75a-4621-c8d0-4eabbe1c9fee"
      },
      "source": [
        "print(metrics.confusion_matrix(labels_test_nn_hog, predictions_knn_hog))"
      ],
      "execution_count": null,
      "outputs": [
        {
          "output_type": "stream",
          "text": [
            "[[ 968    2    1    2    0    0    3    0    1    3]\n",
            " [   4 1121    3    0    2    0    1    1    2    1]\n",
            " [   5    0  953   36    1    1    5   13   10    8]\n",
            " [   2    0   17  937    0    8    2    6   22   16]\n",
            " [  16    3    0    0  889    0   14    6    4   50]\n",
            " [   7    0    0   32    1  819    9    1   14    9]\n",
            " [   6    1    0    0    4    5  940    0    2    0]\n",
            " [   0    4   12   11   16    1    0  908    8   68]\n",
            " [  10    2    1   13    0    4    1    0  921   22]\n",
            " [   7    1    1    7    6    3    0   10   28  946]]\n"
          ],
          "name": "stdout"
        }
      ]
    },
    {
      "cell_type": "code",
      "metadata": {
        "id": "xh8v_IVyuM8e",
        "colab": {
          "base_uri": "https://localhost:8080/",
          "height": 282
        },
        "outputId": "f5f8c79d-04a4-45ff-f8dd-fda28590f16b"
      },
      "source": [
        "img_index = 13\n",
        "fig = plt.figure()\n",
        "ax1 = fig.add_subplot(2,2,1)\n",
        "ax1.axis('off')\n",
        "ax1.imshow(X_test[img_index])\n",
        "plt.title(labelNames[predictions_knn_hog[img_index]])\n",
        "\n",
        "ax2 = fig.add_subplot(2,2,2)\n",
        "ax2.axis('off')\n",
        "img_index = 503\n",
        "ax2.imshow(X_test[img_index])\n",
        "plt.title(labelNames[predictions_knn_hog[img_index]])\n",
        "\n",
        "ax3 = fig.add_subplot(2,2,3)\n",
        "ax3.axis('off')\n",
        "img_index = 1003\n",
        "ax3.imshow(X_test[img_index])\n",
        "plt.title(labelNames[predictions_knn_hog[img_index]])\n",
        "\n",
        "ax4 = fig.add_subplot(2,2,4)\n",
        "ax4.axis('off')\n",
        "img_index = 3003\n",
        "ax4.imshow(X_test[img_index])\n",
        "plt.title(labelNames[predictions_knn_hog[img_index]])\n"
      ],
      "execution_count": null,
      "outputs": [
        {
          "output_type": "execute_result",
          "data": {
            "text/plain": [
              "Text(0.5, 1.0, '1')"
            ]
          },
          "metadata": {
            "tags": []
          },
          "execution_count": 52
        },
        {
          "output_type": "display_data",
          "data": {
            "image/png": "[encoded data removed]",
            "text/plain": [
              "<Figure size 432x288 with 4 Axes>"
            ]
          },
          "metadata": {
            "tags": [],
            "needs_background": "light"
          }
        }
      ]
    },
    {
      "cell_type": "markdown",
      "metadata": {
        "id": "BvCIO66k6oiy"
      },
      "source": [
        "###KNN_LBP"
      ]
    },
    {
      "cell_type": "markdown",
      "metadata": {
        "id": "5OvWJCvKVOnJ"
      },
      "source": [
        "i=5: training_acc increase  \n",
        "but test remain same"
      ]
    },
    {
      "cell_type": "code",
      "metadata": {
        "id": "3cX2bCmTaeR1"
      },
      "source": [
        "clf_lbp=KNeighborsClassifier(n_neighbors=7)"
      ],
      "execution_count": null,
      "outputs": []
    },
    {
      "cell_type": "code",
      "metadata": {
        "id": "PLEzsqsUakL7",
        "colab": {
          "base_uri": "https://localhost:8080/",
          "height": 71
        },
        "outputId": "2815f249-dad3-42f7-a29d-e87edb7a06bd"
      },
      "source": [
        "clf_lbp.fit(data_train_lbp, labels_train_lbp)"
      ],
      "execution_count": null,
      "outputs": [
        {
          "output_type": "execute_result",
          "data": {
            "text/plain": [
              "KNeighborsClassifier(algorithm='auto', leaf_size=30, metric='minkowski',\n",
              "                     metric_params=None, n_jobs=None, n_neighbors=7, p=2,\n",
              "                     weights='uniform')"
            ]
          },
          "metadata": {
            "tags": []
          },
          "execution_count": 11
        }
      ]
    },
    {
      "cell_type": "code",
      "metadata": {
        "id": "W7Dk8bcAde_s",
        "colab": {
          "base_uri": "https://localhost:8080/",
          "height": 35
        },
        "outputId": "cc1475ae-f555-4fa2-a0db-fc3e284913d2"
      },
      "source": [
        "acc_train_lbp = clf_lbp.score(data_train_lbp, labels_train_lbp)\n",
        "print('Train set accuracy: ', acc_train_lbp)"
      ],
      "execution_count": null,
      "outputs": [
        {
          "output_type": "stream",
          "text": [
            "Train set accuracy:  0.6041\n"
          ],
          "name": "stdout"
        }
      ]
    },
    {
      "cell_type": "code",
      "metadata": {
        "id": "Cu3hTsY-TyeU",
        "colab": {
          "base_uri": "https://localhost:8080/",
          "height": 71
        },
        "outputId": "80a9d67b-7577-495a-df6f-b083bc35eb9d"
      },
      "source": [
        "# initialize the data matrix and labels\n",
        "print(\"Extracting features from test dataset...\")\n",
        "\n",
        "data_test_nn_lbp=[]\n",
        "labels_test_nn_lbp=[]\n",
        "# Exract LBP features for each test sample and classify it with the trained SVM classifier\n",
        "\n",
        "\n",
        "for im_index in range(len(X_test)):\n",
        "  imag_lbp = X_test[im_index]\n",
        "  \n",
        "  # Extract LBP feature\n",
        "  histo = desc.LBPfeatures(imag_lbp)\n",
        "\n",
        "  data_test_nn_lbp.append(histo)\n",
        "  labels_test_nn_lbp.append(y_test[im_index])\n",
        "\n",
        "print(np.shape(data_test_nn_lbp))\n",
        "print(np.shape(labels_test_nn_lbp))"
      ],
      "execution_count": null,
      "outputs": [
        {
          "output_type": "stream",
          "text": [
            "Extracting features from test dataset...\n",
            "(10000, 26)\n",
            "(10000,)\n"
          ],
          "name": "stdout"
        }
      ]
    },
    {
      "cell_type": "code",
      "metadata": {
        "id": "9ZruNZ_OT6ft",
        "colab": {
          "base_uri": "https://localhost:8080/",
          "height": 35
        },
        "outputId": "54dd3510-5b3f-413f-dae3-9514adad8bdd"
      },
      "source": [
        "predictions_knn_lbp = clf_lbp.predict(data_test_nn_lbp)\n",
        "print(\"Test hot_knn Accuracy: {:.2f}\".format(clf_lbp.score(data_test_nn_lbp,labels_test_nn_lbp)))"
      ],
      "execution_count": null,
      "outputs": [
        {
          "output_type": "stream",
          "text": [
            "Test hot_knn Accuracy: 0.49\n"
          ],
          "name": "stdout"
        }
      ]
    },
    {
      "cell_type": "code",
      "metadata": {
        "id": "HQOMd_Pxd4u-",
        "colab": {
          "base_uri": "https://localhost:8080/",
          "height": 197
        },
        "outputId": "76f417cc-41e8-4da5-a739-97c956d6eb9b"
      },
      "source": [
        "print(metrics.confusion_matrix(labels_test_nn_lbp, predictions_knn_lbp))"
      ],
      "execution_count": null,
      "outputs": [
        {
          "output_type": "stream",
          "text": [
            "[[ 885    0   11   13    2   23   11   16    5   14]\n",
            " [   0 1103    7    2    0    2    1   18    2    0]\n",
            " [  23   12  450  158   67   58   57  111   79   17]\n",
            " [  22   20  227  291   50  103   53  126   98   20]\n",
            " [   4    7   87   72  443   53   79   41   41  155]\n",
            " [  61   18  166  188   91  180   43   83   30   32]\n",
            " [  36    8  189  111   90   65  195   52   97  115]\n",
            " [  18   77   97  119   45   96   47  489   17   23]\n",
            " [  32    4  129  111   40   45   92   12  460   49]\n",
            " [  48    9   38   71  196   51  139   36   64  357]]\n"
          ],
          "name": "stdout"
        }
      ]
    },
    {
      "cell_type": "markdown",
      "metadata": {
        "id": "BYSMOsEApvhh"
      },
      "source": [
        "##SVM"
      ]
    },
    {
      "cell_type": "markdown",
      "metadata": {
        "id": "VxNWQNR8I3wp"
      },
      "source": [
        "###SVM_RAW"
      ]
    },
    {
      "cell_type": "code",
      "metadata": {
        "id": "r2Ixur_MI3Ey",
        "colab": {
          "base_uri": "https://localhost:8080/",
          "height": 35
        },
        "outputId": "6198b260-f4ab-4fb3-8500-dd3d866b5291"
      },
      "source": [
        "model_svm_raw = svm.SVC(C=1.0, kernel='rbf') \n",
        "# Start training the SVM classifier \n",
        "model_svm_raw.fit(X_train_fla, y_train)\n",
        "\n",
        "print(\"Train set Accuracy: {:.2f}\".format(model_svm_raw.score(X_train_fla, y_train)))"
      ],
      "execution_count": null,
      "outputs": [
        {
          "output_type": "stream",
          "text": [
            "Train set Accuracy: 0.99\n"
          ],
          "name": "stdout"
        }
      ]
    },
    {
      "cell_type": "code",
      "metadata": {
        "id": "X0JGOBvWJj65",
        "colab": {
          "base_uri": "https://localhost:8080/",
          "height": 35
        },
        "outputId": "35af61e5-1213-41ae-d4d3-543805542aa1"
      },
      "source": [
        "predictions_svm_raw = model_svm_raw.predict(X_test_fla)\n",
        "accuracy_svm_raw = metrics.accuracy_score(y_test, predictions_svm_raw)\n",
        "print(\"Accuracy on test dataset:\",accuracy_svm_raw)"
      ],
      "execution_count": null,
      "outputs": [
        {
          "output_type": "stream",
          "text": [
            "Accuracy on test dataset: 0.9792\n"
          ],
          "name": "stdout"
        }
      ]
    },
    {
      "cell_type": "code",
      "metadata": {
        "id": "-y2payClbj8k",
        "colab": {
          "base_uri": "https://localhost:8080/",
          "height": 197
        },
        "outputId": "138628bd-4353-4a84-a260-7593b8cec28f"
      },
      "source": [
        "print(metrics.confusion_matrix(y_test, predictions_svm_raw))"
      ],
      "execution_count": null,
      "outputs": [
        {
          "output_type": "stream",
          "text": [
            "[[ 973    0    1    0    0    2    1    1    2    0]\n",
            " [   0 1126    3    1    0    1    1    1    2    0]\n",
            " [   6    1 1006    2    1    0    2    7    6    1]\n",
            " [   0    0    2  995    0    2    0    5    5    1]\n",
            " [   0    0    5    0  961    0    3    0    2   11]\n",
            " [   2    0    0    9    0  871    4    1    4    1]\n",
            " [   6    2    0    0    2    3  944    0    1    0]\n",
            " [   0    6   11    1    1    0    0  996    2   11]\n",
            " [   3    0    2    6    3    2    2    3  950    3]\n",
            " [   3    4    1    7   10    2    1    7    4  970]]\n"
          ],
          "name": "stdout"
        }
      ]
    },
    {
      "cell_type": "code",
      "metadata": {
        "id": "ryJa5ekR2Oku",
        "colab": {
          "base_uri": "https://localhost:8080/",
          "height": 526
        },
        "outputId": "b2722053-81be-4813-9d1c-978a7f5e5fa0"
      },
      "source": [
        "# Plot confusion matrix using seaborn library\n",
        "cm = metrics.confusion_matrix(y_test, predictions_svm_raw)\n",
        "plt.figure(figsize=(9,9))\n",
        "sns.heatmap(cm, annot=True, fmt=\".3f\", linewidths=.5, square = True, cmap = 'Blues_r');\n",
        "plt.ylabel('Actual label');\n",
        "plt.xlabel('Predicted label');\n",
        "all_sample_title = 'Accuracy Score: {0}'.format(accuracy_svm_raw)\n",
        "plt.title(all_sample_title, size = 15);"
      ],
      "execution_count": null,
      "outputs": [
        {
          "output_type": "display_data",
          "data": {
            "image/png": "[encoded data removed]",
            "text/plain": [
              "<Figure size 648x648 with 2 Axes>"
            ]
          },
          "metadata": {
            "tags": [],
            "needs_background": "light"
          }
        }
      ]
    },
    {
      "cell_type": "code",
      "metadata": {
        "id": "L5HTVRCudGcw",
        "colab": {
          "base_uri": "https://localhost:8080/",
          "height": 282
        },
        "outputId": "8dbcc595-52c8-46ba-9609-e2b22e671161"
      },
      "source": [
        "img_index = 18\n",
        "fig = plt.figure()\n",
        "ax1 = fig.add_subplot(2,2,1)\n",
        "ax1.axis('off')\n",
        "ax1.imshow(X_test[img_index])\n",
        "plt.title(predictions_svm_raw[img_index])\n",
        "\n",
        "ax2 = fig.add_subplot(2,2,2)\n",
        "ax2.axis('off')\n",
        "img_index = 555\n",
        "ax2.imshow(X_test[img_index])\n",
        "plt.title(predictions_svm_raw[img_index])\n",
        "\n",
        "ax3 = fig.add_subplot(2,2,3)\n",
        "ax3.axis('off')\n",
        "img_index = 1003\n",
        "ax3.imshow(X_test[img_index])\n",
        "plt.title(predictions_svm_raw[img_index])\n",
        "\n",
        "ax4 = fig.add_subplot(2,2,4)\n",
        "ax4.axis('off')\n",
        "img_index = 2334\n",
        "ax4.imshow(X_test[img_index])\n",
        "plt.title(predictions_svm_raw[img_index])\n"
      ],
      "execution_count": null,
      "outputs": [
        {
          "output_type": "execute_result",
          "data": {
            "text/plain": [
              "Text(0.5, 1.0, '7')"
            ]
          },
          "metadata": {
            "tags": []
          },
          "execution_count": 66
        },
        {
          "output_type": "display_data",
          "data": {
            "image/png": "[encoded data removed]",
            "text/plain": [
              "<Figure size 432x288 with 4 Axes>"
            ]
          },
          "metadata": {
            "tags": [],
            "needs_background": "light"
          }
        }
      ]
    },
    {
      "cell_type": "markdown",
      "metadata": {
        "id": "U-7mnK1hp2pE"
      },
      "source": [
        "###SVM_LBP"
      ]
    },
    {
      "cell_type": "code",
      "metadata": {
        "id": "aitTozJipzZj",
        "colab": {
          "base_uri": "https://localhost:8080/",
          "height": 53
        },
        "outputId": "1f0ac355-d15c-4d41-dd6a-8d82e19f388f"
      },
      "source": [
        "model_svm_lbp = svm.SVC(C=100.0, kernel='rbf', gamma=1/2) \n",
        "# Start training the SVM classifier \n",
        "model_svm_lbp.fit(data_train_lbp, labels_train_lbp)\n",
        "\n",
        "\n",
        "print(np.shape(data_train_lbp))\n",
        "print(np.shape(labels_train_lbp))"
      ],
      "execution_count": null,
      "outputs": [
        {
          "output_type": "stream",
          "text": [
            "(60000, 26)\n",
            "(60000,)\n"
          ],
          "name": "stdout"
        }
      ]
    },
    {
      "cell_type": "code",
      "metadata": {
        "id": "ff7zXz64qAUY",
        "colab": {
          "base_uri": "https://localhost:8080/",
          "height": 35
        },
        "outputId": "a50015fd-4619-4599-9d1d-c5744fde0e71"
      },
      "source": [
        "# Check the training accuray\n",
        "print(\"Train set Accuracy: {:.2f}\".format(model_svm_lbp.score(data_train_lbp,labels_train_lbp)))\n"
      ],
      "execution_count": null,
      "outputs": [
        {
          "output_type": "stream",
          "text": [
            "Train set Accuracy: 0.48\n"
          ],
          "name": "stdout"
        }
      ]
    },
    {
      "cell_type": "code",
      "metadata": {
        "id": "k7ltwXTHqEej"
      },
      "source": [
        "predictions_svm_lbp=[]\n",
        "predict_label_svm_lbp=[]\n",
        "# Exract LBP features for each test sample and classify it with the trained SVM classifier\n",
        "\n",
        "for im_index in range(len(X_test)):\n",
        "  imag_lbp = X_test[im_index]\n",
        "  \n",
        "  # Extract LBP feature\n",
        "  histo = desc.LBPfeatures(imag_lbp)\n",
        "  # Perform classification\n",
        "  prediction_svm_lbp = model_svm_lbp.predict(histo.reshape(1, -1))\n",
        "\n",
        "\n",
        "  \n",
        "  # Store the classfication result\n",
        "  predictions_svm_lbp.append(prediction_svm_lbp)\n",
        "  predict_label_svm_lbp.append(y_test[im_index])"
      ],
      "execution_count": null,
      "outputs": []
    },
    {
      "cell_type": "code",
      "metadata": {
        "id": "AoihpKYgqHrM",
        "colab": {
          "base_uri": "https://localhost:8080/",
          "height": 53
        },
        "outputId": "33481419-ad14-430d-c23c-08a8a811664b"
      },
      "source": [
        "print(len(predictions_svm_lbp))\n",
        "print(len(predict_label_svm_lbp))"
      ],
      "execution_count": null,
      "outputs": [
        {
          "output_type": "stream",
          "text": [
            "10000\n",
            "10000\n"
          ],
          "name": "stdout"
        }
      ]
    },
    {
      "cell_type": "code",
      "metadata": {
        "id": "UOZuugpMqJIW",
        "colab": {
          "base_uri": "https://localhost:8080/",
          "height": 35
        },
        "outputId": "9c800b9b-895e-4786-ea8a-ba1aa9ab664c"
      },
      "source": [
        "accuracy_svm_lbp = metrics.accuracy_score(y_test, predictions_svm_lbp)\n",
        "print(\"Accuracy on test dataset:\",accuracy_svm_lbp)"
      ],
      "execution_count": null,
      "outputs": [
        {
          "output_type": "stream",
          "text": [
            "Accuracy on test dataset: 0.5078\n"
          ],
          "name": "stdout"
        }
      ]
    },
    {
      "cell_type": "code",
      "metadata": {
        "id": "QqjbvmMQv2cS",
        "colab": {
          "base_uri": "https://localhost:8080/",
          "height": 338
        },
        "outputId": "6967cb7d-2255-4153-fcf9-8da88ce2cc9b"
      },
      "source": [
        "img_index = 13\n",
        "fig = plt.figure()\n",
        "ax1 = fig.add_subplot(2,2,1)\n",
        "ax1.axis('off')\n",
        "ax1.imshow(X_test[img_index])\n",
        "plt.title(predictions_svm_lbp[img_index])\n",
        "\n",
        "ax2 = fig.add_subplot(2,2,2)\n",
        "ax2.axis('off')\n",
        "img_index = 503\n",
        "ax2.imshow(X_test[img_index])\n",
        "plt.title(predictions_svm_lbp[img_index])\n",
        "\n",
        "ax3 = fig.add_subplot(2,2,3)\n",
        "ax3.axis('off')\n",
        "img_index = 1003\n",
        "ax3.imshow(X_test[img_index])\n",
        "plt.title(predictions_svm_lbp[img_index])\n",
        "\n",
        "ax4 = fig.add_subplot(2,2,4)\n",
        "ax4.axis('off')\n",
        "img_index = 3003\n",
        "ax4.imshow(X_test[img_index])\n",
        "plt.title(predictions_svm_lbp[img_index])\n"
      ],
      "execution_count": null,
      "outputs": [
        {
          "output_type": "stream",
          "text": [
            "/usr/local/lib/python3.6/dist-packages/matplotlib/text.py:1165: FutureWarning: elementwise comparison failed; returning scalar instead, but in the future will perform elementwise comparison\n",
            "  if s != self._text:\n"
          ],
          "name": "stderr"
        },
        {
          "output_type": "execute_result",
          "data": {
            "text/plain": [
              "Text(0.5, 1.0, '[1]')"
            ]
          },
          "metadata": {
            "tags": []
          },
          "execution_count": 54
        },
        {
          "output_type": "display_data",
          "data": {
            "image/png": "[encoded data removed]",
            "text/plain": [
              "<Figure size 432x288 with 4 Axes>"
            ]
          },
          "metadata": {
            "tags": [],
            "needs_background": "light"
          }
        }
      ]
    },
    {
      "cell_type": "markdown",
      "metadata": {
        "id": "nCowt1RLrIfw"
      },
      "source": [
        "###SVM_HOG"
      ]
    },
    {
      "cell_type": "code",
      "metadata": {
        "id": "nV7KO79ArNAj",
        "colab": {
          "base_uri": "https://localhost:8080/",
          "height": 89
        },
        "outputId": "6afa2ac6-9d5c-4050-ea57-135b24a142e8"
      },
      "source": [
        "model_svm_hog = svm.SVC(C=1.0, kernel='rbf')\n",
        "model_svm_hog.fit(data_train_hog, labels_train_hog)"
      ],
      "execution_count": null,
      "outputs": [
        {
          "output_type": "execute_result",
          "data": {
            "text/plain": [
              "SVC(C=1.0, break_ties=False, cache_size=200, class_weight=None, coef0=0.0,\n",
              "    decision_function_shape='ovr', degree=3, gamma='scale', kernel='rbf',\n",
              "    max_iter=-1, probability=False, random_state=None, shrinking=True,\n",
              "    tol=0.001, verbose=False)"
            ]
          },
          "metadata": {
            "tags": []
          },
          "execution_count": 60
        }
      ]
    },
    {
      "cell_type": "code",
      "metadata": {
        "id": "9grq6wv6rSc0",
        "colab": {
          "base_uri": "https://localhost:8080/",
          "height": 35
        },
        "outputId": "d6e88b06-9bea-4cc7-c55d-b3df31ffdf3f"
      },
      "source": [
        "print(\"Train set Accuracy: {:.2f}\".format(model_svm_hog.score(data_train_hog,labels_train_hog)))"
      ],
      "execution_count": null,
      "outputs": [
        {
          "output_type": "stream",
          "text": [
            "Train set Accuracy: 0.98\n"
          ],
          "name": "stdout"
        }
      ]
    },
    {
      "cell_type": "code",
      "metadata": {
        "id": "iIbGHxuJrW-j",
        "colab": {
          "base_uri": "https://localhost:8080/",
          "height": 71
        },
        "outputId": "8f1e788e-b901-4626-c17d-db3816f68c36"
      },
      "source": [
        "# initialize the data matrix and labels\n",
        "print(\"Extracting features from test dataset...\")\n",
        "predict_test_svm_hog = []\n",
        "labels_test_svm_hog = []\n",
        "data_test_svm_hog=[]\n",
        "# loop over the training images\n",
        "for img_ind in range(len(X_test)):\n",
        "  # load the image, and extract HOG features\n",
        "  \n",
        "  img_hog= X_test[img_ind]\n",
        "  H_test = feature.hog(img_hog,orientations=9, pixels_per_cell=(8,8), cells_per_block=(2,2),\\\n",
        "                  block_norm='L1', transform_sqrt=True) \n",
        "  # Hint: use same settings as used in training phase\n",
        "  \n",
        "  pred_svm_hog = model_svm_hog.predict(H_test.reshape(1, -1))[0] #将H变为一维的向量\n",
        "  # update the data and labels\n",
        "  predict_test_svm_hog.append(pred_svm_hog) #预测类别\n",
        "  data_test_svm_hog.append(H_test) #数据特征\n",
        "  \n",
        "  labels_test_svm_hog.append(y_test[img_ind])\n",
        "  \n",
        "  \n",
        "print(np.shape(predict_test_svm_hog))\n",
        "print(np.shape(labels_test_svm_hog))"
      ],
      "execution_count": null,
      "outputs": [
        {
          "output_type": "stream",
          "text": [
            "Extracting features from test dataset...\n",
            "(10000,)\n",
            "(10000,)\n"
          ],
          "name": "stdout"
        }
      ]
    },
    {
      "cell_type": "code",
      "metadata": {
        "id": "LroyiPkTraPF",
        "colab": {
          "base_uri": "https://localhost:8080/",
          "height": 35
        },
        "outputId": "385ca3ae-5ff0-44ea-b5fb-4ecdc80c3d06"
      },
      "source": [
        "# Test set Accuracy\n",
        "\n",
        "accuracy_svm_hog = metrics.accuracy_score(y_test, predict_test_svm_hog)\n",
        "print(\"Accuracy on test dataset:\",accuracy_svm_hog)\n"
      ],
      "execution_count": null,
      "outputs": [
        {
          "output_type": "stream",
          "text": [
            "Accuracy on test dataset: 0.9751\n"
          ],
          "name": "stdout"
        }
      ]
    },
    {
      "cell_type": "code",
      "metadata": {
        "id": "l1NhRmNlyOrq",
        "colab": {
          "base_uri": "https://localhost:8080/",
          "height": 282
        },
        "outputId": "37e14423-6529-4110-dbe5-f2684b2deedf"
      },
      "source": [
        "img_index = 13\n",
        "fig = plt.figure()\n",
        "ax1 = fig.add_subplot(2,2,1)\n",
        "ax1.axis('off')\n",
        "ax1.imshow(X_test[img_index])\n",
        "plt.title(labelNames[predict_test_svm_hog[img_index]])\n",
        "\n",
        "ax2 = fig.add_subplot(2,2,2)\n",
        "ax2.axis('off')\n",
        "img_index = 503\n",
        "ax2.imshow(X_test[img_index])\n",
        "plt.title(labelNames[predict_test_svm_hog[img_index]])\n",
        "\n",
        "ax3 = fig.add_subplot(2,2,3)\n",
        "ax3.axis('off')\n",
        "img_index = 1003\n",
        "ax3.imshow(X_test[img_index])\n",
        "plt.title(labelNames[predict_test_svm_hog[img_index]])\n",
        "\n",
        "ax4 = fig.add_subplot(2,2,4)\n",
        "ax4.axis('off')\n",
        "img_index = 3003\n",
        "ax4.imshow(X_test[img_index])\n",
        "plt.title(labelNames[predict_test_svm_hog[img_index]])\n"
      ],
      "execution_count": null,
      "outputs": [
        {
          "output_type": "execute_result",
          "data": {
            "text/plain": [
              "Text(0.5, 1.0, '1')"
            ]
          },
          "metadata": {
            "tags": []
          },
          "execution_count": 64
        },
        {
          "output_type": "display_data",
          "data": {
            "image/png": "[encoded data removed]",
            "text/plain": [
              "<Figure size 432x288 with 4 Axes>"
            ]
          },
          "metadata": {
            "tags": [],
            "needs_background": "light"
          }
        }
      ]
    },
    {
      "cell_type": "markdown",
      "metadata": {
        "id": "ExGVRR4sTsIP"
      },
      "source": [
        "##ANN"
      ]
    },
    {
      "cell_type": "markdown",
      "metadata": {
        "id": "LMaJ5OvTIpns"
      },
      "source": [
        "###ANN_RAW"
      ]
    },
    {
      "cell_type": "markdown",
      "metadata": {
        "id": "Ms8bO9SGLTGN"
      },
      "source": [
        "####ANN_RAW_ADAM"
      ]
    },
    {
      "cell_type": "code",
      "metadata": {
        "id": "iuYEyKXDIs_2"
      },
      "source": [
        "valid_images_nn_raw = X_train_fla[:5000]\n",
        "valid_labels_nn_raw = y_train[:5000]\n",
        "\n",
        "data_train_nn_raw = X_train_fla[5000:]\n",
        "labels_train_nn_raw = y_train[5000:]"
      ],
      "execution_count": null,
      "outputs": []
    },
    {
      "cell_type": "code",
      "metadata": {
        "id": "TqNjpEq8JEK8",
        "colab": {
          "base_uri": "https://localhost:8080/",
          "height": 89
        },
        "outputId": "6645eb24-4c04-48dd-a951-e7c264633b16"
      },
      "source": [
        "print(np.shape(data_train_nn_raw))\n",
        "print(np.shape(valid_images_nn_raw))\n",
        "print(data_train_nn_raw.dtype)\n",
        "print(labels_train_nn_raw.dtype)"
      ],
      "execution_count": null,
      "outputs": [
        {
          "output_type": "stream",
          "text": [
            "(55000, 784)\n",
            "(5000, 784)\n",
            "float64\n",
            "uint8\n"
          ],
          "name": "stdout"
        }
      ]
    },
    {
      "cell_type": "code",
      "metadata": {
        "id": "vdPDzoq5JKle"
      },
      "source": [
        "model_nn_raw = tf.keras.models.Sequential([tf.keras.layers.Flatten(input_shape=(784,)), \n",
        "                              tf.keras.layers.Dense(256, activation=tf.nn.relu),\\\n",
        "                              tf.keras.layers.Dense(256, activation=tf.nn.relu),\n",
        "                              tf.keras.layers.Dense(10, activation=tf.nn.softmax)])"
      ],
      "execution_count": null,
      "outputs": []
    },
    {
      "cell_type": "code",
      "metadata": {
        "id": "jVCLKTvPJMYV",
        "colab": {
          "base_uri": "https://localhost:8080/",
          "height": 1000
        },
        "outputId": "f37faf60-3fa5-4a8c-c64c-cd1a314922a8"
      },
      "source": [
        "model_nn_raw.compile(optimizer = tf.optimizers.Adam(),\n",
        "              loss = 'sparse_categorical_crossentropy',\n",
        "              metrics=['accuracy'])\n",
        "\n",
        "H_raw=model_nn_raw.fit(data_train_nn_raw, labels_train_nn_raw, epochs=100, validation_data=(valid_images_nn_raw, valid_labels_nn_raw))"
      ],
      "execution_count": null,
      "outputs": [
        {
          "output_type": "stream",
          "text": [
            "Epoch 1/100\n",
            "1719/1719 [==============================] - 6s 3ms/step - loss: 0.2050 - accuracy: 0.9380 - val_loss: 0.1019 - val_accuracy: 0.9702\n",
            "Epoch 2/100\n",
            "1719/1719 [==============================] - 6s 3ms/step - loss: 0.0834 - accuracy: 0.9734 - val_loss: 0.0824 - val_accuracy: 0.9752\n",
            "Epoch 3/100\n",
            "1719/1719 [==============================] - 6s 3ms/step - loss: 0.0578 - accuracy: 0.9814 - val_loss: 0.1025 - val_accuracy: 0.9710\n",
            "Epoch 4/100\n",
            "1719/1719 [==============================] - 6s 3ms/step - loss: 0.0438 - accuracy: 0.9856 - val_loss: 0.0769 - val_accuracy: 0.9780\n",
            "Epoch 5/100\n",
            "1719/1719 [==============================] - 6s 4ms/step - loss: 0.0361 - accuracy: 0.9882 - val_loss: 0.0697 - val_accuracy: 0.9794\n",
            "Epoch 6/100\n",
            "1719/1719 [==============================] - 7s 4ms/step - loss: 0.0284 - accuracy: 0.9910 - val_loss: 0.0758 - val_accuracy: 0.9798\n",
            "Epoch 7/100\n",
            "1719/1719 [==============================] - 6s 3ms/step - loss: 0.0252 - accuracy: 0.9923 - val_loss: 0.0727 - val_accuracy: 0.9816\n",
            "Epoch 8/100\n",
            "1719/1719 [==============================] - 6s 3ms/step - loss: 0.0204 - accuracy: 0.9936 - val_loss: 0.0922 - val_accuracy: 0.9792\n",
            "Epoch 9/100\n",
            "1719/1719 [==============================] - 6s 3ms/step - loss: 0.0204 - accuracy: 0.9931 - val_loss: 0.0831 - val_accuracy: 0.9794\n",
            "Epoch 10/100\n",
            "1719/1719 [==============================] - 6s 3ms/step - loss: 0.0180 - accuracy: 0.9941 - val_loss: 0.0816 - val_accuracy: 0.9804\n",
            "Epoch 11/100\n",
            "1719/1719 [==============================] - 6s 3ms/step - loss: 0.0139 - accuracy: 0.9954 - val_loss: 0.0894 - val_accuracy: 0.9790\n",
            "Epoch 12/100\n",
            "1719/1719 [==============================] - 6s 3ms/step - loss: 0.0169 - accuracy: 0.9947 - val_loss: 0.0874 - val_accuracy: 0.9814\n",
            "Epoch 13/100\n",
            "1719/1719 [==============================] - 6s 3ms/step - loss: 0.0119 - accuracy: 0.9959 - val_loss: 0.1017 - val_accuracy: 0.9796\n",
            "Epoch 14/100\n",
            "1719/1719 [==============================] - 6s 3ms/step - loss: 0.0137 - accuracy: 0.9959 - val_loss: 0.1071 - val_accuracy: 0.9812\n",
            "Epoch 15/100\n",
            "1719/1719 [==============================] - 6s 3ms/step - loss: 0.0120 - accuracy: 0.9964 - val_loss: 0.0910 - val_accuracy: 0.9842\n",
            "Epoch 16/100\n",
            "1719/1719 [==============================] - 6s 3ms/step - loss: 0.0121 - accuracy: 0.9966 - val_loss: 0.1209 - val_accuracy: 0.9812\n",
            "Epoch 17/100\n",
            "1719/1719 [==============================] - 6s 3ms/step - loss: 0.0093 - accuracy: 0.9973 - val_loss: 0.1150 - val_accuracy: 0.9786\n",
            "Epoch 18/100\n",
            "1719/1719 [==============================] - 6s 3ms/step - loss: 0.0134 - accuracy: 0.9962 - val_loss: 0.1218 - val_accuracy: 0.9822\n",
            "Epoch 19/100\n",
            "1719/1719 [==============================] - 6s 3ms/step - loss: 0.0104 - accuracy: 0.9967 - val_loss: 0.1278 - val_accuracy: 0.9792\n",
            "Epoch 20/100\n",
            "1719/1719 [==============================] - 6s 3ms/step - loss: 0.0110 - accuracy: 0.9964 - val_loss: 0.1232 - val_accuracy: 0.9824\n",
            "Epoch 21/100\n",
            "1719/1719 [==============================] - 6s 3ms/step - loss: 0.0072 - accuracy: 0.9978 - val_loss: 0.1330 - val_accuracy: 0.9818\n",
            "Epoch 22/100\n",
            "1719/1719 [==============================] - 6s 3ms/step - loss: 0.0109 - accuracy: 0.9970 - val_loss: 0.1292 - val_accuracy: 0.9808\n",
            "Epoch 23/100\n",
            "1719/1719 [==============================] - 6s 3ms/step - loss: 0.0111 - accuracy: 0.9971 - val_loss: 0.1456 - val_accuracy: 0.9814\n",
            "Epoch 24/100\n",
            "1719/1719 [==============================] - 6s 3ms/step - loss: 0.0095 - accuracy: 0.9970 - val_loss: 0.1215 - val_accuracy: 0.9836\n",
            "Epoch 25/100\n",
            "1719/1719 [==============================] - 6s 3ms/step - loss: 0.0076 - accuracy: 0.9978 - val_loss: 0.1297 - val_accuracy: 0.9838\n",
            "Epoch 26/100\n",
            "1719/1719 [==============================] - 6s 3ms/step - loss: 0.0072 - accuracy: 0.9982 - val_loss: 0.1362 - val_accuracy: 0.9838\n",
            "Epoch 27/100\n",
            "1719/1719 [==============================] - 6s 3ms/step - loss: 0.0148 - accuracy: 0.9964 - val_loss: 0.1110 - val_accuracy: 0.9870\n",
            "Epoch 28/100\n",
            "1719/1719 [==============================] - 6s 3ms/step - loss: 0.0068 - accuracy: 0.9982 - val_loss: 0.1333 - val_accuracy: 0.9846\n",
            "Epoch 29/100\n",
            "1719/1719 [==============================] - 6s 3ms/step - loss: 0.0073 - accuracy: 0.9978 - val_loss: 0.1373 - val_accuracy: 0.9834\n",
            "Epoch 30/100\n",
            "1719/1719 [==============================] - 6s 3ms/step - loss: 0.0100 - accuracy: 0.9974 - val_loss: 0.1597 - val_accuracy: 0.9824\n",
            "Epoch 31/100\n",
            "1719/1719 [==============================] - 6s 3ms/step - loss: 0.0088 - accuracy: 0.9977 - val_loss: 0.1537 - val_accuracy: 0.9824\n",
            "Epoch 32/100\n",
            "1719/1719 [==============================] - 6s 3ms/step - loss: 0.0078 - accuracy: 0.9982 - val_loss: 0.1365 - val_accuracy: 0.9826\n",
            "Epoch 33/100\n",
            "1719/1719 [==============================] - 6s 3ms/step - loss: 0.0113 - accuracy: 0.9975 - val_loss: 0.1503 - val_accuracy: 0.9830\n",
            "Epoch 34/100\n",
            "1719/1719 [==============================] - 6s 3ms/step - loss: 0.0054 - accuracy: 0.9986 - val_loss: 0.1645 - val_accuracy: 0.9806\n",
            "Epoch 35/100\n",
            "1719/1719 [==============================] - 6s 3ms/step - loss: 0.0086 - accuracy: 0.9981 - val_loss: 0.1733 - val_accuracy: 0.9838\n",
            "Epoch 36/100\n",
            "1719/1719 [==============================] - 6s 3ms/step - loss: 0.0110 - accuracy: 0.9976 - val_loss: 0.1918 - val_accuracy: 0.9828\n",
            "Epoch 37/100\n",
            "1719/1719 [==============================] - 6s 3ms/step - loss: 0.0084 - accuracy: 0.9979 - val_loss: 0.1572 - val_accuracy: 0.9822\n",
            "Epoch 38/100\n",
            "1719/1719 [==============================] - 6s 3ms/step - loss: 0.0054 - accuracy: 0.9987 - val_loss: 0.2037 - val_accuracy: 0.9804\n",
            "Epoch 39/100\n",
            "1719/1719 [==============================] - 6s 3ms/step - loss: 0.0088 - accuracy: 0.9980 - val_loss: 0.1868 - val_accuracy: 0.9824\n",
            "Epoch 40/100\n",
            "1719/1719 [==============================] - 6s 3ms/step - loss: 0.0089 - accuracy: 0.9979 - val_loss: 0.1946 - val_accuracy: 0.9826\n",
            "Epoch 41/100\n",
            "1719/1719 [==============================] - 6s 3ms/step - loss: 0.0050 - accuracy: 0.9986 - val_loss: 0.1836 - val_accuracy: 0.9808\n",
            "Epoch 42/100\n",
            "1719/1719 [==============================] - 6s 3ms/step - loss: 0.0072 - accuracy: 0.9984 - val_loss: 0.1493 - val_accuracy: 0.9860\n",
            "Epoch 43/100\n",
            "1719/1719 [==============================] - 6s 3ms/step - loss: 0.0099 - accuracy: 0.9977 - val_loss: 0.1962 - val_accuracy: 0.9816\n",
            "Epoch 44/100\n",
            "1719/1719 [==============================] - 6s 3ms/step - loss: 0.0079 - accuracy: 0.9984 - val_loss: 0.1478 - val_accuracy: 0.9862\n",
            "Epoch 45/100\n",
            "1719/1719 [==============================] - 6s 3ms/step - loss: 0.0088 - accuracy: 0.9981 - val_loss: 0.1742 - val_accuracy: 0.9834\n",
            "Epoch 46/100\n",
            "1719/1719 [==============================] - 6s 3ms/step - loss: 0.0068 - accuracy: 0.9987 - val_loss: 0.2176 - val_accuracy: 0.9818\n",
            "Epoch 47/100\n",
            "1719/1719 [==============================] - 6s 3ms/step - loss: 0.0053 - accuracy: 0.9988 - val_loss: 0.1981 - val_accuracy: 0.9834\n",
            "Epoch 48/100\n",
            "1719/1719 [==============================] - 6s 3ms/step - loss: 0.0083 - accuracy: 0.9983 - val_loss: 0.2588 - val_accuracy: 0.9814\n",
            "Epoch 49/100\n",
            "1719/1719 [==============================] - 6s 3ms/step - loss: 0.0091 - accuracy: 0.9982 - val_loss: 0.1901 - val_accuracy: 0.9834\n",
            "Epoch 50/100\n",
            "1719/1719 [==============================] - 6s 3ms/step - loss: 0.0084 - accuracy: 0.9982 - val_loss: 0.2103 - val_accuracy: 0.9828\n",
            "Epoch 51/100\n",
            "1719/1719 [==============================] - 6s 3ms/step - loss: 0.0077 - accuracy: 0.9987 - val_loss: 0.1819 - val_accuracy: 0.9850\n",
            "Epoch 52/100\n",
            "1719/1719 [==============================] - 6s 3ms/step - loss: 0.0063 - accuracy: 0.9984 - val_loss: 0.2347 - val_accuracy: 0.9822\n",
            "Epoch 53/100\n",
            "1719/1719 [==============================] - 6s 3ms/step - loss: 0.0074 - accuracy: 0.9985 - val_loss: 0.2080 - val_accuracy: 0.9832\n",
            "Epoch 54/100\n",
            "1719/1719 [==============================] - 6s 3ms/step - loss: 0.0051 - accuracy: 0.9989 - val_loss: 0.1920 - val_accuracy: 0.9838\n",
            "Epoch 55/100\n",
            "1719/1719 [==============================] - 6s 3ms/step - loss: 0.0084 - accuracy: 0.9985 - val_loss: 0.1860 - val_accuracy: 0.9834\n",
            "Epoch 56/100\n",
            "1719/1719 [==============================] - 6s 3ms/step - loss: 0.0088 - accuracy: 0.9983 - val_loss: 0.2514 - val_accuracy: 0.9832\n",
            "Epoch 57/100\n",
            "1719/1719 [==============================] - 6s 3ms/step - loss: 0.0062 - accuracy: 0.9986 - val_loss: 0.2436 - val_accuracy: 0.9812\n",
            "Epoch 58/100\n",
            "1719/1719 [==============================] - 6s 3ms/step - loss: 0.0067 - accuracy: 0.9985 - val_loss: 0.2513 - val_accuracy: 0.9810\n",
            "Epoch 59/100\n",
            "1719/1719 [==============================] - 6s 4ms/step - loss: 0.0071 - accuracy: 0.9986 - val_loss: 0.2507 - val_accuracy: 0.9816\n",
            "Epoch 60/100\n",
            "1719/1719 [==============================] - 6s 4ms/step - loss: 0.0070 - accuracy: 0.9987 - val_loss: 0.2420 - val_accuracy: 0.9834\n",
            "Epoch 61/100\n",
            "1719/1719 [==============================] - 6s 3ms/step - loss: 0.0082 - accuracy: 0.9985 - val_loss: 0.2291 - val_accuracy: 0.9828\n",
            "Epoch 62/100\n",
            "1719/1719 [==============================] - 6s 3ms/step - loss: 0.0073 - accuracy: 0.9988 - val_loss: 0.2663 - val_accuracy: 0.9824\n",
            "Epoch 63/100\n",
            "1719/1719 [==============================] - 6s 3ms/step - loss: 0.0089 - accuracy: 0.9985 - val_loss: 0.2258 - val_accuracy: 0.9830\n",
            "Epoch 64/100\n",
            "1719/1719 [==============================] - 6s 3ms/step - loss: 0.0068 - accuracy: 0.9988 - val_loss: 0.2193 - val_accuracy: 0.9820\n",
            "Epoch 65/100\n",
            "1719/1719 [==============================] - 6s 3ms/step - loss: 0.0029 - accuracy: 0.9994 - val_loss: 0.2219 - val_accuracy: 0.9814\n",
            "Epoch 66/100\n",
            "1719/1719 [==============================] - 6s 3ms/step - loss: 0.0043 - accuracy: 0.9992 - val_loss: 0.2921 - val_accuracy: 0.9818\n",
            "Epoch 67/100\n",
            "1719/1719 [==============================] - 6s 3ms/step - loss: 0.0085 - accuracy: 0.9984 - val_loss: 0.2789 - val_accuracy: 0.9818\n",
            "Epoch 68/100\n",
            "1719/1719 [==============================] - 6s 3ms/step - loss: 0.0074 - accuracy: 0.9987 - val_loss: 0.2503 - val_accuracy: 0.9850\n",
            "Epoch 69/100\n",
            "1719/1719 [==============================] - 6s 3ms/step - loss: 0.0069 - accuracy: 0.9990 - val_loss: 0.2490 - val_accuracy: 0.9828\n",
            "Epoch 70/100\n",
            "1719/1719 [==============================] - 6s 3ms/step - loss: 0.0049 - accuracy: 0.9991 - val_loss: 0.2571 - val_accuracy: 0.9846\n",
            "Epoch 71/100\n",
            "1719/1719 [==============================] - 6s 3ms/step - loss: 0.0055 - accuracy: 0.9991 - val_loss: 0.2599 - val_accuracy: 0.9842\n",
            "Epoch 72/100\n",
            "1719/1719 [==============================] - 6s 3ms/step - loss: 0.0063 - accuracy: 0.9988 - val_loss: 0.2318 - val_accuracy: 0.9832\n",
            "Epoch 73/100\n",
            "1719/1719 [==============================] - 6s 3ms/step - loss: 0.0117 - accuracy: 0.9983 - val_loss: 0.2828 - val_accuracy: 0.9820\n",
            "Epoch 74/100\n",
            "1719/1719 [==============================] - 6s 3ms/step - loss: 0.0042 - accuracy: 0.9989 - val_loss: 0.2908 - val_accuracy: 0.9818\n",
            "Epoch 75/100\n",
            "1719/1719 [==============================] - 6s 3ms/step - loss: 0.0097 - accuracy: 0.9984 - val_loss: 0.2578 - val_accuracy: 0.9848\n",
            "Epoch 76/100\n",
            "1719/1719 [==============================] - 6s 3ms/step - loss: 0.0031 - accuracy: 0.9993 - val_loss: 0.2983 - val_accuracy: 0.9822\n",
            "Epoch 77/100\n",
            "1719/1719 [==============================] - 6s 3ms/step - loss: 0.0093 - accuracy: 0.9984 - val_loss: 0.3095 - val_accuracy: 0.9824\n",
            "Epoch 78/100\n",
            "1719/1719 [==============================] - 6s 3ms/step - loss: 0.0032 - accuracy: 0.9993 - val_loss: 0.2957 - val_accuracy: 0.9822\n",
            "Epoch 79/100\n",
            "1719/1719 [==============================] - 6s 3ms/step - loss: 0.0091 - accuracy: 0.9985 - val_loss: 0.2906 - val_accuracy: 0.9826\n",
            "Epoch 80/100\n",
            "1719/1719 [==============================] - 6s 3ms/step - loss: 0.0036 - accuracy: 0.9993 - val_loss: 0.3143 - val_accuracy: 0.9830\n",
            "Epoch 81/100\n",
            "1719/1719 [==============================] - 6s 3ms/step - loss: 0.0093 - accuracy: 0.9988 - val_loss: 0.2506 - val_accuracy: 0.9846\n",
            "Epoch 82/100\n",
            "1719/1719 [==============================] - 6s 3ms/step - loss: 0.0051 - accuracy: 0.9990 - val_loss: 0.3098 - val_accuracy: 0.9838\n",
            "Epoch 83/100\n",
            "1719/1719 [==============================] - 6s 3ms/step - loss: 0.0087 - accuracy: 0.9990 - val_loss: 0.2848 - val_accuracy: 0.9826\n",
            "Epoch 84/100\n",
            "1719/1719 [==============================] - 6s 3ms/step - loss: 0.0057 - accuracy: 0.9991 - val_loss: 0.2954 - val_accuracy: 0.9844\n",
            "Epoch 85/100\n",
            "1719/1719 [==============================] - 6s 3ms/step - loss: 0.0082 - accuracy: 0.9989 - val_loss: 0.2965 - val_accuracy: 0.9846\n",
            "Epoch 86/100\n",
            "1719/1719 [==============================] - 6s 3ms/step - loss: 0.0065 - accuracy: 0.9989 - val_loss: 0.3286 - val_accuracy: 0.9828\n",
            "Epoch 87/100\n",
            "1719/1719 [==============================] - 6s 3ms/step - loss: 0.0034 - accuracy: 0.9994 - val_loss: 0.2768 - val_accuracy: 0.9864\n",
            "Epoch 88/100\n",
            "1719/1719 [==============================] - 6s 3ms/step - loss: 0.0068 - accuracy: 0.9990 - val_loss: 0.3093 - val_accuracy: 0.9834\n",
            "Epoch 89/100\n",
            "1719/1719 [==============================] - 6s 3ms/step - loss: 0.0066 - accuracy: 0.9990 - val_loss: 0.4054 - val_accuracy: 0.9794\n",
            "Epoch 90/100\n",
            "1719/1719 [==============================] - 6s 3ms/step - loss: 0.0089 - accuracy: 0.9987 - val_loss: 0.2760 - val_accuracy: 0.9850\n",
            "Epoch 91/100\n",
            "1719/1719 [==============================] - 6s 3ms/step - loss: 0.0077 - accuracy: 0.9990 - val_loss: 0.3405 - val_accuracy: 0.9804\n",
            "Epoch 92/100\n",
            "1719/1719 [==============================] - 6s 3ms/step - loss: 0.0051 - accuracy: 0.9993 - val_loss: 0.3109 - val_accuracy: 0.9834\n",
            "Epoch 93/100\n",
            "1719/1719 [==============================] - 6s 3ms/step - loss: 0.0061 - accuracy: 0.9990 - val_loss: 0.3518 - val_accuracy: 0.9824\n",
            "Epoch 94/100\n",
            "1719/1719 [==============================] - 6s 3ms/step - loss: 0.0080 - accuracy: 0.9989 - val_loss: 0.3119 - val_accuracy: 0.9832\n",
            "Epoch 95/100\n",
            "1719/1719 [==============================] - 6s 3ms/step - loss: 0.0042 - accuracy: 0.9993 - val_loss: 0.2805 - val_accuracy: 0.9858\n",
            "Epoch 96/100\n",
            "1719/1719 [==============================] - 6s 3ms/step - loss: 0.0081 - accuracy: 0.9989 - val_loss: 0.4154 - val_accuracy: 0.9828\n",
            "Epoch 97/100\n",
            "1719/1719 [==============================] - 6s 3ms/step - loss: 0.0059 - accuracy: 0.9992 - val_loss: 0.3431 - val_accuracy: 0.9860\n",
            "Epoch 98/100\n",
            "1719/1719 [==============================] - 6s 3ms/step - loss: 0.0072 - accuracy: 0.9991 - val_loss: 0.3521 - val_accuracy: 0.9852\n",
            "Epoch 99/100\n",
            "1719/1719 [==============================] - 6s 3ms/step - loss: 0.0094 - accuracy: 0.9988 - val_loss: 0.3264 - val_accuracy: 0.9846\n",
            "Epoch 100/100\n",
            "1719/1719 [==============================] - 6s 3ms/step - loss: 0.0061 - accuracy: 0.9992 - val_loss: 0.3227 - val_accuracy: 0.9834\n"
          ],
          "name": "stdout"
        }
      ]
    },
    {
      "cell_type": "code",
      "metadata": {
        "id": "jDhRE3WaJb3t",
        "colab": {
          "base_uri": "https://localhost:8080/",
          "height": 53
        },
        "outputId": "4c3eaf1f-7946-4884-d412-7a7afe6ef32f"
      },
      "source": [
        "model_nn_raw.evaluate(X_test_fla, y_test)"
      ],
      "execution_count": null,
      "outputs": [
        {
          "output_type": "stream",
          "text": [
            "313/313 [==============================] - 0s 1ms/step - loss: 0.4118 - accuracy: 0.9809\n"
          ],
          "name": "stdout"
        },
        {
          "output_type": "execute_result",
          "data": {
            "text/plain": [
              "[0.4118165373802185, 0.98089998960495]"
            ]
          },
          "metadata": {
            "tags": []
          },
          "execution_count": 53
        }
      ]
    },
    {
      "cell_type": "code",
      "metadata": {
        "id": "HZVmKSiSUyhZ",
        "colab": {
          "base_uri": "https://localhost:8080/",
          "height": 602
        },
        "outputId": "786e30af-d12e-419e-8f69-152e11b15beb"
      },
      "source": [
        "## Plot the learning curves \n",
        "import pandas as pd\n",
        "import matplotlib.pyplot as plt\n",
        "pd.DataFrame(H_raw.history).plot(figsize=(8, 5))\n",
        "plt.grid(True)\n",
        "plt.gca().set_ylim(0, 1) # set the vertical range to [0-1]\n",
        "plt.show()\n",
        "\n",
        "## Plot only the loss train loss\n",
        "plt.plot(H_raw.history['loss'])\n",
        "plt.ylabel('cost')\n",
        "plt.xlabel('Epochs')\n",
        "plt.title(\"Cost/Loss Curve\")\n",
        "plt.show()"
      ],
      "execution_count": null,
      "outputs": [
        {
          "output_type": "display_data",
          "data": {
            "image/png": "[encoded data removed]",
            "text/plain": [
              "<Figure size 576x360 with 1 Axes>"
            ]
          },
          "metadata": {
            "tags": [],
            "needs_background": "light"
          }
        },
        {
          "output_type": "display_data",
          "data": {
            "image/png": "[encoded data removed]",
            "text/plain": [
              "<Figure size 432x288 with 1 Axes>"
            ]
          },
          "metadata": {
            "tags": [],
            "needs_background": "light"
          }
        }
      ]
    },
    {
      "cell_type": "code",
      "metadata": {
        "id": "dBTAi38Tdnz7",
        "colab": {
          "base_uri": "https://localhost:8080/",
          "height": 305
        },
        "outputId": "8520d326-958d-42f7-93cb-628701458648"
      },
      "source": [
        "model_nn_raw.summary()"
      ],
      "execution_count": null,
      "outputs": [
        {
          "output_type": "stream",
          "text": [
            "Model: \"sequential_8\"\n",
            "_________________________________________________________________\n",
            "Layer (type)                 Output Shape              Param #   \n",
            "=================================================================\n",
            "flatten_8 (Flatten)          (None, 784)               0         \n",
            "_________________________________________________________________\n",
            "dense_21 (Dense)             (None, 256)               200960    \n",
            "_________________________________________________________________\n",
            "dense_22 (Dense)             (None, 256)               65792     \n",
            "_________________________________________________________________\n",
            "dense_23 (Dense)             (None, 10)                2570      \n",
            "=================================================================\n",
            "Total params: 269,322\n",
            "Trainable params: 269,322\n",
            "Non-trainable params: 0\n",
            "_________________________________________________________________\n"
          ],
          "name": "stdout"
        }
      ]
    },
    {
      "cell_type": "markdown",
      "metadata": {
        "id": "P6L7bmPZLbaB"
      },
      "source": [
        "####ANN_RAW_SGD"
      ]
    },
    {
      "cell_type": "code",
      "metadata": {
        "id": "lSGlTdyPjOTY"
      },
      "source": [
        "model_nn_raw_sgd = tf.keras.models.Sequential([tf.keras.layers.Flatten(input_shape=[28,28]), \n",
        "                              tf.keras.layers.Dense(128, activation=tf.nn.relu), tf.keras.layers.Dense(128, activation=tf.nn.relu),\n",
        "                              tf.keras.layers.Dense(10, activation=tf.nn.softmax)])"
      ],
      "execution_count": null,
      "outputs": []
    },
    {
      "cell_type": "code",
      "metadata": {
        "id": "sf5oukziVM_l",
        "colab": {
          "base_uri": "https://localhost:8080/",
          "height": 1000
        },
        "outputId": "2f3ecea5-4ee5-4639-c338-88b29c0261fb"
      },
      "source": [
        "model_nn_raw_sgd.compile(optimizer = tf.optimizers.SGD(0.001),\n",
        "              loss = 'sparse_categorical_crossentropy',\n",
        "              metrics=['accuracy'])\n",
        "\n",
        "H_raw_sgd=model_nn_raw_sgd.fit(data_train_nn_raw, labels_train_nn_raw, epochs=100, validation_data=(valid_images_nn_raw, valid_labels_nn_raw))"
      ],
      "execution_count": null,
      "outputs": [
        {
          "output_type": "stream",
          "text": [
            "Epoch 1/100\n",
            "WARNING:tensorflow:Model was constructed with shape (None, 28, 28) for input Tensor(\"flatten_6_input:0\", shape=(None, 28, 28), dtype=float32), but it was called on an input with incompatible shape (None, 784).\n",
            "WARNING:tensorflow:Model was constructed with shape (None, 28, 28) for input Tensor(\"flatten_6_input:0\", shape=(None, 28, 28), dtype=float32), but it was called on an input with incompatible shape (None, 784).\n",
            "1707/1719 [============================>.] - ETA: 0s - loss: 1.8228 - accuracy: 0.5008WARNING:tensorflow:Model was constructed with shape (None, 28, 28) for input Tensor(\"flatten_6_input:0\", shape=(None, 28, 28), dtype=float32), but it was called on an input with incompatible shape (None, 784).\n",
            "1719/1719 [==============================] - 3s 2ms/step - loss: 1.8194 - accuracy: 0.5020 - val_loss: 1.3081 - val_accuracy: 0.7208\n",
            "Epoch 2/100\n",
            "1719/1719 [==============================] - 3s 2ms/step - loss: 0.9934 - accuracy: 0.7801 - val_loss: 0.7574 - val_accuracy: 0.8196\n",
            "Epoch 3/100\n",
            "1719/1719 [==============================] - 3s 2ms/step - loss: 0.6623 - accuracy: 0.8384 - val_loss: 0.5633 - val_accuracy: 0.8586\n",
            "Epoch 4/100\n",
            "1719/1719 [==============================] - 4s 2ms/step - loss: 0.5315 - accuracy: 0.8634 - val_loss: 0.4720 - val_accuracy: 0.8782\n",
            "Epoch 5/100\n",
            "1719/1719 [==============================] - 4s 2ms/step - loss: 0.4636 - accuracy: 0.8767 - val_loss: 0.4194 - val_accuracy: 0.8888\n",
            "Epoch 6/100\n",
            "1719/1719 [==============================] - 4s 2ms/step - loss: 0.4217 - accuracy: 0.8862 - val_loss: 0.3847 - val_accuracy: 0.8962\n",
            "Epoch 7/100\n",
            "1719/1719 [==============================] - 3s 2ms/step - loss: 0.3932 - accuracy: 0.8926 - val_loss: 0.3614 - val_accuracy: 0.9024\n",
            "Epoch 8/100\n",
            "1719/1719 [==============================] - 3s 2ms/step - loss: 0.3722 - accuracy: 0.8973 - val_loss: 0.3413 - val_accuracy: 0.9052\n",
            "Epoch 9/100\n",
            "1719/1719 [==============================] - 3s 2ms/step - loss: 0.3558 - accuracy: 0.9012 - val_loss: 0.3275 - val_accuracy: 0.9090\n",
            "Epoch 10/100\n",
            "1719/1719 [==============================] - 3s 2ms/step - loss: 0.3424 - accuracy: 0.9042 - val_loss: 0.3161 - val_accuracy: 0.9130\n",
            "Epoch 11/100\n",
            "1719/1719 [==============================] - 3s 2ms/step - loss: 0.3313 - accuracy: 0.9073 - val_loss: 0.3054 - val_accuracy: 0.9140\n",
            "Epoch 12/100\n",
            "1719/1719 [==============================] - 3s 2ms/step - loss: 0.3215 - accuracy: 0.9095 - val_loss: 0.2968 - val_accuracy: 0.9170\n",
            "Epoch 13/100\n",
            "1719/1719 [==============================] - 3s 2ms/step - loss: 0.3129 - accuracy: 0.9117 - val_loss: 0.2888 - val_accuracy: 0.9202\n",
            "Epoch 14/100\n",
            "1719/1719 [==============================] - 4s 2ms/step - loss: 0.3051 - accuracy: 0.9139 - val_loss: 0.2823 - val_accuracy: 0.9202\n",
            "Epoch 15/100\n",
            "1719/1719 [==============================] - 4s 2ms/step - loss: 0.2980 - accuracy: 0.9160 - val_loss: 0.2750 - val_accuracy: 0.9234\n",
            "Epoch 16/100\n",
            "1719/1719 [==============================] - 3s 2ms/step - loss: 0.2913 - accuracy: 0.9176 - val_loss: 0.2697 - val_accuracy: 0.9256\n",
            "Epoch 17/100\n",
            "1719/1719 [==============================] - 3s 2ms/step - loss: 0.2853 - accuracy: 0.9189 - val_loss: 0.2636 - val_accuracy: 0.9268\n",
            "Epoch 18/100\n",
            "1719/1719 [==============================] - 3s 2ms/step - loss: 0.2796 - accuracy: 0.9207 - val_loss: 0.2588 - val_accuracy: 0.9274\n",
            "Epoch 19/100\n",
            "1719/1719 [==============================] - 3s 2ms/step - loss: 0.2741 - accuracy: 0.9222 - val_loss: 0.2539 - val_accuracy: 0.9282\n",
            "Epoch 20/100\n",
            "1719/1719 [==============================] - 3s 2ms/step - loss: 0.2690 - accuracy: 0.9230 - val_loss: 0.2496 - val_accuracy: 0.9292\n",
            "Epoch 21/100\n",
            "1719/1719 [==============================] - 3s 2ms/step - loss: 0.2641 - accuracy: 0.9244 - val_loss: 0.2446 - val_accuracy: 0.9300\n",
            "Epoch 22/100\n",
            "1719/1719 [==============================] - 3s 2ms/step - loss: 0.2593 - accuracy: 0.9267 - val_loss: 0.2409 - val_accuracy: 0.9316\n",
            "Epoch 23/100\n",
            "1719/1719 [==============================] - 3s 2ms/step - loss: 0.2549 - accuracy: 0.9274 - val_loss: 0.2369 - val_accuracy: 0.9322\n",
            "Epoch 24/100\n",
            "1719/1719 [==============================] - 3s 2ms/step - loss: 0.2504 - accuracy: 0.9287 - val_loss: 0.2327 - val_accuracy: 0.9338\n",
            "Epoch 25/100\n",
            "1719/1719 [==============================] - 3s 2ms/step - loss: 0.2463 - accuracy: 0.9302 - val_loss: 0.2291 - val_accuracy: 0.9354\n",
            "Epoch 26/100\n",
            "1719/1719 [==============================] - 3s 2ms/step - loss: 0.2423 - accuracy: 0.9311 - val_loss: 0.2256 - val_accuracy: 0.9364\n",
            "Epoch 27/100\n",
            "1719/1719 [==============================] - 3s 2ms/step - loss: 0.2384 - accuracy: 0.9320 - val_loss: 0.2224 - val_accuracy: 0.9376\n",
            "Epoch 28/100\n",
            "1719/1719 [==============================] - 3s 2ms/step - loss: 0.2345 - accuracy: 0.9335 - val_loss: 0.2193 - val_accuracy: 0.9376\n",
            "Epoch 29/100\n",
            "1719/1719 [==============================] - 3s 2ms/step - loss: 0.2308 - accuracy: 0.9342 - val_loss: 0.2159 - val_accuracy: 0.9390\n",
            "Epoch 30/100\n",
            "1719/1719 [==============================] - 3s 2ms/step - loss: 0.2273 - accuracy: 0.9352 - val_loss: 0.2128 - val_accuracy: 0.9400\n",
            "Epoch 31/100\n",
            "1719/1719 [==============================] - 3s 2ms/step - loss: 0.2239 - accuracy: 0.9368 - val_loss: 0.2095 - val_accuracy: 0.9410\n",
            "Epoch 32/100\n",
            "1719/1719 [==============================] - 3s 2ms/step - loss: 0.2205 - accuracy: 0.9377 - val_loss: 0.2065 - val_accuracy: 0.9418\n",
            "Epoch 33/100\n",
            "1719/1719 [==============================] - 4s 2ms/step - loss: 0.2174 - accuracy: 0.9383 - val_loss: 0.2044 - val_accuracy: 0.9434\n",
            "Epoch 34/100\n",
            "1719/1719 [==============================] - 3s 2ms/step - loss: 0.2141 - accuracy: 0.9396 - val_loss: 0.2013 - val_accuracy: 0.9436\n",
            "Epoch 35/100\n",
            "1719/1719 [==============================] - 3s 2ms/step - loss: 0.2111 - accuracy: 0.9406 - val_loss: 0.1983 - val_accuracy: 0.9440\n",
            "Epoch 36/100\n",
            "1719/1719 [==============================] - 4s 2ms/step - loss: 0.2082 - accuracy: 0.9414 - val_loss: 0.1965 - val_accuracy: 0.9456\n",
            "Epoch 37/100\n",
            "1719/1719 [==============================] - 3s 2ms/step - loss: 0.2053 - accuracy: 0.9420 - val_loss: 0.1932 - val_accuracy: 0.9458\n",
            "Epoch 38/100\n",
            "1719/1719 [==============================] - 3s 2ms/step - loss: 0.2023 - accuracy: 0.9427 - val_loss: 0.1914 - val_accuracy: 0.9472\n",
            "Epoch 39/100\n",
            "1719/1719 [==============================] - 4s 2ms/step - loss: 0.1997 - accuracy: 0.9438 - val_loss: 0.1890 - val_accuracy: 0.9480\n",
            "Epoch 40/100\n",
            "1719/1719 [==============================] - 3s 2ms/step - loss: 0.1970 - accuracy: 0.9442 - val_loss: 0.1867 - val_accuracy: 0.9478\n",
            "Epoch 41/100\n",
            "1719/1719 [==============================] - 3s 2ms/step - loss: 0.1944 - accuracy: 0.9450 - val_loss: 0.1843 - val_accuracy: 0.9486\n",
            "Epoch 42/100\n",
            "1719/1719 [==============================] - 3s 2ms/step - loss: 0.1919 - accuracy: 0.9457 - val_loss: 0.1823 - val_accuracy: 0.9488\n",
            "Epoch 43/100\n",
            "1719/1719 [==============================] - 3s 2ms/step - loss: 0.1895 - accuracy: 0.9467 - val_loss: 0.1802 - val_accuracy: 0.9502\n",
            "Epoch 44/100\n",
            "1719/1719 [==============================] - 3s 2ms/step - loss: 0.1870 - accuracy: 0.9474 - val_loss: 0.1781 - val_accuracy: 0.9506\n",
            "Epoch 45/100\n",
            "1719/1719 [==============================] - 3s 2ms/step - loss: 0.1847 - accuracy: 0.9479 - val_loss: 0.1764 - val_accuracy: 0.9510\n",
            "Epoch 46/100\n",
            "1719/1719 [==============================] - 3s 2ms/step - loss: 0.1824 - accuracy: 0.9486 - val_loss: 0.1739 - val_accuracy: 0.9518\n",
            "Epoch 47/100\n",
            "1719/1719 [==============================] - 3s 2ms/step - loss: 0.1803 - accuracy: 0.9492 - val_loss: 0.1722 - val_accuracy: 0.9524\n",
            "Epoch 48/100\n",
            "1719/1719 [==============================] - 3s 2ms/step - loss: 0.1781 - accuracy: 0.9497 - val_loss: 0.1705 - val_accuracy: 0.9532\n",
            "Epoch 49/100\n",
            "1719/1719 [==============================] - 3s 2ms/step - loss: 0.1759 - accuracy: 0.9502 - val_loss: 0.1687 - val_accuracy: 0.9538\n",
            "Epoch 50/100\n",
            "1719/1719 [==============================] - 3s 2ms/step - loss: 0.1739 - accuracy: 0.9509 - val_loss: 0.1672 - val_accuracy: 0.9540\n",
            "Epoch 51/100\n",
            "1719/1719 [==============================] - 3s 2ms/step - loss: 0.1718 - accuracy: 0.9516 - val_loss: 0.1650 - val_accuracy: 0.9546\n",
            "Epoch 52/100\n",
            "1719/1719 [==============================] - 3s 2ms/step - loss: 0.1700 - accuracy: 0.9520 - val_loss: 0.1640 - val_accuracy: 0.9548\n",
            "Epoch 53/100\n",
            "1719/1719 [==============================] - 3s 2ms/step - loss: 0.1679 - accuracy: 0.9524 - val_loss: 0.1627 - val_accuracy: 0.9560\n",
            "Epoch 54/100\n",
            "1719/1719 [==============================] - 3s 2ms/step - loss: 0.1660 - accuracy: 0.9532 - val_loss: 0.1606 - val_accuracy: 0.9570\n",
            "Epoch 55/100\n",
            "1719/1719 [==============================] - 3s 2ms/step - loss: 0.1643 - accuracy: 0.9537 - val_loss: 0.1592 - val_accuracy: 0.9580\n",
            "Epoch 56/100\n",
            "1719/1719 [==============================] - 4s 2ms/step - loss: 0.1624 - accuracy: 0.9544 - val_loss: 0.1575 - val_accuracy: 0.9586\n",
            "Epoch 57/100\n",
            "1719/1719 [==============================] - 3s 2ms/step - loss: 0.1606 - accuracy: 0.9547 - val_loss: 0.1567 - val_accuracy: 0.9586\n",
            "Epoch 58/100\n",
            "1719/1719 [==============================] - 3s 2ms/step - loss: 0.1588 - accuracy: 0.9551 - val_loss: 0.1553 - val_accuracy: 0.9586\n",
            "Epoch 59/100\n",
            "1719/1719 [==============================] - 3s 2ms/step - loss: 0.1573 - accuracy: 0.9558 - val_loss: 0.1538 - val_accuracy: 0.9590\n",
            "Epoch 60/100\n",
            "1719/1719 [==============================] - 3s 2ms/step - loss: 0.1555 - accuracy: 0.9564 - val_loss: 0.1520 - val_accuracy: 0.9602\n",
            "Epoch 61/100\n",
            "1719/1719 [==============================] - 3s 2ms/step - loss: 0.1539 - accuracy: 0.9566 - val_loss: 0.1506 - val_accuracy: 0.9614\n",
            "Epoch 62/100\n",
            "1719/1719 [==============================] - 3s 2ms/step - loss: 0.1523 - accuracy: 0.9571 - val_loss: 0.1494 - val_accuracy: 0.9618\n",
            "Epoch 63/100\n",
            "1719/1719 [==============================] - 3s 2ms/step - loss: 0.1507 - accuracy: 0.9573 - val_loss: 0.1482 - val_accuracy: 0.9616\n",
            "Epoch 64/100\n",
            "1719/1719 [==============================] - 3s 2ms/step - loss: 0.1493 - accuracy: 0.9581 - val_loss: 0.1472 - val_accuracy: 0.9622\n",
            "Epoch 65/100\n",
            "1719/1719 [==============================] - 3s 2ms/step - loss: 0.1477 - accuracy: 0.9584 - val_loss: 0.1458 - val_accuracy: 0.9626\n",
            "Epoch 66/100\n",
            "1719/1719 [==============================] - 3s 2ms/step - loss: 0.1462 - accuracy: 0.9588 - val_loss: 0.1454 - val_accuracy: 0.9616\n",
            "Epoch 67/100\n",
            "1719/1719 [==============================] - 3s 2ms/step - loss: 0.1449 - accuracy: 0.9592 - val_loss: 0.1433 - val_accuracy: 0.9632\n",
            "Epoch 68/100\n",
            "1719/1719 [==============================] - 3s 2ms/step - loss: 0.1435 - accuracy: 0.9596 - val_loss: 0.1424 - val_accuracy: 0.9630\n",
            "Epoch 69/100\n",
            "1719/1719 [==============================] - 3s 2ms/step - loss: 0.1421 - accuracy: 0.9599 - val_loss: 0.1415 - val_accuracy: 0.9628\n",
            "Epoch 70/100\n",
            "1719/1719 [==============================] - 3s 2ms/step - loss: 0.1407 - accuracy: 0.9601 - val_loss: 0.1401 - val_accuracy: 0.9628\n",
            "Epoch 71/100\n",
            "1719/1719 [==============================] - 3s 2ms/step - loss: 0.1394 - accuracy: 0.9605 - val_loss: 0.1389 - val_accuracy: 0.9646\n",
            "Epoch 72/100\n",
            "1719/1719 [==============================] - 3s 2ms/step - loss: 0.1380 - accuracy: 0.9610 - val_loss: 0.1383 - val_accuracy: 0.9646\n",
            "Epoch 73/100\n",
            "1719/1719 [==============================] - 3s 2ms/step - loss: 0.1368 - accuracy: 0.9610 - val_loss: 0.1370 - val_accuracy: 0.9648\n",
            "Epoch 74/100\n",
            "1719/1719 [==============================] - 3s 2ms/step - loss: 0.1355 - accuracy: 0.9619 - val_loss: 0.1362 - val_accuracy: 0.9644\n",
            "Epoch 75/100\n",
            "1719/1719 [==============================] - 3s 2ms/step - loss: 0.1343 - accuracy: 0.9621 - val_loss: 0.1358 - val_accuracy: 0.9646\n",
            "Epoch 76/100\n",
            "1719/1719 [==============================] - 3s 2ms/step - loss: 0.1331 - accuracy: 0.9626 - val_loss: 0.1345 - val_accuracy: 0.9650\n",
            "Epoch 77/100\n",
            "1719/1719 [==============================] - 3s 2ms/step - loss: 0.1319 - accuracy: 0.9627 - val_loss: 0.1329 - val_accuracy: 0.9656\n",
            "Epoch 78/100\n",
            "1719/1719 [==============================] - 3s 2ms/step - loss: 0.1306 - accuracy: 0.9633 - val_loss: 0.1323 - val_accuracy: 0.9654\n",
            "Epoch 79/100\n",
            "1719/1719 [==============================] - 3s 2ms/step - loss: 0.1296 - accuracy: 0.9633 - val_loss: 0.1315 - val_accuracy: 0.9656\n",
            "Epoch 80/100\n",
            "1719/1719 [==============================] - 3s 2ms/step - loss: 0.1284 - accuracy: 0.9638 - val_loss: 0.1306 - val_accuracy: 0.9656\n",
            "Epoch 81/100\n",
            "1719/1719 [==============================] - 3s 2ms/step - loss: 0.1272 - accuracy: 0.9639 - val_loss: 0.1301 - val_accuracy: 0.9656\n",
            "Epoch 82/100\n",
            "1719/1719 [==============================] - 3s 2ms/step - loss: 0.1262 - accuracy: 0.9643 - val_loss: 0.1293 - val_accuracy: 0.9662\n",
            "Epoch 83/100\n",
            "1719/1719 [==============================] - 3s 2ms/step - loss: 0.1250 - accuracy: 0.9646 - val_loss: 0.1281 - val_accuracy: 0.9654\n",
            "Epoch 84/100\n",
            "1719/1719 [==============================] - 3s 2ms/step - loss: 0.1240 - accuracy: 0.9648 - val_loss: 0.1273 - val_accuracy: 0.9664\n",
            "Epoch 85/100\n",
            "1719/1719 [==============================] - 3s 2ms/step - loss: 0.1230 - accuracy: 0.9651 - val_loss: 0.1262 - val_accuracy: 0.9666\n",
            "Epoch 86/100\n",
            "1719/1719 [==============================] - 3s 2ms/step - loss: 0.1219 - accuracy: 0.9653 - val_loss: 0.1263 - val_accuracy: 0.9660\n",
            "Epoch 87/100\n",
            "1719/1719 [==============================] - 3s 2ms/step - loss: 0.1209 - accuracy: 0.9657 - val_loss: 0.1249 - val_accuracy: 0.9662\n",
            "Epoch 88/100\n",
            "1719/1719 [==============================] - 3s 2ms/step - loss: 0.1199 - accuracy: 0.9658 - val_loss: 0.1241 - val_accuracy: 0.9666\n",
            "Epoch 89/100\n",
            "1719/1719 [==============================] - 3s 2ms/step - loss: 0.1189 - accuracy: 0.9661 - val_loss: 0.1232 - val_accuracy: 0.9674\n",
            "Epoch 90/100\n",
            "1719/1719 [==============================] - 3s 2ms/step - loss: 0.1178 - accuracy: 0.9668 - val_loss: 0.1227 - val_accuracy: 0.9670\n",
            "Epoch 91/100\n",
            "1719/1719 [==============================] - 3s 2ms/step - loss: 0.1170 - accuracy: 0.9668 - val_loss: 0.1221 - val_accuracy: 0.9670\n",
            "Epoch 92/100\n",
            "1719/1719 [==============================] - 3s 2ms/step - loss: 0.1160 - accuracy: 0.9673 - val_loss: 0.1221 - val_accuracy: 0.9668\n",
            "Epoch 93/100\n",
            "1719/1719 [==============================] - 4s 2ms/step - loss: 0.1151 - accuracy: 0.9676 - val_loss: 0.1216 - val_accuracy: 0.9666\n",
            "Epoch 94/100\n",
            "1719/1719 [==============================] - 4s 2ms/step - loss: 0.1141 - accuracy: 0.9678 - val_loss: 0.1199 - val_accuracy: 0.9674\n",
            "Epoch 95/100\n",
            "1719/1719 [==============================] - 4s 2ms/step - loss: 0.1132 - accuracy: 0.9681 - val_loss: 0.1195 - val_accuracy: 0.9674\n",
            "Epoch 96/100\n",
            "1719/1719 [==============================] - 4s 2ms/step - loss: 0.1123 - accuracy: 0.9681 - val_loss: 0.1184 - val_accuracy: 0.9684\n",
            "Epoch 97/100\n",
            "1719/1719 [==============================] - 3s 2ms/step - loss: 0.1115 - accuracy: 0.9682 - val_loss: 0.1176 - val_accuracy: 0.9676\n",
            "Epoch 98/100\n",
            "1719/1719 [==============================] - 3s 2ms/step - loss: 0.1105 - accuracy: 0.9685 - val_loss: 0.1180 - val_accuracy: 0.9666\n",
            "Epoch 99/100\n",
            "1719/1719 [==============================] - 3s 2ms/step - loss: 0.1096 - accuracy: 0.9690 - val_loss: 0.1171 - val_accuracy: 0.9672\n",
            "Epoch 100/100\n",
            "1719/1719 [==============================] - 3s 2ms/step - loss: 0.1088 - accuracy: 0.9691 - val_loss: 0.1163 - val_accuracy: 0.9672\n"
          ],
          "name": "stdout"
        }
      ]
    },
    {
      "cell_type": "code",
      "metadata": {
        "id": "K3KQFWlsVzJF",
        "colab": {
          "base_uri": "https://localhost:8080/",
          "height": 53
        },
        "outputId": "aed82450-f050-4680-d2e6-18125808d797"
      },
      "source": [
        "model_nn_raw_sgd.evaluate(X_test_fla, y_test)"
      ],
      "execution_count": null,
      "outputs": [
        {
          "output_type": "stream",
          "text": [
            "313/313 [==============================] - 0s 1ms/step - loss: 0.1188 - accuracy: 0.9641\n"
          ],
          "name": "stdout"
        },
        {
          "output_type": "execute_result",
          "data": {
            "text/plain": [
              "[0.11879688501358032, 0.9641000032424927]"
            ]
          },
          "metadata": {
            "tags": []
          },
          "execution_count": 44
        }
      ]
    },
    {
      "cell_type": "code",
      "metadata": {
        "id": "Y08k1zd1V2Wq",
        "colab": {
          "base_uri": "https://localhost:8080/",
          "height": 602
        },
        "outputId": "4754cf98-5172-403b-996a-81ad2b79f056"
      },
      "source": [
        "pd.DataFrame(H_raw_sgd.history).plot(figsize=(8, 5))\n",
        "plt.grid(True)\n",
        "plt.gca().set_ylim(0, 1) # set the vertical range to [0-1]\n",
        "plt.show()\n",
        "\n",
        "## Plot only the loss train loss\n",
        "plt.plot(H_raw_sgd.history['loss'])\n",
        "plt.ylabel('cost')\n",
        "plt.xlabel('Epochs')\n",
        "plt.title(\"Cost/Loss Curve\")\n",
        "plt.show()"
      ],
      "execution_count": null,
      "outputs": [
        {
          "output_type": "display_data",
          "data": {
            "image/png": "[encoded data removed]",
            "text/plain": [
              "<Figure size 576x360 with 1 Axes>"
            ]
          },
          "metadata": {
            "tags": [],
            "needs_background": "light"
          }
        },
        {
          "output_type": "display_data",
          "data": {
            "image/png": "[encoded data removed]",
            "text/plain": [
              "<Figure size 432x288 with 1 Axes>"
            ]
          },
          "metadata": {
            "tags": [],
            "needs_background": "light"
          }
        }
      ]
    },
    {
      "cell_type": "markdown",
      "metadata": {
        "id": "dS3wsHwdTw9a"
      },
      "source": [
        "###ANN_LBP"
      ]
    },
    {
      "cell_type": "markdown",
      "metadata": {
        "id": "SfmnlL7z2UNR"
      },
      "source": [
        "####ANN_LBP_ADEM"
      ]
    },
    {
      "cell_type": "code",
      "metadata": {
        "id": "9rFFyhiUQnJX"
      },
      "source": [
        "data_train_lbp = np.array(data_train_lbp)\n",
        "labels_train_lbp = np.array(labels_train_lbp)\n",
        "\n",
        "valid_images_lbp = data_train_lbp[:5000]\n",
        "valid_labels_lbp = labels_train_lbp[:5000]\n",
        "\n",
        "\n",
        "data_train_lbp_nn = data_train_lbp[5000:]\n",
        "labels_train_lbp_nn = labels_train_lbp[5000:]"
      ],
      "execution_count": null,
      "outputs": []
    },
    {
      "cell_type": "code",
      "metadata": {
        "id": "qIJotwMpR5b4",
        "colab": {
          "base_uri": "https://localhost:8080/",
          "height": 89
        },
        "outputId": "ca10b2b1-3628-4a9c-bcf2-dc62367d784e"
      },
      "source": [
        "print(np.shape(data_train_lbp_nn))\n",
        "print(np.shape(valid_images_lbp))\n",
        "print(data_train_lbp_nn.dtype)\n",
        "print(labels_train_lbp_nn.dtype)"
      ],
      "execution_count": null,
      "outputs": [
        {
          "output_type": "stream",
          "text": [
            "(55000, 26)\n",
            "(5000, 26)\n",
            "float64\n",
            "uint8\n"
          ],
          "name": "stdout"
        }
      ]
    },
    {
      "cell_type": "code",
      "metadata": {
        "id": "hOj2qyFMT1K7"
      },
      "source": [
        "model_nn_lbp = tf.keras.models.Sequential([tf.keras.layers.Flatten(input_shape=(26,)), \n",
        "                              tf.keras.layers.Dense(128, activation=tf.nn.relu), tf.keras.layers.Dense(128, activation=tf.nn.relu),\n",
        "                              tf.keras.layers.Dense(10, activation=tf.nn.softmax)])"
      ],
      "execution_count": null,
      "outputs": []
    },
    {
      "cell_type": "code",
      "metadata": {
        "id": "tlAoLSSA1Ljf",
        "colab": {
          "base_uri": "https://localhost:8080/",
          "height": 1000
        },
        "outputId": "6283edde-669c-483d-d799-4524a15cdf2f"
      },
      "source": [
        "model_nn_lbp.compile(optimizer = tf.optimizers.Adam(0.0065),\n",
        "              loss = 'sparse_categorical_crossentropy',\n",
        "              metrics=['accuracy'])\n",
        "\n",
        "H_lbp=model_nn_lbp.fit(data_train_lbp_nn, labels_train_lbp_nn, epochs=100, validation_data=(valid_images_lbp, valid_labels_lbp))"
      ],
      "execution_count": null,
      "outputs": [
        {
          "output_type": "stream",
          "text": [
            "Epoch 1/100\n",
            "1719/1719 [==============================] - 3s 2ms/step - loss: 1.5986 - accuracy: 0.4190 - val_loss: 1.4556 - val_accuracy: 0.4760\n",
            "Epoch 2/100\n",
            "1719/1719 [==============================] - 3s 2ms/step - loss: 1.4352 - accuracy: 0.4797 - val_loss: 1.4128 - val_accuracy: 0.4906\n",
            "Epoch 3/100\n",
            "1719/1719 [==============================] - 3s 2ms/step - loss: 1.3967 - accuracy: 0.4942 - val_loss: 1.4055 - val_accuracy: 0.4996\n",
            "Epoch 4/100\n",
            "1719/1719 [==============================] - 3s 2ms/step - loss: 1.3670 - accuracy: 0.5082 - val_loss: 1.3950 - val_accuracy: 0.4996\n",
            "Epoch 5/100\n",
            "1719/1719 [==============================] - 3s 2ms/step - loss: 1.3451 - accuracy: 0.5168 - val_loss: 1.3157 - val_accuracy: 0.5342\n",
            "Epoch 6/100\n",
            "1719/1719 [==============================] - 3s 2ms/step - loss: 1.3293 - accuracy: 0.5235 - val_loss: 1.2847 - val_accuracy: 0.5470\n",
            "Epoch 7/100\n",
            "1719/1719 [==============================] - 3s 2ms/step - loss: 1.3165 - accuracy: 0.5278 - val_loss: 1.2677 - val_accuracy: 0.5550\n",
            "Epoch 8/100\n",
            "1719/1719 [==============================] - 3s 2ms/step - loss: 1.3045 - accuracy: 0.5326 - val_loss: 1.2696 - val_accuracy: 0.5492\n",
            "Epoch 9/100\n",
            "1719/1719 [==============================] - 3s 2ms/step - loss: 1.2940 - accuracy: 0.5375 - val_loss: 1.2639 - val_accuracy: 0.5646\n",
            "Epoch 10/100\n",
            "1719/1719 [==============================] - 3s 2ms/step - loss: 1.2894 - accuracy: 0.5377 - val_loss: 1.2586 - val_accuracy: 0.5606\n",
            "Epoch 11/100\n",
            "1719/1719 [==============================] - 3s 2ms/step - loss: 1.2833 - accuracy: 0.5414 - val_loss: 1.2548 - val_accuracy: 0.5498\n",
            "Epoch 12/100\n",
            "1719/1719 [==============================] - 3s 2ms/step - loss: 1.2763 - accuracy: 0.5435 - val_loss: 1.2696 - val_accuracy: 0.5564\n",
            "Epoch 13/100\n",
            "1719/1719 [==============================] - 3s 2ms/step - loss: 1.2727 - accuracy: 0.5447 - val_loss: 1.2392 - val_accuracy: 0.5644\n",
            "Epoch 14/100\n",
            "1719/1719 [==============================] - 3s 2ms/step - loss: 1.2666 - accuracy: 0.5462 - val_loss: 1.2425 - val_accuracy: 0.5604\n",
            "Epoch 15/100\n",
            "1719/1719 [==============================] - 3s 2ms/step - loss: 1.2620 - accuracy: 0.5481 - val_loss: 1.2504 - val_accuracy: 0.5576\n",
            "Epoch 16/100\n",
            "1719/1719 [==============================] - 3s 2ms/step - loss: 1.2569 - accuracy: 0.5497 - val_loss: 1.2499 - val_accuracy: 0.5546\n",
            "Epoch 17/100\n",
            "1719/1719 [==============================] - 3s 2ms/step - loss: 1.2546 - accuracy: 0.5496 - val_loss: 1.2528 - val_accuracy: 0.5562\n",
            "Epoch 18/100\n",
            "1719/1719 [==============================] - 3s 2ms/step - loss: 1.2517 - accuracy: 0.5514 - val_loss: 1.2256 - val_accuracy: 0.5672\n",
            "Epoch 19/100\n",
            "1719/1719 [==============================] - 3s 2ms/step - loss: 1.2512 - accuracy: 0.5539 - val_loss: 1.2497 - val_accuracy: 0.5544\n",
            "Epoch 20/100\n",
            "1719/1719 [==============================] - 3s 2ms/step - loss: 1.2490 - accuracy: 0.5527 - val_loss: 1.2262 - val_accuracy: 0.5672\n",
            "Epoch 21/100\n",
            "1719/1719 [==============================] - 3s 2ms/step - loss: 1.2449 - accuracy: 0.5562 - val_loss: 1.2529 - val_accuracy: 0.5616\n",
            "Epoch 22/100\n",
            "1719/1719 [==============================] - 3s 2ms/step - loss: 1.2428 - accuracy: 0.5543 - val_loss: 1.2381 - val_accuracy: 0.5554\n",
            "Epoch 23/100\n",
            "1719/1719 [==============================] - 3s 2ms/step - loss: 1.2426 - accuracy: 0.5558 - val_loss: 1.2393 - val_accuracy: 0.5638\n",
            "Epoch 24/100\n",
            "1719/1719 [==============================] - 3s 2ms/step - loss: 1.2390 - accuracy: 0.5562 - val_loss: 1.2334 - val_accuracy: 0.5696\n",
            "Epoch 25/100\n",
            "1719/1719 [==============================] - 3s 2ms/step - loss: 1.2389 - accuracy: 0.5559 - val_loss: 1.2231 - val_accuracy: 0.5674\n",
            "Epoch 26/100\n",
            "1719/1719 [==============================] - 3s 2ms/step - loss: 1.2369 - accuracy: 0.5581 - val_loss: 1.2220 - val_accuracy: 0.5654\n",
            "Epoch 27/100\n",
            "1719/1719 [==============================] - 3s 2ms/step - loss: 1.2355 - accuracy: 0.5585 - val_loss: 1.2184 - val_accuracy: 0.5676\n",
            "Epoch 28/100\n",
            "1719/1719 [==============================] - 3s 2ms/step - loss: 1.2334 - accuracy: 0.5585 - val_loss: 1.2153 - val_accuracy: 0.5676\n",
            "Epoch 29/100\n",
            "1719/1719 [==============================] - 3s 2ms/step - loss: 1.2302 - accuracy: 0.5599 - val_loss: 1.2064 - val_accuracy: 0.5734\n",
            "Epoch 30/100\n",
            "1719/1719 [==============================] - 3s 2ms/step - loss: 1.2294 - accuracy: 0.5630 - val_loss: 1.2722 - val_accuracy: 0.5554\n",
            "Epoch 31/100\n",
            "1719/1719 [==============================] - 3s 2ms/step - loss: 1.2286 - accuracy: 0.5626 - val_loss: 1.2200 - val_accuracy: 0.5644\n",
            "Epoch 32/100\n",
            "1719/1719 [==============================] - 3s 2ms/step - loss: 1.2260 - accuracy: 0.5601 - val_loss: 1.2116 - val_accuracy: 0.5670\n",
            "Epoch 33/100\n",
            "1719/1719 [==============================] - 3s 2ms/step - loss: 1.2273 - accuracy: 0.5633 - val_loss: 1.2188 - val_accuracy: 0.5674\n",
            "Epoch 34/100\n",
            "1719/1719 [==============================] - 3s 2ms/step - loss: 1.2267 - accuracy: 0.5599 - val_loss: 1.2134 - val_accuracy: 0.5750\n",
            "Epoch 35/100\n",
            "1719/1719 [==============================] - 3s 2ms/step - loss: 1.2247 - accuracy: 0.5621 - val_loss: 1.2013 - val_accuracy: 0.5708\n",
            "Epoch 36/100\n",
            "1719/1719 [==============================] - 3s 2ms/step - loss: 1.2215 - accuracy: 0.5642 - val_loss: 1.2039 - val_accuracy: 0.5716\n",
            "Epoch 37/100\n",
            "1719/1719 [==============================] - 3s 2ms/step - loss: 1.2208 - accuracy: 0.5634 - val_loss: 1.2258 - val_accuracy: 0.5706\n",
            "Epoch 38/100\n",
            "1719/1719 [==============================] - 3s 2ms/step - loss: 1.2197 - accuracy: 0.5644 - val_loss: 1.2244 - val_accuracy: 0.5712\n",
            "Epoch 39/100\n",
            "1719/1719 [==============================] - 3s 2ms/step - loss: 1.2205 - accuracy: 0.5638 - val_loss: 1.2191 - val_accuracy: 0.5720\n",
            "Epoch 40/100\n",
            "1719/1719 [==============================] - 3s 2ms/step - loss: 1.2179 - accuracy: 0.5658 - val_loss: 1.2123 - val_accuracy: 0.5646\n",
            "Epoch 41/100\n",
            "1719/1719 [==============================] - 3s 2ms/step - loss: 1.2175 - accuracy: 0.5647 - val_loss: 1.2314 - val_accuracy: 0.5682\n",
            "Epoch 42/100\n",
            "1719/1719 [==============================] - 3s 2ms/step - loss: 1.2158 - accuracy: 0.5645 - val_loss: 1.2136 - val_accuracy: 0.5744\n",
            "Epoch 43/100\n",
            "1719/1719 [==============================] - 3s 2ms/step - loss: 1.2147 - accuracy: 0.5662 - val_loss: 1.1989 - val_accuracy: 0.5780\n",
            "Epoch 44/100\n",
            "1719/1719 [==============================] - 3s 2ms/step - loss: 1.2155 - accuracy: 0.5650 - val_loss: 1.2241 - val_accuracy: 0.5668\n",
            "Epoch 45/100\n",
            "1719/1719 [==============================] - 3s 2ms/step - loss: 1.2154 - accuracy: 0.5657 - val_loss: 1.2190 - val_accuracy: 0.5654\n",
            "Epoch 46/100\n",
            "1719/1719 [==============================] - 3s 2ms/step - loss: 1.2128 - accuracy: 0.5679 - val_loss: 1.2315 - val_accuracy: 0.5644\n",
            "Epoch 47/100\n",
            "1719/1719 [==============================] - 3s 2ms/step - loss: 1.2135 - accuracy: 0.5659 - val_loss: 1.1976 - val_accuracy: 0.5760\n",
            "Epoch 48/100\n",
            "1719/1719 [==============================] - 3s 2ms/step - loss: 1.2111 - accuracy: 0.5660 - val_loss: 1.2599 - val_accuracy: 0.5544\n",
            "Epoch 49/100\n",
            "1719/1719 [==============================] - 3s 2ms/step - loss: 1.2094 - accuracy: 0.5681 - val_loss: 1.2341 - val_accuracy: 0.5640\n",
            "Epoch 50/100\n",
            "1719/1719 [==============================] - 3s 2ms/step - loss: 1.2084 - accuracy: 0.5666 - val_loss: 1.2343 - val_accuracy: 0.5608\n",
            "Epoch 51/100\n",
            "1719/1719 [==============================] - 3s 2ms/step - loss: 1.2072 - accuracy: 0.5701 - val_loss: 1.2023 - val_accuracy: 0.5756\n",
            "Epoch 52/100\n",
            "1719/1719 [==============================] - 3s 2ms/step - loss: 1.2091 - accuracy: 0.5697 - val_loss: 1.2027 - val_accuracy: 0.5746\n",
            "Epoch 53/100\n",
            "1719/1719 [==============================] - 3s 2ms/step - loss: 1.2085 - accuracy: 0.5683 - val_loss: 1.2153 - val_accuracy: 0.5724\n",
            "Epoch 54/100\n",
            "1719/1719 [==============================] - 3s 2ms/step - loss: 1.2074 - accuracy: 0.5705 - val_loss: 1.2187 - val_accuracy: 0.5668\n",
            "Epoch 55/100\n",
            "1719/1719 [==============================] - 3s 2ms/step - loss: 1.2057 - accuracy: 0.5708 - val_loss: 1.2017 - val_accuracy: 0.5740\n",
            "Epoch 56/100\n",
            "1719/1719 [==============================] - 3s 2ms/step - loss: 1.2039 - accuracy: 0.5698 - val_loss: 1.2166 - val_accuracy: 0.5708\n",
            "Epoch 57/100\n",
            "1719/1719 [==============================] - 3s 2ms/step - loss: 1.2072 - accuracy: 0.5703 - val_loss: 1.1976 - val_accuracy: 0.5730\n",
            "Epoch 58/100\n",
            "1719/1719 [==============================] - 3s 2ms/step - loss: 1.2056 - accuracy: 0.5701 - val_loss: 1.2088 - val_accuracy: 0.5718\n",
            "Epoch 59/100\n",
            "1719/1719 [==============================] - 3s 2ms/step - loss: 1.2022 - accuracy: 0.5725 - val_loss: 1.1949 - val_accuracy: 0.5794\n",
            "Epoch 60/100\n",
            "1719/1719 [==============================] - 3s 2ms/step - loss: 1.2013 - accuracy: 0.5718 - val_loss: 1.1967 - val_accuracy: 0.5722\n",
            "Epoch 61/100\n",
            "1719/1719 [==============================] - 3s 2ms/step - loss: 1.2022 - accuracy: 0.5701 - val_loss: 1.2135 - val_accuracy: 0.5670\n",
            "Epoch 62/100\n",
            "1719/1719 [==============================] - 3s 2ms/step - loss: 1.2007 - accuracy: 0.5720 - val_loss: 1.2079 - val_accuracy: 0.5712\n",
            "Epoch 63/100\n",
            "1719/1719 [==============================] - 3s 2ms/step - loss: 1.2017 - accuracy: 0.5693 - val_loss: 1.2218 - val_accuracy: 0.5616\n",
            "Epoch 64/100\n",
            "1719/1719 [==============================] - 3s 2ms/step - loss: 1.2012 - accuracy: 0.5718 - val_loss: 1.2003 - val_accuracy: 0.5768\n",
            "Epoch 65/100\n",
            "1719/1719 [==============================] - 3s 2ms/step - loss: 1.2020 - accuracy: 0.5701 - val_loss: 1.2145 - val_accuracy: 0.5676\n",
            "Epoch 66/100\n",
            "1719/1719 [==============================] - 3s 2ms/step - loss: 1.2009 - accuracy: 0.5714 - val_loss: 1.2077 - val_accuracy: 0.5694\n",
            "Epoch 67/100\n",
            "1719/1719 [==============================] - 3s 2ms/step - loss: 1.1995 - accuracy: 0.5738 - val_loss: 1.2265 - val_accuracy: 0.5670\n",
            "Epoch 68/100\n",
            "1719/1719 [==============================] - 3s 2ms/step - loss: 1.2015 - accuracy: 0.5709 - val_loss: 1.2094 - val_accuracy: 0.5740\n",
            "Epoch 69/100\n",
            "1719/1719 [==============================] - 3s 2ms/step - loss: 1.1979 - accuracy: 0.5739 - val_loss: 1.2331 - val_accuracy: 0.5678\n",
            "Epoch 70/100\n",
            "1719/1719 [==============================] - 3s 2ms/step - loss: 1.2002 - accuracy: 0.5731 - val_loss: 1.2082 - val_accuracy: 0.5710\n",
            "Epoch 71/100\n",
            "1719/1719 [==============================] - 3s 2ms/step - loss: 1.1977 - accuracy: 0.5716 - val_loss: 1.2039 - val_accuracy: 0.5700\n",
            "Epoch 72/100\n",
            "1719/1719 [==============================] - 3s 2ms/step - loss: 1.1981 - accuracy: 0.5741 - val_loss: 1.2319 - val_accuracy: 0.5688\n",
            "Epoch 73/100\n",
            "1719/1719 [==============================] - 3s 2ms/step - loss: 1.1982 - accuracy: 0.5721 - val_loss: 1.1960 - val_accuracy: 0.5734\n",
            "Epoch 74/100\n",
            "1719/1719 [==============================] - 3s 2ms/step - loss: 1.1965 - accuracy: 0.5725 - val_loss: 1.2005 - val_accuracy: 0.5746\n",
            "Epoch 75/100\n",
            "1719/1719 [==============================] - 3s 2ms/step - loss: 1.1965 - accuracy: 0.5715 - val_loss: 1.2184 - val_accuracy: 0.5710\n",
            "Epoch 76/100\n",
            "1719/1719 [==============================] - 3s 2ms/step - loss: 1.1957 - accuracy: 0.5727 - val_loss: 1.1870 - val_accuracy: 0.5816\n",
            "Epoch 77/100\n",
            "1719/1719 [==============================] - 3s 2ms/step - loss: 1.1963 - accuracy: 0.5735 - val_loss: 1.2014 - val_accuracy: 0.5794\n",
            "Epoch 78/100\n",
            "1719/1719 [==============================] - 3s 2ms/step - loss: 1.1968 - accuracy: 0.5732 - val_loss: 1.2031 - val_accuracy: 0.5682\n",
            "Epoch 79/100\n",
            "1719/1719 [==============================] - 3s 2ms/step - loss: 1.1937 - accuracy: 0.5744 - val_loss: 1.2124 - val_accuracy: 0.5714\n",
            "Epoch 80/100\n",
            "1719/1719 [==============================] - 3s 2ms/step - loss: 1.1977 - accuracy: 0.5717 - val_loss: 1.2164 - val_accuracy: 0.5670\n",
            "Epoch 81/100\n",
            "1719/1719 [==============================] - 3s 2ms/step - loss: 1.1945 - accuracy: 0.5747 - val_loss: 1.2028 - val_accuracy: 0.5702\n",
            "Epoch 82/100\n",
            "1719/1719 [==============================] - 3s 2ms/step - loss: 1.1961 - accuracy: 0.5734 - val_loss: 1.2006 - val_accuracy: 0.5786\n",
            "Epoch 83/100\n",
            "1719/1719 [==============================] - 3s 2ms/step - loss: 1.1945 - accuracy: 0.5732 - val_loss: 1.2166 - val_accuracy: 0.5718\n",
            "Epoch 84/100\n",
            "1719/1719 [==============================] - 3s 2ms/step - loss: 1.1922 - accuracy: 0.5739 - val_loss: 1.1980 - val_accuracy: 0.5730\n",
            "Epoch 85/100\n",
            "1719/1719 [==============================] - 3s 2ms/step - loss: 1.1940 - accuracy: 0.5755 - val_loss: 1.1924 - val_accuracy: 0.5822\n",
            "Epoch 86/100\n",
            "1719/1719 [==============================] - 3s 2ms/step - loss: 1.1915 - accuracy: 0.5756 - val_loss: 1.1951 - val_accuracy: 0.5774\n",
            "Epoch 87/100\n",
            "1719/1719 [==============================] - 3s 2ms/step - loss: 1.1925 - accuracy: 0.5753 - val_loss: 1.2011 - val_accuracy: 0.5764\n",
            "Epoch 88/100\n",
            "1719/1719 [==============================] - 3s 2ms/step - loss: 1.1948 - accuracy: 0.5753 - val_loss: 1.1905 - val_accuracy: 0.5790\n",
            "Epoch 89/100\n",
            "1719/1719 [==============================] - 3s 2ms/step - loss: 1.1892 - accuracy: 0.5757 - val_loss: 1.1956 - val_accuracy: 0.5818\n",
            "Epoch 90/100\n",
            "1719/1719 [==============================] - 3s 2ms/step - loss: 1.1925 - accuracy: 0.5767 - val_loss: 1.2119 - val_accuracy: 0.5688\n",
            "Epoch 91/100\n",
            "1719/1719 [==============================] - 3s 2ms/step - loss: 1.1927 - accuracy: 0.5758 - val_loss: 1.1950 - val_accuracy: 0.5806\n",
            "Epoch 92/100\n",
            "1719/1719 [==============================] - 3s 2ms/step - loss: 1.1906 - accuracy: 0.5767 - val_loss: 1.1836 - val_accuracy: 0.5800\n",
            "Epoch 93/100\n",
            "1719/1719 [==============================] - 3s 2ms/step - loss: 1.1922 - accuracy: 0.5762 - val_loss: 1.1918 - val_accuracy: 0.5810\n",
            "Epoch 94/100\n",
            "1719/1719 [==============================] - 3s 2ms/step - loss: 1.1911 - accuracy: 0.5753 - val_loss: 1.1959 - val_accuracy: 0.5764\n",
            "Epoch 95/100\n",
            "1719/1719 [==============================] - 3s 2ms/step - loss: 1.1913 - accuracy: 0.5749 - val_loss: 1.1956 - val_accuracy: 0.5792\n",
            "Epoch 96/100\n",
            "1719/1719 [==============================] - 3s 2ms/step - loss: 1.1894 - accuracy: 0.5749 - val_loss: 1.1977 - val_accuracy: 0.5780\n",
            "Epoch 97/100\n",
            "1719/1719 [==============================] - 3s 2ms/step - loss: 1.1906 - accuracy: 0.5766 - val_loss: 1.2038 - val_accuracy: 0.5654\n",
            "Epoch 98/100\n",
            "1719/1719 [==============================] - 3s 2ms/step - loss: 1.1885 - accuracy: 0.5751 - val_loss: 1.2002 - val_accuracy: 0.5768\n",
            "Epoch 99/100\n",
            "1719/1719 [==============================] - 3s 2ms/step - loss: 1.1889 - accuracy: 0.5753 - val_loss: 1.2008 - val_accuracy: 0.5728\n",
            "Epoch 100/100\n",
            "1719/1719 [==============================] - 3s 2ms/step - loss: 1.1888 - accuracy: 0.5751 - val_loss: 1.2064 - val_accuracy: 0.5764\n"
          ],
          "name": "stdout"
        }
      ]
    },
    {
      "cell_type": "code",
      "metadata": {
        "id": "DMnN5bsiSJvQ",
        "colab": {
          "base_uri": "https://localhost:8080/",
          "height": 71
        },
        "outputId": "68caa3a5-1469-44ab-e049-13d97ef378a1"
      },
      "source": [
        "# initialize the data matrix and labels\n",
        "print(\"Extracting features from test dataset...\")\n",
        "\n",
        "data_test_nn_lbp=[]\n",
        "labels_test_nn_lbp=[]\n",
        "# Exract LBP features for each test sample and classify it with the trained SVM classifier\n",
        "\n",
        "\n",
        "for im_index in range(len(X_test)):\n",
        "  imag_lbp = X_test[im_index]\n",
        "  \n",
        "  # Extract LBP feature\n",
        "  histo = desc.LBPfeatures(imag_lbp)\n",
        "\n",
        "  data_test_nn_lbp.append(histo)\n",
        "  labels_test_nn_lbp.append(y_test[im_index])\n",
        "\n",
        "print(np.shape(data_test_nn_lbp))\n",
        "print(np.shape(labels_test_nn_lbp))"
      ],
      "execution_count": null,
      "outputs": [
        {
          "output_type": "stream",
          "text": [
            "Extracting features from test dataset...\n",
            "(10000, 26)\n",
            "(10000,)\n"
          ],
          "name": "stdout"
        }
      ]
    },
    {
      "cell_type": "code",
      "metadata": {
        "id": "oCaKxbTsTQgy",
        "colab": {
          "base_uri": "https://localhost:8080/",
          "height": 53
        },
        "outputId": "9eaa6598-f3ee-4d62-b503-240f1c6cc6a8"
      },
      "source": [
        "data_test_nn_lbp = np.array(data_test_nn_lbp)\n",
        "labels_test_nn_lbp = np.array(labels_test_nn_lbp)\n",
        "#labels_test_nn_hog = img_as_float(labels_test_nn_hog)\n",
        "\n",
        "print(data_test_nn_lbp.dtype)\n",
        "print(labels_test_nn_lbp.dtype)"
      ],
      "execution_count": null,
      "outputs": [
        {
          "output_type": "stream",
          "text": [
            "float64\n",
            "uint8\n"
          ],
          "name": "stdout"
        }
      ]
    },
    {
      "cell_type": "code",
      "metadata": {
        "id": "tkXQPGg8Tb_-",
        "colab": {
          "base_uri": "https://localhost:8080/",
          "height": 53
        },
        "outputId": "685d1072-6e68-4c61-833a-136c3053f0ea"
      },
      "source": [
        "model_nn_lbp.evaluate(data_test_nn_lbp, labels_test_nn_lbp)"
      ],
      "execution_count": null,
      "outputs": [
        {
          "output_type": "stream",
          "text": [
            "313/313 [==============================] - 0s 1ms/step - loss: 1.2202 - accuracy: 0.5748\n"
          ],
          "name": "stdout"
        },
        {
          "output_type": "execute_result",
          "data": {
            "text/plain": [
              "[1.2201799154281616, 0.5748000144958496]"
            ]
          },
          "metadata": {
            "tags": []
          },
          "execution_count": 21
        }
      ]
    },
    {
      "cell_type": "code",
      "metadata": {
        "id": "D_GU56a04lUT",
        "colab": {
          "base_uri": "https://localhost:8080/",
          "height": 602
        },
        "outputId": "d496f1f8-33b6-4275-facb-390cbf1220f5"
      },
      "source": [
        "## Plot the learning curves \n",
        "import pandas as pd\n",
        "import matplotlib.pyplot as plt\n",
        "pd.DataFrame(H_lbp.history).plot(figsize=(8, 5))\n",
        "plt.grid(True)\n",
        "plt.gca().set_ylim(0, 1) # set the vertical range to [0-1]\n",
        "plt.show()\n",
        "\n",
        "## Plot only the loss train loss\n",
        "plt.plot(H_lbp.history['loss'])\n",
        "plt.ylabel('cost')\n",
        "plt.xlabel('Epochs')\n",
        "plt.title(\"Cost/Loss Curve\")\n",
        "plt.show()"
      ],
      "execution_count": null,
      "outputs": [
        {
          "output_type": "display_data",
          "data": {
            "image/png": "[encoded data removed]",
            "text/plain": [
              "<Figure size 576x360 with 1 Axes>"
            ]
          },
          "metadata": {
            "tags": [],
            "needs_background": "light"
          }
        },
        {
          "output_type": "display_data",
          "data": {
            "image/png": "[encoded data removed]",
            "text/plain": [
              "<Figure size 432x288 with 1 Axes>"
            ]
          },
          "metadata": {
            "tags": [],
            "needs_background": "light"
          }
        }
      ]
    },
    {
      "cell_type": "markdown",
      "metadata": {
        "id": "FiPtNDTY2fAf"
      },
      "source": [
        "####ANN_LBP_SGD"
      ]
    },
    {
      "cell_type": "code",
      "metadata": {
        "id": "r12EYdfa1X6n",
        "colab": {
          "base_uri": "https://localhost:8080/",
          "height": 1000
        },
        "outputId": "f623f9ce-1e7c-4b10-843a-e858e5ab5f77"
      },
      "source": [
        "model_nn_lbp_sgd = tf.keras.models.Sequential([tf.keras.layers.Flatten(input_shape=(26,)), \n",
        "                                    tf.keras.layers.Dense(128, activation=tf.nn.relu), tf.keras.layers.Dense(128, activation=tf.nn.relu), \n",
        "                                    tf.keras.layers.Dense(10, activation=tf.nn.softmax)])## create a model here\n",
        "\n",
        "model_nn_lbp_sgd.compile(optimizer = tf.optimizers.SGD(0.03),\n",
        "              loss = 'sparse_categorical_crossentropy',\n",
        "              metrics=['accuracy']) ## add the required arguments\n",
        "\n",
        "H_nn_lbp_sgd=model_nn_lbp_sgd.fit(data_train_lbp_nn, labels_train_lbp_nn, epochs=100, validation_data=(valid_images_lbp, valid_labels_lbp))"
      ],
      "execution_count": null,
      "outputs": [
        {
          "output_type": "stream",
          "text": [
            "Epoch 1/100\n",
            "1719/1719 [==============================] - 2s 1ms/step - loss: 2.2731 - accuracy: 0.1526 - val_loss: 2.2122 - val_accuracy: 0.2176\n",
            "Epoch 2/100\n",
            "1719/1719 [==============================] - 2s 1ms/step - loss: 2.0603 - accuracy: 0.2425 - val_loss: 1.9463 - val_accuracy: 0.2724\n",
            "Epoch 3/100\n",
            "1719/1719 [==============================] - 2s 1ms/step - loss: 1.9196 - accuracy: 0.2829 - val_loss: 1.8824 - val_accuracy: 0.2930\n",
            "Epoch 4/100\n",
            "1719/1719 [==============================] - 2s 1ms/step - loss: 1.8870 - accuracy: 0.2954 - val_loss: 1.9236 - val_accuracy: 0.2906\n",
            "Epoch 5/100\n",
            "1719/1719 [==============================] - 2s 1ms/step - loss: 1.8641 - accuracy: 0.3067 - val_loss: 1.8603 - val_accuracy: 0.3040\n",
            "Epoch 6/100\n",
            "1719/1719 [==============================] - 2s 1ms/step - loss: 1.8431 - accuracy: 0.3177 - val_loss: 1.8712 - val_accuracy: 0.3044\n",
            "Epoch 7/100\n",
            "1719/1719 [==============================] - 2s 1ms/step - loss: 1.8112 - accuracy: 0.3373 - val_loss: 1.7729 - val_accuracy: 0.3588\n",
            "Epoch 8/100\n",
            "1719/1719 [==============================] - 2s 1ms/step - loss: 1.7665 - accuracy: 0.3557 - val_loss: 1.7250 - val_accuracy: 0.3792\n",
            "Epoch 9/100\n",
            "1719/1719 [==============================] - 2s 1ms/step - loss: 1.7200 - accuracy: 0.3748 - val_loss: 1.7813 - val_accuracy: 0.3584\n",
            "Epoch 10/100\n",
            "1719/1719 [==============================] - 2s 1ms/step - loss: 1.6932 - accuracy: 0.3879 - val_loss: 1.8092 - val_accuracy: 0.3460\n",
            "Epoch 11/100\n",
            "1719/1719 [==============================] - 2s 1ms/step - loss: 1.6618 - accuracy: 0.4007 - val_loss: 1.6939 - val_accuracy: 0.3768\n",
            "Epoch 12/100\n",
            "1719/1719 [==============================] - 2s 1ms/step - loss: 1.6380 - accuracy: 0.4110 - val_loss: 1.6457 - val_accuracy: 0.4104\n",
            "Epoch 13/100\n",
            "1719/1719 [==============================] - 2s 1ms/step - loss: 1.6223 - accuracy: 0.4159 - val_loss: 1.5985 - val_accuracy: 0.4312\n",
            "Epoch 14/100\n",
            "1719/1719 [==============================] - 2s 1ms/step - loss: 1.6129 - accuracy: 0.4204 - val_loss: 1.6003 - val_accuracy: 0.4258\n",
            "Epoch 15/100\n",
            "1719/1719 [==============================] - 2s 1ms/step - loss: 1.5989 - accuracy: 0.4232 - val_loss: 1.6966 - val_accuracy: 0.3896\n",
            "Epoch 16/100\n",
            "1719/1719 [==============================] - 2s 1ms/step - loss: 1.5864 - accuracy: 0.4283 - val_loss: 1.6528 - val_accuracy: 0.4086\n",
            "Epoch 17/100\n",
            "1719/1719 [==============================] - 2s 1ms/step - loss: 1.5752 - accuracy: 0.4341 - val_loss: 1.6161 - val_accuracy: 0.4122\n",
            "Epoch 18/100\n",
            "1719/1719 [==============================] - 2s 1ms/step - loss: 1.5701 - accuracy: 0.4363 - val_loss: 1.6603 - val_accuracy: 0.4034\n",
            "Epoch 19/100\n",
            "1719/1719 [==============================] - 2s 1ms/step - loss: 1.5616 - accuracy: 0.4403 - val_loss: 1.5936 - val_accuracy: 0.4278\n",
            "Epoch 20/100\n",
            "1719/1719 [==============================] - 2s 1ms/step - loss: 1.5543 - accuracy: 0.4428 - val_loss: 1.5087 - val_accuracy: 0.4668\n",
            "Epoch 21/100\n",
            "1719/1719 [==============================] - 2s 1ms/step - loss: 1.5475 - accuracy: 0.4458 - val_loss: 1.6300 - val_accuracy: 0.4210\n",
            "Epoch 22/100\n",
            "1719/1719 [==============================] - 2s 1ms/step - loss: 1.5440 - accuracy: 0.4463 - val_loss: 1.5013 - val_accuracy: 0.4680\n",
            "Epoch 23/100\n",
            "1719/1719 [==============================] - 2s 1ms/step - loss: 1.5355 - accuracy: 0.4496 - val_loss: 1.5382 - val_accuracy: 0.4522\n",
            "Epoch 24/100\n",
            "1719/1719 [==============================] - 2s 1ms/step - loss: 1.5297 - accuracy: 0.4502 - val_loss: 1.4943 - val_accuracy: 0.4646\n",
            "Epoch 25/100\n",
            "1719/1719 [==============================] - 2s 1ms/step - loss: 1.5246 - accuracy: 0.4534 - val_loss: 1.4891 - val_accuracy: 0.4664\n",
            "Epoch 26/100\n",
            "1719/1719 [==============================] - 2s 1ms/step - loss: 1.5201 - accuracy: 0.4527 - val_loss: 1.4974 - val_accuracy: 0.4622\n",
            "Epoch 27/100\n",
            "1719/1719 [==============================] - 2s 1ms/step - loss: 1.5170 - accuracy: 0.4554 - val_loss: 1.4891 - val_accuracy: 0.4684\n",
            "Epoch 28/100\n",
            "1719/1719 [==============================] - 2s 1ms/step - loss: 1.5115 - accuracy: 0.4557 - val_loss: 1.4878 - val_accuracy: 0.4640\n",
            "Epoch 29/100\n",
            "1719/1719 [==============================] - 2s 1ms/step - loss: 1.5104 - accuracy: 0.4559 - val_loss: 1.4833 - val_accuracy: 0.4658\n",
            "Epoch 30/100\n",
            "1719/1719 [==============================] - 2s 1ms/step - loss: 1.5050 - accuracy: 0.4581 - val_loss: 1.6127 - val_accuracy: 0.4218\n",
            "Epoch 31/100\n",
            "1719/1719 [==============================] - 2s 1ms/step - loss: 1.5013 - accuracy: 0.4607 - val_loss: 1.4641 - val_accuracy: 0.4696\n",
            "Epoch 32/100\n",
            "1719/1719 [==============================] - 2s 1ms/step - loss: 1.5010 - accuracy: 0.4585 - val_loss: 1.4755 - val_accuracy: 0.4592\n",
            "Epoch 33/100\n",
            "1719/1719 [==============================] - 2s 1ms/step - loss: 1.4947 - accuracy: 0.4609 - val_loss: 1.4661 - val_accuracy: 0.4754\n",
            "Epoch 34/100\n",
            "1719/1719 [==============================] - 2s 1ms/step - loss: 1.4949 - accuracy: 0.4630 - val_loss: 1.5414 - val_accuracy: 0.4472\n",
            "Epoch 35/100\n",
            "1719/1719 [==============================] - 2s 1ms/step - loss: 1.4897 - accuracy: 0.4633 - val_loss: 1.4548 - val_accuracy: 0.4772\n",
            "Epoch 36/100\n",
            "1719/1719 [==============================] - 2s 1ms/step - loss: 1.4893 - accuracy: 0.4655 - val_loss: 1.5068 - val_accuracy: 0.4536\n",
            "Epoch 37/100\n",
            "1719/1719 [==============================] - 2s 1ms/step - loss: 1.4855 - accuracy: 0.4649 - val_loss: 1.4487 - val_accuracy: 0.4726\n",
            "Epoch 38/100\n",
            "1719/1719 [==============================] - 2s 1ms/step - loss: 1.4830 - accuracy: 0.4649 - val_loss: 1.4866 - val_accuracy: 0.4608\n",
            "Epoch 39/100\n",
            "1719/1719 [==============================] - 2s 1ms/step - loss: 1.4799 - accuracy: 0.4661 - val_loss: 1.5024 - val_accuracy: 0.4576\n",
            "Epoch 40/100\n",
            "1719/1719 [==============================] - 2s 1ms/step - loss: 1.4792 - accuracy: 0.4666 - val_loss: 1.5004 - val_accuracy: 0.4510\n",
            "Epoch 41/100\n",
            "1719/1719 [==============================] - 2s 1ms/step - loss: 1.4748 - accuracy: 0.4683 - val_loss: 1.4360 - val_accuracy: 0.4798\n",
            "Epoch 42/100\n",
            "1719/1719 [==============================] - 2s 1ms/step - loss: 1.4733 - accuracy: 0.4696 - val_loss: 1.4664 - val_accuracy: 0.4694\n",
            "Epoch 43/100\n",
            "1719/1719 [==============================] - 2s 1ms/step - loss: 1.4719 - accuracy: 0.4695 - val_loss: 1.4833 - val_accuracy: 0.4620\n",
            "Epoch 44/100\n",
            "1719/1719 [==============================] - 2s 1ms/step - loss: 1.4705 - accuracy: 0.4687 - val_loss: 1.4489 - val_accuracy: 0.4756\n",
            "Epoch 45/100\n",
            "1719/1719 [==============================] - 2s 1ms/step - loss: 1.4687 - accuracy: 0.4701 - val_loss: 1.4711 - val_accuracy: 0.4714\n",
            "Epoch 46/100\n",
            "1719/1719 [==============================] - 2s 1ms/step - loss: 1.4661 - accuracy: 0.4709 - val_loss: 1.4319 - val_accuracy: 0.4822\n",
            "Epoch 47/100\n",
            "1719/1719 [==============================] - 2s 1ms/step - loss: 1.4639 - accuracy: 0.4724 - val_loss: 1.4501 - val_accuracy: 0.4754\n",
            "Epoch 48/100\n",
            "1719/1719 [==============================] - 2s 1ms/step - loss: 1.4622 - accuracy: 0.4735 - val_loss: 1.4598 - val_accuracy: 0.4752\n",
            "Epoch 49/100\n",
            "1719/1719 [==============================] - 2s 1ms/step - loss: 1.4613 - accuracy: 0.4739 - val_loss: 1.4869 - val_accuracy: 0.4608\n",
            "Epoch 50/100\n",
            "1719/1719 [==============================] - 2s 1ms/step - loss: 1.4576 - accuracy: 0.4726 - val_loss: 1.4525 - val_accuracy: 0.4752\n",
            "Epoch 51/100\n",
            "1719/1719 [==============================] - 2s 1ms/step - loss: 1.4578 - accuracy: 0.4739 - val_loss: 1.4337 - val_accuracy: 0.4810\n",
            "Epoch 52/100\n",
            "1719/1719 [==============================] - 2s 1ms/step - loss: 1.4556 - accuracy: 0.4751 - val_loss: 1.4379 - val_accuracy: 0.4754\n",
            "Epoch 53/100\n",
            "1719/1719 [==============================] - 2s 1ms/step - loss: 1.4540 - accuracy: 0.4729 - val_loss: 1.4617 - val_accuracy: 0.4740\n",
            "Epoch 54/100\n",
            "1719/1719 [==============================] - 2s 1ms/step - loss: 1.4519 - accuracy: 0.4772 - val_loss: 1.4717 - val_accuracy: 0.4682\n",
            "Epoch 55/100\n",
            "1719/1719 [==============================] - 2s 1ms/step - loss: 1.4499 - accuracy: 0.4761 - val_loss: 1.4686 - val_accuracy: 0.4722\n",
            "Epoch 56/100\n",
            "1719/1719 [==============================] - 2s 1ms/step - loss: 1.4502 - accuracy: 0.4769 - val_loss: 1.4691 - val_accuracy: 0.4634\n",
            "Epoch 57/100\n",
            "1719/1719 [==============================] - 2s 1ms/step - loss: 1.4483 - accuracy: 0.4785 - val_loss: 1.4554 - val_accuracy: 0.4794\n",
            "Epoch 58/100\n",
            "1719/1719 [==============================] - 2s 1ms/step - loss: 1.4450 - accuracy: 0.4791 - val_loss: 1.4305 - val_accuracy: 0.4830\n",
            "Epoch 59/100\n",
            "1719/1719 [==============================] - 2s 1ms/step - loss: 1.4439 - accuracy: 0.4796 - val_loss: 1.4154 - val_accuracy: 0.4868\n",
            "Epoch 60/100\n",
            "1719/1719 [==============================] - 2s 1ms/step - loss: 1.4406 - accuracy: 0.4799 - val_loss: 1.4878 - val_accuracy: 0.4610\n",
            "Epoch 61/100\n",
            "1719/1719 [==============================] - 2s 1ms/step - loss: 1.4399 - accuracy: 0.4791 - val_loss: 1.4906 - val_accuracy: 0.4536\n",
            "Epoch 62/100\n",
            "1719/1719 [==============================] - 2s 1ms/step - loss: 1.4385 - accuracy: 0.4817 - val_loss: 1.4216 - val_accuracy: 0.4824\n",
            "Epoch 63/100\n",
            "1719/1719 [==============================] - 2s 1ms/step - loss: 1.4376 - accuracy: 0.4815 - val_loss: 1.4721 - val_accuracy: 0.4660\n",
            "Epoch 64/100\n",
            "1719/1719 [==============================] - 2s 1ms/step - loss: 1.4350 - accuracy: 0.4815 - val_loss: 1.4057 - val_accuracy: 0.4904\n",
            "Epoch 65/100\n",
            "1719/1719 [==============================] - 2s 1ms/step - loss: 1.4337 - accuracy: 0.4828 - val_loss: 1.4948 - val_accuracy: 0.4606\n",
            "Epoch 66/100\n",
            "1719/1719 [==============================] - 2s 1ms/step - loss: 1.4327 - accuracy: 0.4849 - val_loss: 1.4148 - val_accuracy: 0.4886\n",
            "Epoch 67/100\n",
            "1719/1719 [==============================] - 2s 1ms/step - loss: 1.4287 - accuracy: 0.4854 - val_loss: 1.4103 - val_accuracy: 0.4942\n",
            "Epoch 68/100\n",
            "1719/1719 [==============================] - 2s 1ms/step - loss: 1.4289 - accuracy: 0.4842 - val_loss: 1.3983 - val_accuracy: 0.4922\n",
            "Epoch 69/100\n",
            "1719/1719 [==============================] - 2s 1ms/step - loss: 1.4290 - accuracy: 0.4848 - val_loss: 1.4074 - val_accuracy: 0.4920\n",
            "Epoch 70/100\n",
            "1719/1719 [==============================] - 2s 1ms/step - loss: 1.4265 - accuracy: 0.4853 - val_loss: 1.4298 - val_accuracy: 0.4838\n",
            "Epoch 71/100\n",
            "1719/1719 [==============================] - 2s 1ms/step - loss: 1.4265 - accuracy: 0.4870 - val_loss: 1.4047 - val_accuracy: 0.4850\n",
            "Epoch 72/100\n",
            "1719/1719 [==============================] - 2s 1ms/step - loss: 1.4251 - accuracy: 0.4857 - val_loss: 1.4334 - val_accuracy: 0.4876\n",
            "Epoch 73/100\n",
            "1719/1719 [==============================] - 2s 1ms/step - loss: 1.4204 - accuracy: 0.4873 - val_loss: 1.3924 - val_accuracy: 0.4954\n",
            "Epoch 74/100\n",
            "1719/1719 [==============================] - 2s 1ms/step - loss: 1.4211 - accuracy: 0.4887 - val_loss: 1.4284 - val_accuracy: 0.4758\n",
            "Epoch 75/100\n",
            "1719/1719 [==============================] - 2s 1ms/step - loss: 1.4193 - accuracy: 0.4890 - val_loss: 1.3920 - val_accuracy: 0.4956\n",
            "Epoch 76/100\n",
            "1719/1719 [==============================] - 2s 1ms/step - loss: 1.4195 - accuracy: 0.4887 - val_loss: 1.3963 - val_accuracy: 0.4990\n",
            "Epoch 77/100\n",
            "1719/1719 [==============================] - 2s 1ms/step - loss: 1.4177 - accuracy: 0.4879 - val_loss: 1.4330 - val_accuracy: 0.4864\n",
            "Epoch 78/100\n",
            "1719/1719 [==============================] - 2s 1ms/step - loss: 1.4154 - accuracy: 0.4899 - val_loss: 1.3947 - val_accuracy: 0.4960\n",
            "Epoch 79/100\n",
            "1719/1719 [==============================] - 2s 1ms/step - loss: 1.4151 - accuracy: 0.4902 - val_loss: 1.3817 - val_accuracy: 0.5022\n",
            "Epoch 80/100\n",
            "1719/1719 [==============================] - 2s 1ms/step - loss: 1.4125 - accuracy: 0.4899 - val_loss: 1.3995 - val_accuracy: 0.5008\n",
            "Epoch 81/100\n",
            "1719/1719 [==============================] - 2s 1ms/step - loss: 1.4121 - accuracy: 0.4898 - val_loss: 1.3785 - val_accuracy: 0.5026\n",
            "Epoch 82/100\n",
            "1719/1719 [==============================] - 2s 1ms/step - loss: 1.4103 - accuracy: 0.4926 - val_loss: 1.4129 - val_accuracy: 0.4928\n",
            "Epoch 83/100\n",
            "1719/1719 [==============================] - 2s 1ms/step - loss: 1.4094 - accuracy: 0.4945 - val_loss: 1.3889 - val_accuracy: 0.5002\n",
            "Epoch 84/100\n",
            "1719/1719 [==============================] - 2s 1ms/step - loss: 1.4078 - accuracy: 0.4922 - val_loss: 1.3945 - val_accuracy: 0.4982\n",
            "Epoch 85/100\n",
            "1719/1719 [==============================] - 2s 1ms/step - loss: 1.4077 - accuracy: 0.4940 - val_loss: 1.4207 - val_accuracy: 0.4880\n",
            "Epoch 86/100\n",
            "1719/1719 [==============================] - 2s 1ms/step - loss: 1.4076 - accuracy: 0.4920 - val_loss: 1.3881 - val_accuracy: 0.5000\n",
            "Epoch 87/100\n",
            "1719/1719 [==============================] - 2s 1ms/step - loss: 1.4042 - accuracy: 0.4937 - val_loss: 1.3957 - val_accuracy: 0.5050\n",
            "Epoch 88/100\n",
            "1719/1719 [==============================] - 2s 1ms/step - loss: 1.4050 - accuracy: 0.4936 - val_loss: 1.3772 - val_accuracy: 0.5094\n",
            "Epoch 89/100\n",
            "1719/1719 [==============================] - 2s 1ms/step - loss: 1.4027 - accuracy: 0.4936 - val_loss: 1.4512 - val_accuracy: 0.4826\n",
            "Epoch 90/100\n",
            "1719/1719 [==============================] - 2s 1ms/step - loss: 1.4021 - accuracy: 0.4941 - val_loss: 1.4080 - val_accuracy: 0.4950\n",
            "Epoch 91/100\n",
            "1719/1719 [==============================] - 2s 1ms/step - loss: 1.4004 - accuracy: 0.4950 - val_loss: 1.4172 - val_accuracy: 0.4936\n",
            "Epoch 92/100\n",
            "1719/1719 [==============================] - 2s 1ms/step - loss: 1.4019 - accuracy: 0.4945 - val_loss: 1.4295 - val_accuracy: 0.4830\n",
            "Epoch 93/100\n",
            "1719/1719 [==============================] - 2s 1ms/step - loss: 1.3992 - accuracy: 0.4958 - val_loss: 1.3812 - val_accuracy: 0.5008\n",
            "Epoch 94/100\n",
            "1719/1719 [==============================] - 2s 1ms/step - loss: 1.3968 - accuracy: 0.4954 - val_loss: 1.3739 - val_accuracy: 0.5116\n",
            "Epoch 95/100\n",
            "1719/1719 [==============================] - 2s 1ms/step - loss: 1.3985 - accuracy: 0.4955 - val_loss: 1.3812 - val_accuracy: 0.5044\n",
            "Epoch 96/100\n",
            "1719/1719 [==============================] - 2s 1ms/step - loss: 1.3959 - accuracy: 0.4973 - val_loss: 1.3830 - val_accuracy: 0.5050\n",
            "Epoch 97/100\n",
            "1719/1719 [==============================] - 2s 1ms/step - loss: 1.3945 - accuracy: 0.4965 - val_loss: 1.3867 - val_accuracy: 0.5054\n",
            "Epoch 98/100\n",
            "1719/1719 [==============================] - 2s 1ms/step - loss: 1.3946 - accuracy: 0.4972 - val_loss: 1.3768 - val_accuracy: 0.5064\n",
            "Epoch 99/100\n",
            "1719/1719 [==============================] - 2s 1ms/step - loss: 1.3921 - accuracy: 0.4972 - val_loss: 1.3694 - val_accuracy: 0.5150\n",
            "Epoch 100/100\n",
            "1719/1719 [==============================] - 2s 1ms/step - loss: 1.3919 - accuracy: 0.4995 - val_loss: 1.3776 - val_accuracy: 0.5028\n"
          ],
          "name": "stdout"
        }
      ]
    },
    {
      "cell_type": "code",
      "metadata": {
        "id": "phfTqKWD1b-U",
        "colab": {
          "base_uri": "https://localhost:8080/",
          "height": 305
        },
        "outputId": "e000c2d7-b845-450c-c785-359041c77e44"
      },
      "source": [
        "model_nn_lbp_sgd.summary()"
      ],
      "execution_count": null,
      "outputs": [
        {
          "output_type": "stream",
          "text": [
            "Model: \"sequential_3\"\n",
            "_________________________________________________________________\n",
            "Layer (type)                 Output Shape              Param #   \n",
            "=================================================================\n",
            "flatten_3 (Flatten)          (None, 26)                0         \n",
            "_________________________________________________________________\n",
            "dense_8 (Dense)              (None, 128)               3456      \n",
            "_________________________________________________________________\n",
            "dense_9 (Dense)              (None, 128)               16512     \n",
            "_________________________________________________________________\n",
            "dense_10 (Dense)             (None, 10)                1290      \n",
            "=================================================================\n",
            "Total params: 21,258\n",
            "Trainable params: 21,258\n",
            "Non-trainable params: 0\n",
            "_________________________________________________________________\n"
          ],
          "name": "stdout"
        }
      ]
    },
    {
      "cell_type": "code",
      "metadata": {
        "id": "NqoKbbkk1k_E",
        "colab": {
          "base_uri": "https://localhost:8080/",
          "height": 602
        },
        "outputId": "1f2aa650-1cc7-4940-ed35-d5551646d689"
      },
      "source": [
        "## Plot the learning curves \n",
        "import pandas as pd\n",
        "import matplotlib.pyplot as plt\n",
        "pd.DataFrame(H_nn_lbp_sgd.history).plot(figsize=(8, 5))\n",
        "plt.grid(True)\n",
        "plt.gca().set_ylim(0, 1) # set the vertical range to [0-1]\n",
        "plt.show()\n",
        "\n",
        "## Plot only the loss train loss\n",
        "plt.plot(H_nn_lbp_sgd.history['loss'])\n",
        "plt.ylabel('cost')\n",
        "plt.xlabel('Epochs')\n",
        "plt.title(\"Cost/Loss Curve\")\n",
        "plt.show()"
      ],
      "execution_count": null,
      "outputs": [
        {
          "output_type": "display_data",
          "data": {
            "image/png": "[encoded data removed]",
            "text/plain": [
              "<Figure size 576x360 with 1 Axes>"
            ]
          },
          "metadata": {
            "tags": [],
            "needs_background": "light"
          }
        },
        {
          "output_type": "display_data",
          "data": {
            "image/png": "[encoded data removed]",
            "text/plain": [
              "<Figure size 432x288 with 1 Axes>"
            ]
          },
          "metadata": {
            "tags": [],
            "needs_background": "light"
          }
        }
      ]
    },
    {
      "cell_type": "code",
      "metadata": {
        "id": "XcM9V4zO1lv1",
        "colab": {
          "base_uri": "https://localhost:8080/",
          "height": 53
        },
        "outputId": "fdbcc99f-ffe6-4e67-fe77-8bbc8bb0703e"
      },
      "source": [
        "## Evaluate the model's performance on test dataset.\n",
        "model_nn_lbp_sgd.evaluate(data_test_nn_lbp, labels_test_nn_lbp)"
      ],
      "execution_count": null,
      "outputs": [
        {
          "output_type": "stream",
          "text": [
            "313/313 [==============================] - 0s 1ms/step - loss: 1.3551 - accuracy: 0.5157\n"
          ],
          "name": "stdout"
        },
        {
          "output_type": "execute_result",
          "data": {
            "text/plain": [
              "[1.3550697565078735, 0.5156999826431274]"
            ]
          },
          "metadata": {
            "tags": []
          },
          "execution_count": 35
        }
      ]
    },
    {
      "cell_type": "markdown",
      "metadata": {
        "id": "tOzdmlaTT1q4"
      },
      "source": [
        "###ANN_HOG"
      ]
    },
    {
      "cell_type": "markdown",
      "metadata": {
        "id": "PkR_EP15nt7q"
      },
      "source": [
        "####ANN_HOG_ADAM"
      ]
    },
    {
      "cell_type": "code",
      "metadata": {
        "id": "9WMdp1rv38dr"
      },
      "source": [
        "data_train_hog = np.array(data_train_hog)\n",
        "labels_train_hog = np.array(labels_train_hog)\n",
        "\n",
        "valid_images_hog = data_train_hog[:5000]\n",
        "valid_labels_hog = labels_train_hog[:5000]\n",
        "\n",
        "\n",
        "data_train_hog_nn = data_train_hog[5000:]\n",
        "labels_train_hog_nn = labels_train_hog[5000:]\n"
      ],
      "execution_count": null,
      "outputs": []
    },
    {
      "cell_type": "code",
      "metadata": {
        "id": "VdnLXbQF6uoc",
        "colab": {
          "base_uri": "https://localhost:8080/",
          "height": 89
        },
        "outputId": "c4d1c21f-25d7-4ef9-80c2-5c332f64e6a3"
      },
      "source": [
        "print(np.shape(data_train_hog_nn))\n",
        "print(np.shape(valid_images_hog))\n",
        "print(data_train_hog_nn.dtype)\n",
        "print(labels_train_hog_nn.dtype)"
      ],
      "execution_count": null,
      "outputs": [
        {
          "output_type": "stream",
          "text": [
            "(55000, 144)\n",
            "(5000, 144)\n",
            "float64\n",
            "uint8\n"
          ],
          "name": "stdout"
        }
      ]
    },
    {
      "cell_type": "code",
      "metadata": {
        "id": "EJRPaYOi2yRP"
      },
      "source": [
        "model_nn_hog = tf.keras.models.Sequential([tf.keras.layers.Flatten(input_shape=(144,)), \n",
        "                                    tf.keras.layers.Dense(128, activation=tf.nn.relu), tf.keras.layers.Dense(128, activation=tf.nn.relu), \n",
        "                                    tf.keras.layers.Dense(10, activation=tf.nn.softmax)])"
      ],
      "execution_count": null,
      "outputs": []
    },
    {
      "cell_type": "code",
      "metadata": {
        "id": "1qcQkQFC2_VQ",
        "colab": {
          "base_uri": "https://localhost:8080/",
          "height": 1000
        },
        "outputId": "0209002f-dee4-4671-fbd7-153294296e4e"
      },
      "source": [
        "model_nn_hog.compile(optimizer = tf.optimizers.Adam(),\n",
        "              loss = 'sparse_categorical_crossentropy',\n",
        "              metrics=['accuracy'])\n",
        "\n",
        "H=model_nn_hog.fit(data_train_hog_nn, labels_train_hog_nn, epochs=500,validation_data=(valid_images_hog, valid_labels_hog))"
      ],
      "execution_count": null,
      "outputs": [
        {
          "output_type": "stream",
          "text": [
            "Epoch 1/500\n",
            "1719/1719 [==============================] - 4s 2ms/step - loss: 0.3705 - accuracy: 0.8923 - val_loss: 0.1788 - val_accuracy: 0.9454\n",
            "Epoch 2/500\n",
            "1719/1719 [==============================] - 3s 2ms/step - loss: 0.1634 - accuracy: 0.9482 - val_loss: 0.1417 - val_accuracy: 0.9542\n",
            "Epoch 3/500\n",
            "1719/1719 [==============================] - 3s 2ms/step - loss: 0.1360 - accuracy: 0.9565 - val_loss: 0.1198 - val_accuracy: 0.9604\n",
            "Epoch 4/500\n",
            "1719/1719 [==============================] - 3s 2ms/step - loss: 0.1185 - accuracy: 0.9614 - val_loss: 0.1295 - val_accuracy: 0.9550\n",
            "Epoch 5/500\n",
            "1719/1719 [==============================] - 3s 2ms/step - loss: 0.1064 - accuracy: 0.9652 - val_loss: 0.0997 - val_accuracy: 0.9676\n",
            "Epoch 6/500\n",
            "1719/1719 [==============================] - 3s 2ms/step - loss: 0.0957 - accuracy: 0.9679 - val_loss: 0.0978 - val_accuracy: 0.9682\n",
            "Epoch 7/500\n",
            "1719/1719 [==============================] - 3s 2ms/step - loss: 0.0875 - accuracy: 0.9713 - val_loss: 0.1047 - val_accuracy: 0.9672\n",
            "Epoch 8/500\n",
            "1719/1719 [==============================] - 3s 2ms/step - loss: 0.0806 - accuracy: 0.9741 - val_loss: 0.1000 - val_accuracy: 0.9680\n",
            "Epoch 9/500\n",
            "1719/1719 [==============================] - 3s 2ms/step - loss: 0.0750 - accuracy: 0.9759 - val_loss: 0.0807 - val_accuracy: 0.9754\n",
            "Epoch 10/500\n",
            "1719/1719 [==============================] - 3s 2ms/step - loss: 0.0692 - accuracy: 0.9773 - val_loss: 0.0830 - val_accuracy: 0.9730\n",
            "Epoch 11/500\n",
            "1719/1719 [==============================] - 3s 2ms/step - loss: 0.0644 - accuracy: 0.9789 - val_loss: 0.0795 - val_accuracy: 0.9758\n",
            "Epoch 12/500\n",
            "1719/1719 [==============================] - 3s 2ms/step - loss: 0.0595 - accuracy: 0.9802 - val_loss: 0.0826 - val_accuracy: 0.9746\n",
            "Epoch 13/500\n",
            "1719/1719 [==============================] - 3s 2ms/step - loss: 0.0562 - accuracy: 0.9818 - val_loss: 0.0766 - val_accuracy: 0.9756\n",
            "Epoch 14/500\n",
            "1719/1719 [==============================] - 3s 2ms/step - loss: 0.0519 - accuracy: 0.9825 - val_loss: 0.0728 - val_accuracy: 0.9774\n",
            "Epoch 15/500\n",
            "1719/1719 [==============================] - 3s 2ms/step - loss: 0.0493 - accuracy: 0.9832 - val_loss: 0.0772 - val_accuracy: 0.9766\n",
            "Epoch 16/500\n",
            "1719/1719 [==============================] - 3s 2ms/step - loss: 0.0448 - accuracy: 0.9853 - val_loss: 0.0884 - val_accuracy: 0.9732\n",
            "Epoch 17/500\n",
            "1719/1719 [==============================] - 3s 2ms/step - loss: 0.0429 - accuracy: 0.9855 - val_loss: 0.0803 - val_accuracy: 0.9738\n",
            "Epoch 18/500\n",
            "1719/1719 [==============================] - 3s 2ms/step - loss: 0.0401 - accuracy: 0.9865 - val_loss: 0.0761 - val_accuracy: 0.9788\n",
            "Epoch 19/500\n",
            "1719/1719 [==============================] - 3s 2ms/step - loss: 0.0376 - accuracy: 0.9871 - val_loss: 0.0801 - val_accuracy: 0.9774\n",
            "Epoch 20/500\n",
            "1719/1719 [==============================] - 4s 2ms/step - loss: 0.0344 - accuracy: 0.9883 - val_loss: 0.0843 - val_accuracy: 0.9766\n",
            "Epoch 21/500\n",
            "1719/1719 [==============================] - 4s 2ms/step - loss: 0.0323 - accuracy: 0.9888 - val_loss: 0.0782 - val_accuracy: 0.9784\n",
            "Epoch 22/500\n",
            "1719/1719 [==============================] - 3s 2ms/step - loss: 0.0305 - accuracy: 0.9897 - val_loss: 0.0788 - val_accuracy: 0.9782\n",
            "Epoch 23/500\n",
            "1719/1719 [==============================] - 3s 2ms/step - loss: 0.0284 - accuracy: 0.9901 - val_loss: 0.0765 - val_accuracy: 0.9782\n",
            "Epoch 24/500\n",
            "1719/1719 [==============================] - 3s 2ms/step - loss: 0.0273 - accuracy: 0.9905 - val_loss: 0.0829 - val_accuracy: 0.9786\n",
            "Epoch 25/500\n",
            "1719/1719 [==============================] - 3s 2ms/step - loss: 0.0262 - accuracy: 0.9909 - val_loss: 0.1020 - val_accuracy: 0.9736\n",
            "Epoch 26/500\n",
            "1719/1719 [==============================] - 3s 2ms/step - loss: 0.0238 - accuracy: 0.9919 - val_loss: 0.0824 - val_accuracy: 0.9778\n",
            "Epoch 27/500\n",
            "1719/1719 [==============================] - 3s 2ms/step - loss: 0.0221 - accuracy: 0.9925 - val_loss: 0.0815 - val_accuracy: 0.9786\n",
            "Epoch 28/500\n",
            "1719/1719 [==============================] - 3s 2ms/step - loss: 0.0217 - accuracy: 0.9928 - val_loss: 0.0882 - val_accuracy: 0.9768\n",
            "Epoch 29/500\n",
            "1719/1719 [==============================] - 3s 2ms/step - loss: 0.0205 - accuracy: 0.9932 - val_loss: 0.0816 - val_accuracy: 0.9802\n",
            "Epoch 30/500\n",
            "1719/1719 [==============================] - 3s 2ms/step - loss: 0.0182 - accuracy: 0.9939 - val_loss: 0.0911 - val_accuracy: 0.9772\n",
            "Epoch 31/500\n",
            "1719/1719 [==============================] - 3s 2ms/step - loss: 0.0171 - accuracy: 0.9941 - val_loss: 0.0912 - val_accuracy: 0.9788\n",
            "Epoch 32/500\n",
            "1719/1719 [==============================] - 3s 2ms/step - loss: 0.0164 - accuracy: 0.9946 - val_loss: 0.1009 - val_accuracy: 0.9768\n",
            "Epoch 33/500\n",
            "1719/1719 [==============================] - 3s 2ms/step - loss: 0.0155 - accuracy: 0.9945 - val_loss: 0.0933 - val_accuracy: 0.9792\n",
            "Epoch 34/500\n",
            "1719/1719 [==============================] - 3s 2ms/step - loss: 0.0154 - accuracy: 0.9949 - val_loss: 0.1121 - val_accuracy: 0.9734\n",
            "Epoch 35/500\n",
            "1719/1719 [==============================] - 3s 2ms/step - loss: 0.0134 - accuracy: 0.9954 - val_loss: 0.0952 - val_accuracy: 0.9770\n",
            "Epoch 36/500\n",
            "1719/1719 [==============================] - 3s 2ms/step - loss: 0.0137 - accuracy: 0.9955 - val_loss: 0.0944 - val_accuracy: 0.9776\n",
            "Epoch 37/500\n",
            "1719/1719 [==============================] - 3s 2ms/step - loss: 0.0122 - accuracy: 0.9960 - val_loss: 0.0987 - val_accuracy: 0.9780\n",
            "Epoch 38/500\n",
            "1719/1719 [==============================] - 3s 2ms/step - loss: 0.0126 - accuracy: 0.9955 - val_loss: 0.1028 - val_accuracy: 0.9772\n",
            "Epoch 39/500\n",
            "1719/1719 [==============================] - 3s 2ms/step - loss: 0.0108 - accuracy: 0.9964 - val_loss: 0.1062 - val_accuracy: 0.9766\n",
            "Epoch 40/500\n",
            "1719/1719 [==============================] - 3s 2ms/step - loss: 0.0111 - accuracy: 0.9964 - val_loss: 0.0968 - val_accuracy: 0.9776\n",
            "Epoch 41/500\n",
            "1719/1719 [==============================] - 3s 2ms/step - loss: 0.0108 - accuracy: 0.9962 - val_loss: 0.1034 - val_accuracy: 0.9786\n",
            "Epoch 42/500\n",
            "1719/1719 [==============================] - 3s 2ms/step - loss: 0.0097 - accuracy: 0.9967 - val_loss: 0.1149 - val_accuracy: 0.9752\n",
            "Epoch 43/500\n",
            "1719/1719 [==============================] - 3s 2ms/step - loss: 0.0094 - accuracy: 0.9966 - val_loss: 0.1164 - val_accuracy: 0.9762\n",
            "Epoch 44/500\n",
            "1719/1719 [==============================] - 3s 2ms/step - loss: 0.0095 - accuracy: 0.9966 - val_loss: 0.1067 - val_accuracy: 0.9778\n",
            "Epoch 45/500\n",
            "1719/1719 [==============================] - 3s 2ms/step - loss: 0.0089 - accuracy: 0.9969 - val_loss: 0.1187 - val_accuracy: 0.9748\n",
            "Epoch 46/500\n",
            "1719/1719 [==============================] - 3s 2ms/step - loss: 0.0088 - accuracy: 0.9967 - val_loss: 0.1238 - val_accuracy: 0.9752\n",
            "Epoch 47/500\n",
            "1719/1719 [==============================] - 3s 2ms/step - loss: 0.0083 - accuracy: 0.9972 - val_loss: 0.1174 - val_accuracy: 0.9772\n",
            "Epoch 48/500\n",
            "1719/1719 [==============================] - 3s 2ms/step - loss: 0.0087 - accuracy: 0.9967 - val_loss: 0.1267 - val_accuracy: 0.9756\n",
            "Epoch 49/500\n",
            "1719/1719 [==============================] - 3s 2ms/step - loss: 0.0084 - accuracy: 0.9973 - val_loss: 0.1254 - val_accuracy: 0.9760\n",
            "Epoch 50/500\n",
            "1719/1719 [==============================] - 3s 2ms/step - loss: 0.0078 - accuracy: 0.9972 - val_loss: 0.1281 - val_accuracy: 0.9746\n",
            "Epoch 51/500\n",
            "1719/1719 [==============================] - 3s 2ms/step - loss: 0.0076 - accuracy: 0.9972 - val_loss: 0.1240 - val_accuracy: 0.9758\n",
            "Epoch 52/500\n",
            "1719/1719 [==============================] - 3s 2ms/step - loss: 0.0064 - accuracy: 0.9979 - val_loss: 0.1304 - val_accuracy: 0.9756\n",
            "Epoch 53/500\n",
            "1719/1719 [==============================] - 3s 2ms/step - loss: 0.0075 - accuracy: 0.9976 - val_loss: 0.1360 - val_accuracy: 0.9762\n",
            "Epoch 54/500\n",
            "1719/1719 [==============================] - 3s 2ms/step - loss: 0.0066 - accuracy: 0.9978 - val_loss: 0.1316 - val_accuracy: 0.9766\n",
            "Epoch 55/500\n",
            "1719/1719 [==============================] - 3s 2ms/step - loss: 0.0068 - accuracy: 0.9978 - val_loss: 0.1200 - val_accuracy: 0.9764\n",
            "Epoch 56/500\n",
            "1719/1719 [==============================] - 3s 2ms/step - loss: 0.0068 - accuracy: 0.9976 - val_loss: 0.1220 - val_accuracy: 0.9782\n",
            "Epoch 57/500\n",
            "1719/1719 [==============================] - 3s 2ms/step - loss: 0.0044 - accuracy: 0.9986 - val_loss: 0.1339 - val_accuracy: 0.9746\n",
            "Epoch 58/500\n",
            "1719/1719 [==============================] - 3s 2ms/step - loss: 0.0080 - accuracy: 0.9973 - val_loss: 0.1301 - val_accuracy: 0.9766\n",
            "Epoch 59/500\n",
            "1719/1719 [==============================] - 3s 2ms/step - loss: 0.0063 - accuracy: 0.9980 - val_loss: 0.1410 - val_accuracy: 0.9778\n",
            "Epoch 60/500\n",
            "1719/1719 [==============================] - 3s 2ms/step - loss: 0.0073 - accuracy: 0.9974 - val_loss: 0.1404 - val_accuracy: 0.9762\n",
            "Epoch 61/500\n",
            "1719/1719 [==============================] - 3s 2ms/step - loss: 0.0047 - accuracy: 0.9984 - val_loss: 0.1518 - val_accuracy: 0.9744\n",
            "Epoch 62/500\n",
            "1719/1719 [==============================] - 3s 2ms/step - loss: 0.0049 - accuracy: 0.9984 - val_loss: 0.1456 - val_accuracy: 0.9772\n",
            "Epoch 63/500\n",
            "1719/1719 [==============================] - 3s 2ms/step - loss: 0.0061 - accuracy: 0.9978 - val_loss: 0.1439 - val_accuracy: 0.9796\n",
            "Epoch 64/500\n",
            "1719/1719 [==============================] - 3s 2ms/step - loss: 0.0050 - accuracy: 0.9982 - val_loss: 0.1423 - val_accuracy: 0.9766\n",
            "Epoch 65/500\n",
            "1719/1719 [==============================] - 3s 2ms/step - loss: 0.0063 - accuracy: 0.9979 - val_loss: 0.2002 - val_accuracy: 0.9712\n",
            "Epoch 66/500\n",
            "1719/1719 [==============================] - 3s 2ms/step - loss: 0.0045 - accuracy: 0.9986 - val_loss: 0.1518 - val_accuracy: 0.9782\n",
            "Epoch 67/500\n",
            "1719/1719 [==============================] - 3s 2ms/step - loss: 0.0056 - accuracy: 0.9980 - val_loss: 0.1446 - val_accuracy: 0.9758\n",
            "Epoch 68/500\n",
            "1719/1719 [==============================] - 3s 2ms/step - loss: 0.0057 - accuracy: 0.9979 - val_loss: 0.1503 - val_accuracy: 0.9778\n",
            "Epoch 69/500\n",
            "1719/1719 [==============================] - 3s 2ms/step - loss: 0.0054 - accuracy: 0.9979 - val_loss: 0.1512 - val_accuracy: 0.9776\n",
            "Epoch 70/500\n",
            "1719/1719 [==============================] - 3s 2ms/step - loss: 0.0051 - accuracy: 0.9982 - val_loss: 0.1555 - val_accuracy: 0.9766\n",
            "Epoch 71/500\n",
            "1719/1719 [==============================] - 3s 2ms/step - loss: 0.0036 - accuracy: 0.9987 - val_loss: 0.1605 - val_accuracy: 0.9774\n",
            "Epoch 72/500\n",
            "1719/1719 [==============================] - 3s 2ms/step - loss: 0.0046 - accuracy: 0.9985 - val_loss: 0.1749 - val_accuracy: 0.9766\n",
            "Epoch 73/500\n",
            "1719/1719 [==============================] - 3s 2ms/step - loss: 0.0053 - accuracy: 0.9983 - val_loss: 0.1537 - val_accuracy: 0.9794\n",
            "Epoch 74/500\n",
            "1719/1719 [==============================] - 3s 2ms/step - loss: 0.0052 - accuracy: 0.9983 - val_loss: 0.1741 - val_accuracy: 0.9742\n",
            "Epoch 75/500\n",
            "1719/1719 [==============================] - 3s 2ms/step - loss: 0.0054 - accuracy: 0.9980 - val_loss: 0.1658 - val_accuracy: 0.9770\n",
            "Epoch 76/500\n",
            "1719/1719 [==============================] - 3s 2ms/step - loss: 0.0055 - accuracy: 0.9983 - val_loss: 0.1715 - val_accuracy: 0.9770\n",
            "Epoch 77/500\n",
            "1719/1719 [==============================] - 3s 2ms/step - loss: 0.0055 - accuracy: 0.9983 - val_loss: 0.1660 - val_accuracy: 0.9766\n",
            "Epoch 78/500\n",
            "1719/1719 [==============================] - 3s 2ms/step - loss: 0.0044 - accuracy: 0.9983 - val_loss: 0.1794 - val_accuracy: 0.9746\n",
            "Epoch 79/500\n",
            "1719/1719 [==============================] - 3s 2ms/step - loss: 0.0047 - accuracy: 0.9983 - val_loss: 0.1553 - val_accuracy: 0.9782\n",
            "Epoch 80/500\n",
            "1719/1719 [==============================] - 3s 2ms/step - loss: 0.0052 - accuracy: 0.9982 - val_loss: 0.1714 - val_accuracy: 0.9740\n",
            "Epoch 81/500\n",
            "1719/1719 [==============================] - 3s 2ms/step - loss: 0.0042 - accuracy: 0.9988 - val_loss: 0.1775 - val_accuracy: 0.9730\n",
            "Epoch 82/500\n",
            "1719/1719 [==============================] - 3s 2ms/step - loss: 0.0049 - accuracy: 0.9985 - val_loss: 0.1915 - val_accuracy: 0.9744\n",
            "Epoch 83/500\n",
            "1719/1719 [==============================] - 3s 2ms/step - loss: 0.0048 - accuracy: 0.9983 - val_loss: 0.1798 - val_accuracy: 0.9766\n",
            "Epoch 84/500\n",
            "1719/1719 [==============================] - 3s 2ms/step - loss: 0.0037 - accuracy: 0.9989 - val_loss: 0.1780 - val_accuracy: 0.9752\n",
            "Epoch 85/500\n",
            "1719/1719 [==============================] - 3s 2ms/step - loss: 0.0049 - accuracy: 0.9983 - val_loss: 0.1689 - val_accuracy: 0.9774\n",
            "Epoch 86/500\n",
            "1719/1719 [==============================] - 3s 2ms/step - loss: 0.0049 - accuracy: 0.9983 - val_loss: 0.1860 - val_accuracy: 0.9736\n",
            "Epoch 87/500\n",
            "1719/1719 [==============================] - 3s 2ms/step - loss: 0.0045 - accuracy: 0.9984 - val_loss: 0.1661 - val_accuracy: 0.9778\n",
            "Epoch 88/500\n",
            "1719/1719 [==============================] - 3s 2ms/step - loss: 0.0042 - accuracy: 0.9989 - val_loss: 0.2281 - val_accuracy: 0.9704\n",
            "Epoch 89/500\n",
            "1719/1719 [==============================] - 3s 2ms/step - loss: 0.0036 - accuracy: 0.9990 - val_loss: 0.1636 - val_accuracy: 0.9766\n",
            "Epoch 90/500\n",
            "1719/1719 [==============================] - 3s 2ms/step - loss: 0.0057 - accuracy: 0.9981 - val_loss: 0.1759 - val_accuracy: 0.9768\n",
            "Epoch 91/500\n",
            "1719/1719 [==============================] - 3s 2ms/step - loss: 0.0037 - accuracy: 0.9988 - val_loss: 0.1780 - val_accuracy: 0.9754\n",
            "Epoch 92/500\n",
            "1719/1719 [==============================] - 3s 2ms/step - loss: 0.0026 - accuracy: 0.9992 - val_loss: 0.2080 - val_accuracy: 0.9746\n",
            "Epoch 93/500\n",
            "1719/1719 [==============================] - 3s 2ms/step - loss: 0.0052 - accuracy: 0.9980 - val_loss: 0.1681 - val_accuracy: 0.9772\n",
            "Epoch 94/500\n",
            "1719/1719 [==============================] - 3s 2ms/step - loss: 0.0031 - accuracy: 0.9989 - val_loss: 0.1735 - val_accuracy: 0.9770\n",
            "Epoch 95/500\n",
            "1719/1719 [==============================] - 3s 2ms/step - loss: 0.0043 - accuracy: 0.9985 - val_loss: 0.1639 - val_accuracy: 0.9760\n",
            "Epoch 96/500\n",
            "1719/1719 [==============================] - 3s 2ms/step - loss: 0.0034 - accuracy: 0.9989 - val_loss: 0.1763 - val_accuracy: 0.9756\n",
            "Epoch 97/500\n",
            "1719/1719 [==============================] - 3s 2ms/step - loss: 0.0051 - accuracy: 0.9983 - val_loss: 0.1811 - val_accuracy: 0.9776\n",
            "Epoch 98/500\n",
            "1719/1719 [==============================] - 3s 2ms/step - loss: 0.0026 - accuracy: 0.9992 - val_loss: 0.1830 - val_accuracy: 0.9772\n",
            "Epoch 99/500\n",
            "1719/1719 [==============================] - 3s 2ms/step - loss: 0.0035 - accuracy: 0.9990 - val_loss: 0.2023 - val_accuracy: 0.9764\n",
            "Epoch 100/500\n",
            "1719/1719 [==============================] - 3s 2ms/step - loss: 0.0055 - accuracy: 0.9982 - val_loss: 0.1947 - val_accuracy: 0.9754\n",
            "Epoch 101/500\n",
            "1719/1719 [==============================] - 3s 2ms/step - loss: 0.0040 - accuracy: 0.9985 - val_loss: 0.1971 - val_accuracy: 0.9772\n",
            "Epoch 102/500\n",
            "1719/1719 [==============================] - 3s 2ms/step - loss: 0.0049 - accuracy: 0.9986 - val_loss: 0.1801 - val_accuracy: 0.9746\n",
            "Epoch 103/500\n",
            "1719/1719 [==============================] - 3s 2ms/step - loss: 0.0015 - accuracy: 0.9994 - val_loss: 0.1857 - val_accuracy: 0.9772\n",
            "Epoch 104/500\n",
            "1719/1719 [==============================] - 3s 2ms/step - loss: 0.0052 - accuracy: 0.9983 - val_loss: 0.1782 - val_accuracy: 0.9770\n",
            "Epoch 105/500\n",
            "1719/1719 [==============================] - 3s 2ms/step - loss: 0.0031 - accuracy: 0.9990 - val_loss: 0.1807 - val_accuracy: 0.9762\n",
            "Epoch 106/500\n",
            "1719/1719 [==============================] - 3s 2ms/step - loss: 0.0047 - accuracy: 0.9986 - val_loss: 0.2070 - val_accuracy: 0.9748\n",
            "Epoch 107/500\n",
            "1719/1719 [==============================] - 3s 2ms/step - loss: 0.0039 - accuracy: 0.9986 - val_loss: 0.1821 - val_accuracy: 0.9746\n",
            "Epoch 108/500\n",
            "1719/1719 [==============================] - 3s 2ms/step - loss: 6.7332e-04 - accuracy: 0.9998 - val_loss: 0.1972 - val_accuracy: 0.9754\n",
            "Epoch 109/500\n",
            "1719/1719 [==============================] - 3s 2ms/step - loss: 0.0062 - accuracy: 0.9983 - val_loss: 0.1762 - val_accuracy: 0.9782\n",
            "Epoch 110/500\n",
            "1719/1719 [==============================] - 3s 2ms/step - loss: 0.0040 - accuracy: 0.9987 - val_loss: 0.2183 - val_accuracy: 0.9744\n",
            "Epoch 111/500\n",
            "1719/1719 [==============================] - 3s 2ms/step - loss: 0.0036 - accuracy: 0.9988 - val_loss: 0.1843 - val_accuracy: 0.9776\n",
            "Epoch 112/500\n",
            "1719/1719 [==============================] - 3s 2ms/step - loss: 0.0030 - accuracy: 0.9990 - val_loss: 0.2095 - val_accuracy: 0.9744\n",
            "Epoch 113/500\n",
            "1719/1719 [==============================] - 3s 2ms/step - loss: 0.0034 - accuracy: 0.9988 - val_loss: 0.1956 - val_accuracy: 0.9760\n",
            "Epoch 114/500\n",
            "1719/1719 [==============================] - 3s 2ms/step - loss: 0.0033 - accuracy: 0.9988 - val_loss: 0.1925 - val_accuracy: 0.9752\n",
            "Epoch 115/500\n",
            "1719/1719 [==============================] - 3s 2ms/step - loss: 0.0031 - accuracy: 0.9990 - val_loss: 0.1993 - val_accuracy: 0.9764\n",
            "Epoch 116/500\n",
            "1719/1719 [==============================] - 3s 2ms/step - loss: 0.0049 - accuracy: 0.9986 - val_loss: 0.2272 - val_accuracy: 0.9760\n",
            "Epoch 117/500\n",
            "1719/1719 [==============================] - 3s 2ms/step - loss: 0.0037 - accuracy: 0.9988 - val_loss: 0.1905 - val_accuracy: 0.9752\n",
            "Epoch 118/500\n",
            "1719/1719 [==============================] - 3s 2ms/step - loss: 8.0343e-04 - accuracy: 0.9998 - val_loss: 0.1861 - val_accuracy: 0.9744\n",
            "Epoch 119/500\n",
            "1719/1719 [==============================] - 3s 2ms/step - loss: 0.0074 - accuracy: 0.9978 - val_loss: 0.1886 - val_accuracy: 0.9750\n",
            "Epoch 120/500\n",
            "1719/1719 [==============================] - 3s 2ms/step - loss: 0.0021 - accuracy: 0.9994 - val_loss: 0.1774 - val_accuracy: 0.9768\n",
            "Epoch 121/500\n",
            "1719/1719 [==============================] - 3s 2ms/step - loss: 0.0038 - accuracy: 0.9988 - val_loss: 0.2293 - val_accuracy: 0.9732\n",
            "Epoch 122/500\n",
            "1719/1719 [==============================] - 3s 2ms/step - loss: 0.0037 - accuracy: 0.9989 - val_loss: 0.1898 - val_accuracy: 0.9780\n",
            "Epoch 123/500\n",
            "1719/1719 [==============================] - 3s 2ms/step - loss: 0.0035 - accuracy: 0.9991 - val_loss: 0.2201 - val_accuracy: 0.9708\n",
            "Epoch 124/500\n",
            "1719/1719 [==============================] - 3s 2ms/step - loss: 0.0043 - accuracy: 0.9985 - val_loss: 0.2192 - val_accuracy: 0.9748\n",
            "Epoch 125/500\n",
            "1719/1719 [==============================] - 3s 2ms/step - loss: 0.0016 - accuracy: 0.9995 - val_loss: 0.2109 - val_accuracy: 0.9764\n",
            "Epoch 126/500\n",
            "1719/1719 [==============================] - 3s 2ms/step - loss: 0.0051 - accuracy: 0.9982 - val_loss: 0.2102 - val_accuracy: 0.9758\n",
            "Epoch 127/500\n",
            "1719/1719 [==============================] - 3s 2ms/step - loss: 0.0022 - accuracy: 0.9992 - val_loss: 0.2004 - val_accuracy: 0.9764\n",
            "Epoch 128/500\n",
            "1719/1719 [==============================] - 3s 2ms/step - loss: 0.0036 - accuracy: 0.9988 - val_loss: 0.1925 - val_accuracy: 0.9776\n",
            "Epoch 129/500\n",
            "1719/1719 [==============================] - 3s 2ms/step - loss: 0.0030 - accuracy: 0.9992 - val_loss: 0.2058 - val_accuracy: 0.9790\n",
            "Epoch 130/500\n",
            "1719/1719 [==============================] - 3s 2ms/step - loss: 0.0041 - accuracy: 0.9987 - val_loss: 0.2003 - val_accuracy: 0.9770\n",
            "Epoch 131/500\n",
            "1719/1719 [==============================] - 3s 2ms/step - loss: 5.8455e-04 - accuracy: 0.9998 - val_loss: 0.2427 - val_accuracy: 0.9740\n",
            "Epoch 132/500\n",
            "1719/1719 [==============================] - 3s 2ms/step - loss: 0.0050 - accuracy: 0.9985 - val_loss: 0.2209 - val_accuracy: 0.9760\n",
            "Epoch 133/500\n",
            "1719/1719 [==============================] - 3s 2ms/step - loss: 0.0035 - accuracy: 0.9986 - val_loss: 0.2395 - val_accuracy: 0.9774\n",
            "Epoch 134/500\n",
            "1719/1719 [==============================] - 3s 2ms/step - loss: 0.0020 - accuracy: 0.9994 - val_loss: 0.2580 - val_accuracy: 0.9730\n",
            "Epoch 135/500\n",
            "1719/1719 [==============================] - 3s 2ms/step - loss: 0.0017 - accuracy: 0.9995 - val_loss: 0.1894 - val_accuracy: 0.9782\n",
            "Epoch 136/500\n",
            "1719/1719 [==============================] - 3s 2ms/step - loss: 0.0055 - accuracy: 0.9985 - val_loss: 0.2054 - val_accuracy: 0.9788\n",
            "Epoch 137/500\n",
            "1719/1719 [==============================] - 3s 2ms/step - loss: 0.0040 - accuracy: 0.9989 - val_loss: 0.2117 - val_accuracy: 0.9778\n",
            "Epoch 138/500\n",
            "1719/1719 [==============================] - 3s 2ms/step - loss: 0.0029 - accuracy: 0.9993 - val_loss: 0.2242 - val_accuracy: 0.9762\n",
            "Epoch 139/500\n",
            "1719/1719 [==============================] - 3s 2ms/step - loss: 0.0029 - accuracy: 0.9990 - val_loss: 0.2114 - val_accuracy: 0.9762\n",
            "Epoch 140/500\n",
            "1719/1719 [==============================] - 3s 2ms/step - loss: 0.0042 - accuracy: 0.9988 - val_loss: 0.2124 - val_accuracy: 0.9750\n",
            "Epoch 141/500\n",
            "1719/1719 [==============================] - 3s 2ms/step - loss: 0.0032 - accuracy: 0.9991 - val_loss: 0.2378 - val_accuracy: 0.9738\n",
            "Epoch 142/500\n",
            "1719/1719 [==============================] - 3s 2ms/step - loss: 0.0027 - accuracy: 0.9992 - val_loss: 0.2291 - val_accuracy: 0.9754\n",
            "Epoch 143/500\n",
            "1719/1719 [==============================] - 3s 2ms/step - loss: 0.0031 - accuracy: 0.9991 - val_loss: 0.2225 - val_accuracy: 0.9764\n",
            "Epoch 144/500\n",
            "1719/1719 [==============================] - 3s 2ms/step - loss: 0.0035 - accuracy: 0.9988 - val_loss: 0.2206 - val_accuracy: 0.9752\n",
            "Epoch 145/500\n",
            "1719/1719 [==============================] - 3s 2ms/step - loss: 0.0027 - accuracy: 0.9991 - val_loss: 0.2193 - val_accuracy: 0.9772\n",
            "Epoch 146/500\n",
            "1719/1719 [==============================] - 3s 2ms/step - loss: 0.0035 - accuracy: 0.9988 - val_loss: 0.2404 - val_accuracy: 0.9750\n",
            "Epoch 147/500\n",
            "1719/1719 [==============================] - 3s 2ms/step - loss: 0.0046 - accuracy: 0.9985 - val_loss: 0.2209 - val_accuracy: 0.9746\n",
            "Epoch 148/500\n",
            "1719/1719 [==============================] - 3s 2ms/step - loss: 0.0011 - accuracy: 0.9997 - val_loss: 0.2329 - val_accuracy: 0.9762\n",
            "Epoch 149/500\n",
            "1719/1719 [==============================] - 3s 2ms/step - loss: 0.0035 - accuracy: 0.9988 - val_loss: 0.2117 - val_accuracy: 0.9784\n",
            "Epoch 150/500\n",
            "1719/1719 [==============================] - 3s 2ms/step - loss: 0.0032 - accuracy: 0.9990 - val_loss: 0.2336 - val_accuracy: 0.9742\n",
            "Epoch 151/500\n",
            "1719/1719 [==============================] - 3s 2ms/step - loss: 0.0025 - accuracy: 0.9991 - val_loss: 0.2071 - val_accuracy: 0.9766\n",
            "Epoch 152/500\n",
            "1719/1719 [==============================] - 3s 2ms/step - loss: 0.0028 - accuracy: 0.9990 - val_loss: 0.2476 - val_accuracy: 0.9748\n",
            "Epoch 153/500\n",
            "1719/1719 [==============================] - 3s 2ms/step - loss: 0.0036 - accuracy: 0.9989 - val_loss: 0.2035 - val_accuracy: 0.9804\n",
            "Epoch 154/500\n",
            "1719/1719 [==============================] - 3s 2ms/step - loss: 0.0031 - accuracy: 0.9991 - val_loss: 0.2444 - val_accuracy: 0.9758\n",
            "Epoch 155/500\n",
            "1719/1719 [==============================] - 3s 2ms/step - loss: 0.0021 - accuracy: 0.9993 - val_loss: 0.2598 - val_accuracy: 0.9752\n",
            "Epoch 156/500\n",
            "1719/1719 [==============================] - 3s 2ms/step - loss: 0.0048 - accuracy: 0.9985 - val_loss: 0.2293 - val_accuracy: 0.9792\n",
            "Epoch 157/500\n",
            "1719/1719 [==============================] - 3s 2ms/step - loss: 0.0018 - accuracy: 0.9995 - val_loss: 0.2327 - val_accuracy: 0.9782\n",
            "Epoch 158/500\n",
            "1719/1719 [==============================] - 3s 2ms/step - loss: 0.0046 - accuracy: 0.9986 - val_loss: 0.2412 - val_accuracy: 0.9758\n",
            "Epoch 159/500\n",
            "1719/1719 [==============================] - 3s 2ms/step - loss: 0.0011 - accuracy: 0.9996 - val_loss: 0.2387 - val_accuracy: 0.9748\n",
            "Epoch 160/500\n",
            "1719/1719 [==============================] - 3s 2ms/step - loss: 0.0035 - accuracy: 0.9989 - val_loss: 0.2349 - val_accuracy: 0.9768\n",
            "Epoch 161/500\n",
            "1719/1719 [==============================] - 3s 2ms/step - loss: 0.0028 - accuracy: 0.9991 - val_loss: 0.2310 - val_accuracy: 0.9756\n",
            "Epoch 162/500\n",
            "1719/1719 [==============================] - 3s 2ms/step - loss: 0.0024 - accuracy: 0.9993 - val_loss: 0.3468 - val_accuracy: 0.9684\n",
            "Epoch 163/500\n",
            "1719/1719 [==============================] - 3s 2ms/step - loss: 0.0031 - accuracy: 0.9989 - val_loss: 0.2258 - val_accuracy: 0.9756\n",
            "Epoch 164/500\n",
            "1719/1719 [==============================] - 3s 2ms/step - loss: 0.0030 - accuracy: 0.9989 - val_loss: 0.2680 - val_accuracy: 0.9766\n",
            "Epoch 165/500\n",
            "1719/1719 [==============================] - 3s 2ms/step - loss: 0.0030 - accuracy: 0.9991 - val_loss: 0.2496 - val_accuracy: 0.9756\n",
            "Epoch 166/500\n",
            "1719/1719 [==============================] - 3s 2ms/step - loss: 0.0011 - accuracy: 0.9996 - val_loss: 0.2480 - val_accuracy: 0.9784\n",
            "Epoch 167/500\n",
            "1719/1719 [==============================] - 3s 2ms/step - loss: 0.0041 - accuracy: 0.9988 - val_loss: 0.2817 - val_accuracy: 0.9756\n",
            "Epoch 168/500\n",
            "1719/1719 [==============================] - 3s 2ms/step - loss: 0.0040 - accuracy: 0.9988 - val_loss: 0.2456 - val_accuracy: 0.9772\n",
            "Epoch 169/500\n",
            "1719/1719 [==============================] - 3s 2ms/step - loss: 9.7284e-04 - accuracy: 0.9997 - val_loss: 0.2652 - val_accuracy: 0.9758\n",
            "Epoch 170/500\n",
            "1719/1719 [==============================] - 3s 2ms/step - loss: 0.0038 - accuracy: 0.9989 - val_loss: 0.2297 - val_accuracy: 0.9792\n",
            "Epoch 171/500\n",
            "1719/1719 [==============================] - 3s 2ms/step - loss: 0.0036 - accuracy: 0.9988 - val_loss: 0.2511 - val_accuracy: 0.9772\n",
            "Epoch 172/500\n",
            "1719/1719 [==============================] - 3s 2ms/step - loss: 0.0027 - accuracy: 0.9992 - val_loss: 0.2202 - val_accuracy: 0.9786\n",
            "Epoch 173/500\n",
            "1719/1719 [==============================] - 3s 2ms/step - loss: 0.0026 - accuracy: 0.9992 - val_loss: 0.2389 - val_accuracy: 0.9758\n",
            "Epoch 174/500\n",
            "1719/1719 [==============================] - 3s 2ms/step - loss: 0.0021 - accuracy: 0.9993 - val_loss: 0.2157 - val_accuracy: 0.9786\n",
            "Epoch 175/500\n",
            "1719/1719 [==============================] - 3s 2ms/step - loss: 0.0019 - accuracy: 0.9995 - val_loss: 0.2549 - val_accuracy: 0.9746\n",
            "Epoch 176/500\n",
            "1719/1719 [==============================] - 3s 2ms/step - loss: 0.0028 - accuracy: 0.9990 - val_loss: 0.2302 - val_accuracy: 0.9774\n",
            "Epoch 177/500\n",
            "1719/1719 [==============================] - 3s 2ms/step - loss: 0.0020 - accuracy: 0.9992 - val_loss: 0.2457 - val_accuracy: 0.9774\n",
            "Epoch 178/500\n",
            "1719/1719 [==============================] - 3s 2ms/step - loss: 0.0033 - accuracy: 0.9990 - val_loss: 0.2681 - val_accuracy: 0.9752\n",
            "Epoch 179/500\n",
            "1719/1719 [==============================] - 3s 2ms/step - loss: 0.0033 - accuracy: 0.9990 - val_loss: 0.2468 - val_accuracy: 0.9766\n",
            "Epoch 180/500\n",
            "1719/1719 [==============================] - 3s 2ms/step - loss: 0.0024 - accuracy: 0.9992 - val_loss: 0.2420 - val_accuracy: 0.9766\n",
            "Epoch 181/500\n",
            "1719/1719 [==============================] - 3s 2ms/step - loss: 0.0032 - accuracy: 0.9990 - val_loss: 0.2422 - val_accuracy: 0.9770\n",
            "Epoch 182/500\n",
            "1719/1719 [==============================] - 3s 2ms/step - loss: 0.0036 - accuracy: 0.9989 - val_loss: 0.2405 - val_accuracy: 0.9798\n",
            "Epoch 183/500\n",
            "1719/1719 [==============================] - 3s 2ms/step - loss: 1.9229e-04 - accuracy: 1.0000 - val_loss: 0.2318 - val_accuracy: 0.9808\n",
            "Epoch 184/500\n",
            "1719/1719 [==============================] - 3s 2ms/step - loss: 1.0821e-05 - accuracy: 1.0000 - val_loss: 0.2323 - val_accuracy: 0.9814\n",
            "Epoch 185/500\n",
            "1719/1719 [==============================] - 3s 2ms/step - loss: 5.8217e-06 - accuracy: 1.0000 - val_loss: 0.2324 - val_accuracy: 0.9814\n",
            "Epoch 186/500\n",
            "1719/1719 [==============================] - 3s 2ms/step - loss: 3.9066e-06 - accuracy: 1.0000 - val_loss: 0.2339 - val_accuracy: 0.9812\n",
            "Epoch 187/500\n",
            "1719/1719 [==============================] - 3s 2ms/step - loss: 3.0450e-06 - accuracy: 1.0000 - val_loss: 0.2364 - val_accuracy: 0.9822\n",
            "Epoch 188/500\n",
            "1719/1719 [==============================] - 3s 2ms/step - loss: 0.0078 - accuracy: 0.9982 - val_loss: 0.2707 - val_accuracy: 0.9774\n",
            "Epoch 189/500\n",
            "1719/1719 [==============================] - 3s 2ms/step - loss: 0.0011 - accuracy: 0.9996 - val_loss: 0.2437 - val_accuracy: 0.9798\n",
            "Epoch 190/500\n",
            "1719/1719 [==============================] - 3s 2ms/step - loss: 0.0028 - accuracy: 0.9993 - val_loss: 0.2420 - val_accuracy: 0.9740\n",
            "Epoch 191/500\n",
            "1719/1719 [==============================] - 3s 2ms/step - loss: 0.0033 - accuracy: 0.9990 - val_loss: 0.2550 - val_accuracy: 0.9768\n",
            "Epoch 192/500\n",
            "1719/1719 [==============================] - 3s 2ms/step - loss: 0.0038 - accuracy: 0.9987 - val_loss: 0.2620 - val_accuracy: 0.9802\n",
            "Epoch 193/500\n",
            "1719/1719 [==============================] - 3s 2ms/step - loss: 0.0023 - accuracy: 0.9991 - val_loss: 0.2582 - val_accuracy: 0.9766\n",
            "Epoch 194/500\n",
            "1719/1719 [==============================] - 3s 2ms/step - loss: 0.0022 - accuracy: 0.9992 - val_loss: 0.2604 - val_accuracy: 0.9786\n",
            "Epoch 195/500\n",
            "1719/1719 [==============================] - 3s 2ms/step - loss: 0.0019 - accuracy: 0.9993 - val_loss: 0.2868 - val_accuracy: 0.9748\n",
            "Epoch 196/500\n",
            "1719/1719 [==============================] - 3s 2ms/step - loss: 0.0035 - accuracy: 0.9990 - val_loss: 0.2380 - val_accuracy: 0.9806\n",
            "Epoch 197/500\n",
            "1719/1719 [==============================] - 3s 2ms/step - loss: 0.0029 - accuracy: 0.9991 - val_loss: 0.2750 - val_accuracy: 0.9760\n",
            "Epoch 198/500\n",
            "1719/1719 [==============================] - 3s 2ms/step - loss: 0.0025 - accuracy: 0.9993 - val_loss: 0.2566 - val_accuracy: 0.9762\n",
            "Epoch 199/500\n",
            "1719/1719 [==============================] - 3s 2ms/step - loss: 0.0025 - accuracy: 0.9992 - val_loss: 0.2651 - val_accuracy: 0.9780\n",
            "Epoch 200/500\n",
            "1719/1719 [==============================] - 3s 2ms/step - loss: 0.0023 - accuracy: 0.9992 - val_loss: 0.2807 - val_accuracy: 0.9746\n",
            "Epoch 201/500\n",
            "1719/1719 [==============================] - 3s 2ms/step - loss: 0.0017 - accuracy: 0.9996 - val_loss: 0.3250 - val_accuracy: 0.9744\n",
            "Epoch 202/500\n",
            "1719/1719 [==============================] - 3s 2ms/step - loss: 0.0032 - accuracy: 0.9993 - val_loss: 0.2505 - val_accuracy: 0.9768\n",
            "Epoch 203/500\n",
            "1719/1719 [==============================] - 3s 2ms/step - loss: 0.0034 - accuracy: 0.9989 - val_loss: 0.2428 - val_accuracy: 0.9792\n",
            "Epoch 204/500\n",
            "1719/1719 [==============================] - 3s 2ms/step - loss: 0.0020 - accuracy: 0.9994 - val_loss: 0.2428 - val_accuracy: 0.9780\n",
            "Epoch 205/500\n",
            "1719/1719 [==============================] - 3s 2ms/step - loss: 0.0023 - accuracy: 0.9993 - val_loss: 0.2919 - val_accuracy: 0.9744\n",
            "Epoch 206/500\n",
            "1719/1719 [==============================] - 3s 2ms/step - loss: 0.0026 - accuracy: 0.9992 - val_loss: 0.2801 - val_accuracy: 0.9756\n",
            "Epoch 207/500\n",
            "1719/1719 [==============================] - 3s 2ms/step - loss: 0.0041 - accuracy: 0.9989 - val_loss: 0.2669 - val_accuracy: 0.9794\n",
            "Epoch 208/500\n",
            "1719/1719 [==============================] - 3s 2ms/step - loss: 0.0036 - accuracy: 0.9991 - val_loss: 0.2673 - val_accuracy: 0.9762\n",
            "Epoch 209/500\n",
            "1719/1719 [==============================] - 3s 2ms/step - loss: 0.0021 - accuracy: 0.9995 - val_loss: 0.2993 - val_accuracy: 0.9760\n",
            "Epoch 210/500\n",
            "1719/1719 [==============================] - 3s 2ms/step - loss: 0.0039 - accuracy: 0.9989 - val_loss: 0.2563 - val_accuracy: 0.9772\n",
            "Epoch 211/500\n",
            "1719/1719 [==============================] - 3s 2ms/step - loss: 0.0022 - accuracy: 0.9995 - val_loss: 0.2652 - val_accuracy: 0.9782\n",
            "Epoch 212/500\n",
            "1719/1719 [==============================] - 3s 2ms/step - loss: 0.0023 - accuracy: 0.9994 - val_loss: 0.2643 - val_accuracy: 0.9764\n",
            "Epoch 213/500\n",
            "1719/1719 [==============================] - 3s 2ms/step - loss: 0.0022 - accuracy: 0.9991 - val_loss: 0.2544 - val_accuracy: 0.9778\n",
            "Epoch 214/500\n",
            "1719/1719 [==============================] - 3s 2ms/step - loss: 0.0016 - accuracy: 0.9995 - val_loss: 0.2621 - val_accuracy: 0.9778\n",
            "Epoch 215/500\n",
            "1719/1719 [==============================] - 3s 2ms/step - loss: 0.0025 - accuracy: 0.9990 - val_loss: 0.2520 - val_accuracy: 0.9788\n",
            "Epoch 216/500\n",
            "1719/1719 [==============================] - 3s 2ms/step - loss: 0.0019 - accuracy: 0.9995 - val_loss: 0.3172 - val_accuracy: 0.9752\n",
            "Epoch 217/500\n",
            "1719/1719 [==============================] - 3s 2ms/step - loss: 0.0032 - accuracy: 0.9990 - val_loss: 0.2814 - val_accuracy: 0.9762\n",
            "Epoch 218/500\n",
            "1719/1719 [==============================] - 3s 2ms/step - loss: 0.0014 - accuracy: 0.9995 - val_loss: 0.2949 - val_accuracy: 0.9770\n",
            "Epoch 219/500\n",
            "1719/1719 [==============================] - 3s 2ms/step - loss: 0.0031 - accuracy: 0.9989 - val_loss: 0.2712 - val_accuracy: 0.9764\n",
            "Epoch 220/500\n",
            "1719/1719 [==============================] - 3s 2ms/step - loss: 0.0022 - accuracy: 0.9994 - val_loss: 0.3005 - val_accuracy: 0.9742\n",
            "Epoch 221/500\n",
            "1719/1719 [==============================] - 3s 2ms/step - loss: 0.0034 - accuracy: 0.9993 - val_loss: 0.3270 - val_accuracy: 0.9730\n",
            "Epoch 222/500\n",
            "1719/1719 [==============================] - 3s 2ms/step - loss: 0.0010 - accuracy: 0.9996 - val_loss: 0.3459 - val_accuracy: 0.9734\n",
            "Epoch 223/500\n",
            "1719/1719 [==============================] - 3s 2ms/step - loss: 0.0040 - accuracy: 0.9989 - val_loss: 0.2787 - val_accuracy: 0.9758\n",
            "Epoch 224/500\n",
            "1719/1719 [==============================] - 3s 2ms/step - loss: 0.0012 - accuracy: 0.9996 - val_loss: 0.2879 - val_accuracy: 0.9748\n",
            "Epoch 225/500\n",
            "1719/1719 [==============================] - 3s 2ms/step - loss: 0.0035 - accuracy: 0.9989 - val_loss: 0.2861 - val_accuracy: 0.9782\n",
            "Epoch 226/500\n",
            "1719/1719 [==============================] - 3s 2ms/step - loss: 0.0015 - accuracy: 0.9996 - val_loss: 0.2963 - val_accuracy: 0.9770\n",
            "Epoch 227/500\n",
            "1719/1719 [==============================] - 3s 2ms/step - loss: 0.0045 - accuracy: 0.9987 - val_loss: 0.2758 - val_accuracy: 0.9750\n",
            "Epoch 228/500\n",
            "1719/1719 [==============================] - 3s 2ms/step - loss: 0.0015 - accuracy: 0.9995 - val_loss: 0.2762 - val_accuracy: 0.9770\n",
            "Epoch 229/500\n",
            "1719/1719 [==============================] - 3s 2ms/step - loss: 0.0029 - accuracy: 0.9990 - val_loss: 0.2931 - val_accuracy: 0.9786\n",
            "Epoch 230/500\n",
            "1719/1719 [==============================] - 3s 2ms/step - loss: 0.0030 - accuracy: 0.9993 - val_loss: 0.2951 - val_accuracy: 0.9768\n",
            "Epoch 231/500\n",
            "1719/1719 [==============================] - 3s 2ms/step - loss: 0.0013 - accuracy: 0.9995 - val_loss: 0.3053 - val_accuracy: 0.9768\n",
            "Epoch 232/500\n",
            "1719/1719 [==============================] - 3s 2ms/step - loss: 0.0020 - accuracy: 0.9995 - val_loss: 0.2783 - val_accuracy: 0.9772\n",
            "Epoch 233/500\n",
            "1719/1719 [==============================] - 3s 2ms/step - loss: 0.0047 - accuracy: 0.9987 - val_loss: 0.2836 - val_accuracy: 0.9756\n",
            "Epoch 234/500\n",
            "1719/1719 [==============================] - 3s 2ms/step - loss: 0.0036 - accuracy: 0.9991 - val_loss: 0.3092 - val_accuracy: 0.9750\n",
            "Epoch 235/500\n",
            "1719/1719 [==============================] - 3s 2ms/step - loss: 0.0022 - accuracy: 0.9992 - val_loss: 0.2911 - val_accuracy: 0.9760\n",
            "Epoch 236/500\n",
            "1719/1719 [==============================] - 3s 2ms/step - loss: 0.0030 - accuracy: 0.9991 - val_loss: 0.2831 - val_accuracy: 0.9774\n",
            "Epoch 237/500\n",
            "1719/1719 [==============================] - 3s 2ms/step - loss: 0.0026 - accuracy: 0.9992 - val_loss: 0.3044 - val_accuracy: 0.9744\n",
            "Epoch 238/500\n",
            "1719/1719 [==============================] - 3s 2ms/step - loss: 0.0025 - accuracy: 0.9993 - val_loss: 0.2665 - val_accuracy: 0.9780\n",
            "Epoch 239/500\n",
            "1719/1719 [==============================] - 3s 2ms/step - loss: 0.0023 - accuracy: 0.9993 - val_loss: 0.2936 - val_accuracy: 0.9790\n",
            "Epoch 240/500\n",
            "1719/1719 [==============================] - 3s 2ms/step - loss: 0.0036 - accuracy: 0.9990 - val_loss: 0.3371 - val_accuracy: 0.9754\n",
            "Epoch 241/500\n",
            "1719/1719 [==============================] - 3s 2ms/step - loss: 0.0024 - accuracy: 0.9992 - val_loss: 0.2821 - val_accuracy: 0.9776\n",
            "Epoch 242/500\n",
            "1719/1719 [==============================] - 3s 2ms/step - loss: 0.0011 - accuracy: 0.9996 - val_loss: 0.2869 - val_accuracy: 0.9780\n",
            "Epoch 243/500\n",
            "1719/1719 [==============================] - 3s 2ms/step - loss: 0.0036 - accuracy: 0.9990 - val_loss: 0.2906 - val_accuracy: 0.9762\n",
            "Epoch 244/500\n",
            "1719/1719 [==============================] - 3s 2ms/step - loss: 8.3093e-04 - accuracy: 0.9997 - val_loss: 0.3026 - val_accuracy: 0.9734\n",
            "Epoch 245/500\n",
            "1719/1719 [==============================] - 3s 2ms/step - loss: 0.0024 - accuracy: 0.9992 - val_loss: 0.3009 - val_accuracy: 0.9754\n",
            "Epoch 246/500\n",
            "1719/1719 [==============================] - 3s 2ms/step - loss: 0.0037 - accuracy: 0.9991 - val_loss: 0.2832 - val_accuracy: 0.9738\n",
            "Epoch 247/500\n",
            "1719/1719 [==============================] - 3s 2ms/step - loss: 0.0020 - accuracy: 0.9995 - val_loss: 0.2793 - val_accuracy: 0.9756\n",
            "Epoch 248/500\n",
            "1719/1719 [==============================] - 3s 2ms/step - loss: 0.0011 - accuracy: 0.9997 - val_loss: 0.2772 - val_accuracy: 0.9776\n",
            "Epoch 249/500\n",
            "1719/1719 [==============================] - 3s 2ms/step - loss: 0.0040 - accuracy: 0.9991 - val_loss: 0.2834 - val_accuracy: 0.9764\n",
            "Epoch 250/500\n",
            "1719/1719 [==============================] - 3s 2ms/step - loss: 0.0025 - accuracy: 0.9993 - val_loss: 0.3106 - val_accuracy: 0.9778\n",
            "Epoch 251/500\n",
            "1719/1719 [==============================] - 3s 2ms/step - loss: 0.0023 - accuracy: 0.9994 - val_loss: 0.3104 - val_accuracy: 0.9756\n",
            "Epoch 252/500\n",
            "1719/1719 [==============================] - 3s 2ms/step - loss: 0.0017 - accuracy: 0.9995 - val_loss: 0.2774 - val_accuracy: 0.9788\n",
            "Epoch 253/500\n",
            "1719/1719 [==============================] - 3s 2ms/step - loss: 0.0046 - accuracy: 0.9988 - val_loss: 0.3077 - val_accuracy: 0.9758\n",
            "Epoch 254/500\n",
            "1719/1719 [==============================] - 3s 2ms/step - loss: 0.0020 - accuracy: 0.9994 - val_loss: 0.3083 - val_accuracy: 0.9754\n",
            "Epoch 255/500\n",
            "1719/1719 [==============================] - 3s 2ms/step - loss: 0.0025 - accuracy: 0.9992 - val_loss: 0.3185 - val_accuracy: 0.9748\n",
            "Epoch 256/500\n",
            "1719/1719 [==============================] - 3s 2ms/step - loss: 0.0028 - accuracy: 0.9993 - val_loss: 0.3247 - val_accuracy: 0.9762\n",
            "Epoch 257/500\n",
            "1719/1719 [==============================] - 3s 2ms/step - loss: 0.0019 - accuracy: 0.9994 - val_loss: 0.2867 - val_accuracy: 0.9790\n",
            "Epoch 258/500\n",
            "1719/1719 [==============================] - 3s 2ms/step - loss: 0.0023 - accuracy: 0.9993 - val_loss: 0.2888 - val_accuracy: 0.9792\n",
            "Epoch 259/500\n",
            "1719/1719 [==============================] - 3s 2ms/step - loss: 0.0012 - accuracy: 0.9997 - val_loss: 0.3777 - val_accuracy: 0.9704\n",
            "Epoch 260/500\n",
            "1719/1719 [==============================] - 3s 2ms/step - loss: 0.0044 - accuracy: 0.9989 - val_loss: 0.3074 - val_accuracy: 0.9762\n",
            "Epoch 261/500\n",
            "1719/1719 [==============================] - 3s 2ms/step - loss: 0.0021 - accuracy: 0.9994 - val_loss: 0.2960 - val_accuracy: 0.9754\n",
            "Epoch 262/500\n",
            "1719/1719 [==============================] - 3s 2ms/step - loss: 0.0021 - accuracy: 0.9992 - val_loss: 0.3214 - val_accuracy: 0.9758\n",
            "Epoch 263/500\n",
            "1719/1719 [==============================] - 3s 2ms/step - loss: 0.0032 - accuracy: 0.9993 - val_loss: 0.3018 - val_accuracy: 0.9754\n",
            "Epoch 264/500\n",
            "1719/1719 [==============================] - 3s 2ms/step - loss: 0.0022 - accuracy: 0.9993 - val_loss: 0.2954 - val_accuracy: 0.9792\n",
            "Epoch 265/500\n",
            "1719/1719 [==============================] - 3s 2ms/step - loss: 0.0023 - accuracy: 0.9993 - val_loss: 0.3108 - val_accuracy: 0.9778\n",
            "Epoch 266/500\n",
            "1719/1719 [==============================] - 3s 2ms/step - loss: 0.0014 - accuracy: 0.9996 - val_loss: 0.3360 - val_accuracy: 0.9768\n",
            "Epoch 267/500\n",
            "1719/1719 [==============================] - 3s 2ms/step - loss: 0.0035 - accuracy: 0.9990 - val_loss: 0.2983 - val_accuracy: 0.9776\n",
            "Epoch 268/500\n",
            "1719/1719 [==============================] - 3s 2ms/step - loss: 0.0024 - accuracy: 0.9993 - val_loss: 0.3103 - val_accuracy: 0.9770\n",
            "Epoch 269/500\n",
            "1719/1719 [==============================] - 3s 2ms/step - loss: 0.0023 - accuracy: 0.9993 - val_loss: 0.2910 - val_accuracy: 0.9774\n",
            "Epoch 270/500\n",
            "1719/1719 [==============================] - 3s 2ms/step - loss: 0.0015 - accuracy: 0.9995 - val_loss: 0.3066 - val_accuracy: 0.9778\n",
            "Epoch 271/500\n",
            "1719/1719 [==============================] - 3s 2ms/step - loss: 0.0051 - accuracy: 0.9989 - val_loss: 0.3219 - val_accuracy: 0.9752\n",
            "Epoch 272/500\n",
            "1719/1719 [==============================] - 3s 2ms/step - loss: 0.0011 - accuracy: 0.9996 - val_loss: 0.2923 - val_accuracy: 0.9780\n",
            "Epoch 273/500\n",
            "1719/1719 [==============================] - 3s 2ms/step - loss: 0.0024 - accuracy: 0.9993 - val_loss: 0.3017 - val_accuracy: 0.9760\n",
            "Epoch 274/500\n",
            "1719/1719 [==============================] - 3s 2ms/step - loss: 0.0021 - accuracy: 0.9994 - val_loss: 0.3143 - val_accuracy: 0.9756\n",
            "Epoch 275/500\n",
            "1719/1719 [==============================] - 3s 2ms/step - loss: 0.0034 - accuracy: 0.9991 - val_loss: 0.2968 - val_accuracy: 0.9782\n",
            "Epoch 276/500\n",
            "1719/1719 [==============================] - 3s 2ms/step - loss: 0.0012 - accuracy: 0.9996 - val_loss: 0.3522 - val_accuracy: 0.9702\n",
            "Epoch 277/500\n",
            "1719/1719 [==============================] - 3s 2ms/step - loss: 0.0026 - accuracy: 0.9993 - val_loss: 0.2892 - val_accuracy: 0.9766\n",
            "Epoch 278/500\n",
            "1719/1719 [==============================] - 3s 2ms/step - loss: 0.0035 - accuracy: 0.9990 - val_loss: 0.3094 - val_accuracy: 0.9748\n",
            "Epoch 279/500\n",
            "1719/1719 [==============================] - 3s 2ms/step - loss: 0.0021 - accuracy: 0.9994 - val_loss: 0.2903 - val_accuracy: 0.9770\n",
            "Epoch 280/500\n",
            "1719/1719 [==============================] - 3s 2ms/step - loss: 5.6542e-04 - accuracy: 0.9998 - val_loss: 0.3071 - val_accuracy: 0.9776\n",
            "Epoch 281/500\n",
            "1719/1719 [==============================] - 3s 2ms/step - loss: 0.0041 - accuracy: 0.9990 - val_loss: 0.3146 - val_accuracy: 0.9770\n",
            "Epoch 282/500\n",
            "1719/1719 [==============================] - 3s 2ms/step - loss: 6.7705e-04 - accuracy: 0.9998 - val_loss: 0.3091 - val_accuracy: 0.9776\n",
            "Epoch 283/500\n",
            "1719/1719 [==============================] - 3s 2ms/step - loss: 0.0031 - accuracy: 0.9992 - val_loss: 0.3123 - val_accuracy: 0.9774\n",
            "Epoch 284/500\n",
            "1719/1719 [==============================] - 3s 2ms/step - loss: 0.0013 - accuracy: 0.9995 - val_loss: 0.3133 - val_accuracy: 0.9780\n",
            "Epoch 285/500\n",
            "1719/1719 [==============================] - 3s 2ms/step - loss: 0.0034 - accuracy: 0.9991 - val_loss: 0.2979 - val_accuracy: 0.9778\n",
            "Epoch 286/500\n",
            "1719/1719 [==============================] - 3s 2ms/step - loss: 0.0012 - accuracy: 0.9996 - val_loss: 0.3080 - val_accuracy: 0.9792\n",
            "Epoch 287/500\n",
            "1719/1719 [==============================] - 3s 2ms/step - loss: 0.0033 - accuracy: 0.9990 - val_loss: 0.2893 - val_accuracy: 0.9772\n",
            "Epoch 288/500\n",
            "1719/1719 [==============================] - 3s 2ms/step - loss: 0.0018 - accuracy: 0.9995 - val_loss: 0.2811 - val_accuracy: 0.9792\n",
            "Epoch 289/500\n",
            "1719/1719 [==============================] - 3s 2ms/step - loss: 0.0022 - accuracy: 0.9994 - val_loss: 0.3053 - val_accuracy: 0.9762\n",
            "Epoch 290/500\n",
            "1719/1719 [==============================] - 3s 2ms/step - loss: 0.0035 - accuracy: 0.9991 - val_loss: 0.3004 - val_accuracy: 0.9766\n",
            "Epoch 291/500\n",
            "1719/1719 [==============================] - 3s 2ms/step - loss: 0.0015 - accuracy: 0.9995 - val_loss: 0.3517 - val_accuracy: 0.9758\n",
            "Epoch 292/500\n",
            "1719/1719 [==============================] - 3s 2ms/step - loss: 0.0023 - accuracy: 0.9993 - val_loss: 0.3291 - val_accuracy: 0.9758\n",
            "Epoch 293/500\n",
            "1719/1719 [==============================] - 3s 2ms/step - loss: 0.0026 - accuracy: 0.9993 - val_loss: 0.3287 - val_accuracy: 0.9766\n",
            "Epoch 294/500\n",
            "1719/1719 [==============================] - 3s 2ms/step - loss: 0.0034 - accuracy: 0.9991 - val_loss: 0.3340 - val_accuracy: 0.9772\n",
            "Epoch 295/500\n",
            "1719/1719 [==============================] - 3s 2ms/step - loss: 2.5005e-04 - accuracy: 0.9999 - val_loss: 0.3123 - val_accuracy: 0.9780\n",
            "Epoch 296/500\n",
            "1719/1719 [==============================] - 3s 2ms/step - loss: 0.0032 - accuracy: 0.9991 - val_loss: 0.3234 - val_accuracy: 0.9780\n",
            "Epoch 297/500\n",
            "1719/1719 [==============================] - 3s 2ms/step - loss: 0.0021 - accuracy: 0.9994 - val_loss: 0.3207 - val_accuracy: 0.9774\n",
            "Epoch 298/500\n",
            "1719/1719 [==============================] - 3s 2ms/step - loss: 0.0025 - accuracy: 0.9993 - val_loss: 0.3433 - val_accuracy: 0.9762\n",
            "Epoch 299/500\n",
            "1719/1719 [==============================] - 3s 2ms/step - loss: 0.0030 - accuracy: 0.9994 - val_loss: 0.3323 - val_accuracy: 0.9786\n",
            "Epoch 300/500\n",
            "1719/1719 [==============================] - 3s 2ms/step - loss: 0.0037 - accuracy: 0.9991 - val_loss: 0.2880 - val_accuracy: 0.9774\n",
            "Epoch 301/500\n",
            "1719/1719 [==============================] - 3s 2ms/step - loss: 9.1051e-04 - accuracy: 0.9997 - val_loss: 0.2941 - val_accuracy: 0.9780\n",
            "Epoch 302/500\n",
            "1719/1719 [==============================] - 3s 2ms/step - loss: 0.0021 - accuracy: 0.9994 - val_loss: 0.3234 - val_accuracy: 0.9786\n",
            "Epoch 303/500\n",
            "1719/1719 [==============================] - 3s 2ms/step - loss: 0.0028 - accuracy: 0.9992 - val_loss: 0.3324 - val_accuracy: 0.9756\n",
            "Epoch 304/500\n",
            "1719/1719 [==============================] - 3s 2ms/step - loss: 0.0013 - accuracy: 0.9996 - val_loss: 0.4028 - val_accuracy: 0.9734\n",
            "Epoch 305/500\n",
            "1719/1719 [==============================] - 3s 2ms/step - loss: 0.0024 - accuracy: 0.9993 - val_loss: 0.3136 - val_accuracy: 0.9748\n",
            "Epoch 306/500\n",
            "1719/1719 [==============================] - 3s 2ms/step - loss: 0.0027 - accuracy: 0.9992 - val_loss: 0.3659 - val_accuracy: 0.9742\n",
            "Epoch 307/500\n",
            "1719/1719 [==============================] - 3s 2ms/step - loss: 0.0023 - accuracy: 0.9994 - val_loss: 0.3014 - val_accuracy: 0.9778\n",
            "Epoch 308/500\n",
            "1719/1719 [==============================] - 3s 2ms/step - loss: 0.0033 - accuracy: 0.9990 - val_loss: 0.3440 - val_accuracy: 0.9764\n",
            "Epoch 309/500\n",
            "1719/1719 [==============================] - 3s 2ms/step - loss: 0.0012 - accuracy: 0.9997 - val_loss: 0.3242 - val_accuracy: 0.9762\n",
            "Epoch 310/500\n",
            "1719/1719 [==============================] - 3s 2ms/step - loss: 0.0023 - accuracy: 0.9993 - val_loss: 0.3334 - val_accuracy: 0.9770\n",
            "Epoch 311/500\n",
            "1719/1719 [==============================] - 3s 2ms/step - loss: 0.0029 - accuracy: 0.9993 - val_loss: 0.3402 - val_accuracy: 0.9750\n",
            "Epoch 312/500\n",
            "1719/1719 [==============================] - 3s 2ms/step - loss: 2.1890e-04 - accuracy: 1.0000 - val_loss: 0.3123 - val_accuracy: 0.9758\n",
            "Epoch 313/500\n",
            "1719/1719 [==============================] - 3s 2ms/step - loss: 0.0038 - accuracy: 0.9992 - val_loss: 0.3274 - val_accuracy: 0.9754\n",
            "Epoch 314/500\n",
            "1719/1719 [==============================] - 3s 2ms/step - loss: 0.0018 - accuracy: 0.9995 - val_loss: 0.3343 - val_accuracy: 0.9756\n",
            "Epoch 315/500\n",
            "1719/1719 [==============================] - 3s 2ms/step - loss: 5.5865e-04 - accuracy: 0.9999 - val_loss: 0.3776 - val_accuracy: 0.9756\n",
            "Epoch 316/500\n",
            "1719/1719 [==============================] - 3s 2ms/step - loss: 0.0044 - accuracy: 0.9990 - val_loss: 0.3857 - val_accuracy: 0.9754\n",
            "Epoch 317/500\n",
            "1719/1719 [==============================] - 3s 2ms/step - loss: 0.0012 - accuracy: 0.9997 - val_loss: 0.3121 - val_accuracy: 0.9776\n",
            "Epoch 318/500\n",
            "1719/1719 [==============================] - 3s 2ms/step - loss: 8.2269e-04 - accuracy: 0.9998 - val_loss: 0.4095 - val_accuracy: 0.9730\n",
            "Epoch 319/500\n",
            "1719/1719 [==============================] - 3s 2ms/step - loss: 0.0033 - accuracy: 0.9992 - val_loss: 0.3473 - val_accuracy: 0.9726\n",
            "Epoch 320/500\n",
            "1719/1719 [==============================] - 3s 2ms/step - loss: 0.0019 - accuracy: 0.9994 - val_loss: 0.2903 - val_accuracy: 0.9762\n",
            "Epoch 321/500\n",
            "1719/1719 [==============================] - 3s 2ms/step - loss: 0.0031 - accuracy: 0.9992 - val_loss: 0.3081 - val_accuracy: 0.9784\n",
            "Epoch 322/500\n",
            "1719/1719 [==============================] - 3s 2ms/step - loss: 0.0028 - accuracy: 0.9994 - val_loss: 0.3364 - val_accuracy: 0.9764\n",
            "Epoch 323/500\n",
            "1719/1719 [==============================] - 3s 2ms/step - loss: 0.0013 - accuracy: 0.9996 - val_loss: 0.3515 - val_accuracy: 0.9750\n",
            "Epoch 324/500\n",
            "1719/1719 [==============================] - 3s 2ms/step - loss: 0.0032 - accuracy: 0.9992 - val_loss: 0.3296 - val_accuracy: 0.9760\n",
            "Epoch 325/500\n",
            "1719/1719 [==============================] - 3s 2ms/step - loss: 5.8787e-04 - accuracy: 0.9998 - val_loss: 0.3223 - val_accuracy: 0.9776\n",
            "Epoch 326/500\n",
            "1719/1719 [==============================] - 3s 2ms/step - loss: 2.3830e-05 - accuracy: 1.0000 - val_loss: 0.3268 - val_accuracy: 0.9780\n",
            "Epoch 327/500\n",
            "1719/1719 [==============================] - 3s 2ms/step - loss: 0.0057 - accuracy: 0.9989 - val_loss: 0.3436 - val_accuracy: 0.9770\n",
            "Epoch 328/500\n",
            "1719/1719 [==============================] - 3s 2ms/step - loss: 0.0020 - accuracy: 0.9994 - val_loss: 0.3241 - val_accuracy: 0.9782\n",
            "Epoch 329/500\n",
            "1719/1719 [==============================] - 3s 2ms/step - loss: 4.5061e-04 - accuracy: 0.9999 - val_loss: 0.3346 - val_accuracy: 0.9776\n",
            "Epoch 330/500\n",
            "1719/1719 [==============================] - 3s 2ms/step - loss: 0.0038 - accuracy: 0.9991 - val_loss: 0.3586 - val_accuracy: 0.9768\n",
            "Epoch 331/500\n",
            "1719/1719 [==============================] - 3s 2ms/step - loss: 0.0017 - accuracy: 0.9995 - val_loss: 0.3528 - val_accuracy: 0.9760\n",
            "Epoch 332/500\n",
            "1719/1719 [==============================] - 3s 2ms/step - loss: 0.0022 - accuracy: 0.9993 - val_loss: 0.3284 - val_accuracy: 0.9804\n",
            "Epoch 333/500\n",
            "1719/1719 [==============================] - 3s 2ms/step - loss: 1.2509e-04 - accuracy: 1.0000 - val_loss: 0.3687 - val_accuracy: 0.9744\n",
            "Epoch 334/500\n",
            "1719/1719 [==============================] - 3s 2ms/step - loss: 0.0061 - accuracy: 0.9986 - val_loss: 0.3496 - val_accuracy: 0.9758\n",
            "Epoch 335/500\n",
            "1719/1719 [==============================] - 3s 2ms/step - loss: 0.0018 - accuracy: 0.9994 - val_loss: 0.3310 - val_accuracy: 0.9768\n",
            "Epoch 336/500\n",
            "1719/1719 [==============================] - 3s 2ms/step - loss: 0.0027 - accuracy: 0.9993 - val_loss: 0.3464 - val_accuracy: 0.9766\n",
            "Epoch 337/500\n",
            "1719/1719 [==============================] - 3s 2ms/step - loss: 0.0026 - accuracy: 0.9994 - val_loss: 0.3710 - val_accuracy: 0.9758\n",
            "Epoch 338/500\n",
            "1719/1719 [==============================] - 3s 2ms/step - loss: 0.0019 - accuracy: 0.9996 - val_loss: 0.3232 - val_accuracy: 0.9780\n",
            "Epoch 339/500\n",
            "1719/1719 [==============================] - 3s 2ms/step - loss: 0.0036 - accuracy: 0.9993 - val_loss: 0.3971 - val_accuracy: 0.9738\n",
            "Epoch 340/500\n",
            "1719/1719 [==============================] - 3s 2ms/step - loss: 0.0027 - accuracy: 0.9993 - val_loss: 0.3694 - val_accuracy: 0.9758\n",
            "Epoch 341/500\n",
            "1719/1719 [==============================] - 3s 2ms/step - loss: 5.5573e-04 - accuracy: 0.9999 - val_loss: 0.3397 - val_accuracy: 0.9760\n",
            "Epoch 342/500\n",
            "1719/1719 [==============================] - 3s 2ms/step - loss: 0.0026 - accuracy: 0.9994 - val_loss: 0.3560 - val_accuracy: 0.9778\n",
            "Epoch 343/500\n",
            "1719/1719 [==============================] - 3s 2ms/step - loss: 0.0030 - accuracy: 0.9993 - val_loss: 0.3834 - val_accuracy: 0.9726\n",
            "Epoch 344/500\n",
            "1719/1719 [==============================] - 3s 2ms/step - loss: 0.0018 - accuracy: 0.9995 - val_loss: 0.3234 - val_accuracy: 0.9780\n",
            "Epoch 345/500\n",
            "1719/1719 [==============================] - 3s 2ms/step - loss: 0.0023 - accuracy: 0.9995 - val_loss: 0.3409 - val_accuracy: 0.9782\n",
            "Epoch 346/500\n",
            "1719/1719 [==============================] - 3s 2ms/step - loss: 0.0020 - accuracy: 0.9994 - val_loss: 0.3722 - val_accuracy: 0.9760\n",
            "Epoch 347/500\n",
            "1719/1719 [==============================] - 3s 2ms/step - loss: 0.0027 - accuracy: 0.9993 - val_loss: 0.3729 - val_accuracy: 0.9774\n",
            "Epoch 348/500\n",
            "1719/1719 [==============================] - 3s 2ms/step - loss: 0.0024 - accuracy: 0.9993 - val_loss: 0.3478 - val_accuracy: 0.9802\n",
            "Epoch 349/500\n",
            "1719/1719 [==============================] - 3s 2ms/step - loss: 0.0022 - accuracy: 0.9994 - val_loss: 0.3708 - val_accuracy: 0.9748\n",
            "Epoch 350/500\n",
            "1719/1719 [==============================] - 3s 2ms/step - loss: 0.0028 - accuracy: 0.9994 - val_loss: 0.3599 - val_accuracy: 0.9772\n",
            "Epoch 351/500\n",
            "1719/1719 [==============================] - 3s 2ms/step - loss: 0.0017 - accuracy: 0.9995 - val_loss: 0.3373 - val_accuracy: 0.9784\n",
            "Epoch 352/500\n",
            "1719/1719 [==============================] - 3s 2ms/step - loss: 0.0020 - accuracy: 0.9996 - val_loss: 0.3334 - val_accuracy: 0.9774\n",
            "Epoch 353/500\n",
            "1719/1719 [==============================] - 3s 2ms/step - loss: 0.0017 - accuracy: 0.9997 - val_loss: 0.3415 - val_accuracy: 0.9784\n",
            "Epoch 354/500\n",
            "1719/1719 [==============================] - 3s 2ms/step - loss: 0.0027 - accuracy: 0.9994 - val_loss: 0.3980 - val_accuracy: 0.9740\n",
            "Epoch 355/500\n",
            "1719/1719 [==============================] - 3s 2ms/step - loss: 0.0039 - accuracy: 0.9992 - val_loss: 0.3500 - val_accuracy: 0.9768\n",
            "Epoch 356/500\n",
            "1719/1719 [==============================] - 3s 2ms/step - loss: 0.0018 - accuracy: 0.9995 - val_loss: 0.3902 - val_accuracy: 0.9774\n",
            "Epoch 357/500\n",
            "1719/1719 [==============================] - 3s 2ms/step - loss: 0.0039 - accuracy: 0.9991 - val_loss: 0.3938 - val_accuracy: 0.9754\n",
            "Epoch 358/500\n",
            "1719/1719 [==============================] - 3s 2ms/step - loss: 2.5536e-04 - accuracy: 0.9999 - val_loss: 0.3915 - val_accuracy: 0.9744\n",
            "Epoch 359/500\n",
            "1719/1719 [==============================] - 3s 2ms/step - loss: 0.0034 - accuracy: 0.9992 - val_loss: 0.3881 - val_accuracy: 0.9752\n",
            "Epoch 360/500\n",
            "1719/1719 [==============================] - 3s 2ms/step - loss: 0.0031 - accuracy: 0.9993 - val_loss: 0.3492 - val_accuracy: 0.9782\n",
            "Epoch 361/500\n",
            "1719/1719 [==============================] - 3s 2ms/step - loss: 0.0019 - accuracy: 0.9996 - val_loss: 0.3645 - val_accuracy: 0.9764\n",
            "Epoch 362/500\n",
            "1719/1719 [==============================] - 3s 2ms/step - loss: 0.0020 - accuracy: 0.9995 - val_loss: 0.3890 - val_accuracy: 0.9764\n",
            "Epoch 363/500\n",
            "1719/1719 [==============================] - 3s 2ms/step - loss: 0.0025 - accuracy: 0.9994 - val_loss: 0.3708 - val_accuracy: 0.9784\n",
            "Epoch 364/500\n",
            "1719/1719 [==============================] - 3s 2ms/step - loss: 0.0016 - accuracy: 0.9997 - val_loss: 0.3712 - val_accuracy: 0.9750\n",
            "Epoch 365/500\n",
            "1719/1719 [==============================] - 3s 2ms/step - loss: 0.0020 - accuracy: 0.9995 - val_loss: 0.3496 - val_accuracy: 0.9788\n",
            "Epoch 366/500\n",
            "1719/1719 [==============================] - 3s 2ms/step - loss: 2.0753e-04 - accuracy: 1.0000 - val_loss: 0.3620 - val_accuracy: 0.9774\n",
            "Epoch 367/500\n",
            "1719/1719 [==============================] - 3s 2ms/step - loss: 0.0054 - accuracy: 0.9989 - val_loss: 0.3926 - val_accuracy: 0.9772\n",
            "Epoch 368/500\n",
            "1719/1719 [==============================] - 3s 2ms/step - loss: 0.0016 - accuracy: 0.9995 - val_loss: 0.3439 - val_accuracy: 0.9778\n",
            "Epoch 369/500\n",
            "1719/1719 [==============================] - 3s 2ms/step - loss: 0.0028 - accuracy: 0.9994 - val_loss: 0.3770 - val_accuracy: 0.9748\n",
            "Epoch 370/500\n",
            "1719/1719 [==============================] - 3s 2ms/step - loss: 7.0673e-04 - accuracy: 0.9997 - val_loss: 0.3864 - val_accuracy: 0.9764\n",
            "Epoch 371/500\n",
            "1719/1719 [==============================] - 3s 2ms/step - loss: 0.0018 - accuracy: 0.9995 - val_loss: 0.3707 - val_accuracy: 0.9756\n",
            "Epoch 372/500\n",
            "1719/1719 [==============================] - 3s 2ms/step - loss: 0.0021 - accuracy: 0.9995 - val_loss: 0.3610 - val_accuracy: 0.9766\n",
            "Epoch 373/500\n",
            "1719/1719 [==============================] - 3s 2ms/step - loss: 0.0019 - accuracy: 0.9994 - val_loss: 0.4142 - val_accuracy: 0.9732\n",
            "Epoch 374/500\n",
            "1719/1719 [==============================] - 3s 2ms/step - loss: 0.0027 - accuracy: 0.9994 - val_loss: 0.4000 - val_accuracy: 0.9764\n",
            "Epoch 375/500\n",
            "1719/1719 [==============================] - 3s 2ms/step - loss: 0.0022 - accuracy: 0.9996 - val_loss: 0.4025 - val_accuracy: 0.9752\n",
            "Epoch 376/500\n",
            "1719/1719 [==============================] - 3s 2ms/step - loss: 0.0036 - accuracy: 0.9993 - val_loss: 0.4151 - val_accuracy: 0.9768\n",
            "Epoch 377/500\n",
            "1719/1719 [==============================] - 3s 2ms/step - loss: 4.7808e-04 - accuracy: 0.9998 - val_loss: 0.3947 - val_accuracy: 0.9768\n",
            "Epoch 378/500\n",
            "1719/1719 [==============================] - 3s 2ms/step - loss: 0.0028 - accuracy: 0.9993 - val_loss: 0.4078 - val_accuracy: 0.9750\n",
            "Epoch 379/500\n",
            "1719/1719 [==============================] - 3s 2ms/step - loss: 0.0027 - accuracy: 0.9993 - val_loss: 0.4329 - val_accuracy: 0.9734\n",
            "Epoch 380/500\n",
            "1719/1719 [==============================] - 3s 2ms/step - loss: 0.0026 - accuracy: 0.9994 - val_loss: 0.4137 - val_accuracy: 0.9770\n",
            "Epoch 381/500\n",
            "1719/1719 [==============================] - 3s 2ms/step - loss: 0.0026 - accuracy: 0.9993 - val_loss: 0.4333 - val_accuracy: 0.9770\n",
            "Epoch 382/500\n",
            "1719/1719 [==============================] - 3s 2ms/step - loss: 0.0022 - accuracy: 0.9995 - val_loss: 0.4031 - val_accuracy: 0.9760\n",
            "Epoch 383/500\n",
            "1719/1719 [==============================] - 3s 2ms/step - loss: 0.0037 - accuracy: 0.9994 - val_loss: 0.4277 - val_accuracy: 0.9746\n",
            "Epoch 384/500\n",
            "1719/1719 [==============================] - 3s 2ms/step - loss: 0.0013 - accuracy: 0.9996 - val_loss: 0.4552 - val_accuracy: 0.9732\n",
            "Epoch 385/500\n",
            "1719/1719 [==============================] - 3s 2ms/step - loss: 0.0022 - accuracy: 0.9994 - val_loss: 0.4288 - val_accuracy: 0.9740\n",
            "Epoch 386/500\n",
            "1719/1719 [==============================] - 3s 2ms/step - loss: 6.5702e-04 - accuracy: 0.9999 - val_loss: 0.3930 - val_accuracy: 0.9750\n",
            "Epoch 387/500\n",
            "1719/1719 [==============================] - 3s 2ms/step - loss: 4.5970e-06 - accuracy: 1.0000 - val_loss: 0.3848 - val_accuracy: 0.9758\n",
            "Epoch 388/500\n",
            "1719/1719 [==============================] - 3s 2ms/step - loss: 6.7969e-07 - accuracy: 1.0000 - val_loss: 0.3855 - val_accuracy: 0.9762\n",
            "Epoch 389/500\n",
            "1719/1719 [==============================] - 3s 2ms/step - loss: 3.0702e-07 - accuracy: 1.0000 - val_loss: 0.3856 - val_accuracy: 0.9758\n",
            "Epoch 390/500\n",
            "1719/1719 [==============================] - 3s 2ms/step - loss: 2.1682e-07 - accuracy: 1.0000 - val_loss: 0.3855 - val_accuracy: 0.9758\n",
            "Epoch 391/500\n",
            "1719/1719 [==============================] - 3s 2ms/step - loss: 1.3994e-07 - accuracy: 1.0000 - val_loss: 0.3855 - val_accuracy: 0.9756\n",
            "Epoch 392/500\n",
            "1719/1719 [==============================] - 3s 2ms/step - loss: 8.7690e-08 - accuracy: 1.0000 - val_loss: 0.3846 - val_accuracy: 0.9756\n",
            "Epoch 393/500\n",
            "1719/1719 [==============================] - 3s 2ms/step - loss: 5.0528e-08 - accuracy: 1.0000 - val_loss: 0.3825 - val_accuracy: 0.9760\n",
            "Epoch 394/500\n",
            "1719/1719 [==============================] - 3s 2ms/step - loss: 3.0084e-08 - accuracy: 1.0000 - val_loss: 0.3830 - val_accuracy: 0.9768\n",
            "Epoch 395/500\n",
            "1719/1719 [==============================] - 3s 2ms/step - loss: 1.6659e-08 - accuracy: 1.0000 - val_loss: 0.3820 - val_accuracy: 0.9766\n",
            "Epoch 396/500\n",
            "1719/1719 [==============================] - 3s 2ms/step - loss: 1.0085e-08 - accuracy: 1.0000 - val_loss: 0.3831 - val_accuracy: 0.9770\n",
            "Epoch 397/500\n",
            "1719/1719 [==============================] - 3s 2ms/step - loss: 0.0030 - accuracy: 0.9995 - val_loss: 0.4827 - val_accuracy: 0.9740\n",
            "Epoch 398/500\n",
            "1719/1719 [==============================] - 3s 2ms/step - loss: 0.0050 - accuracy: 0.9989 - val_loss: 0.3842 - val_accuracy: 0.9778\n",
            "Epoch 399/500\n",
            "1719/1719 [==============================] - 3s 2ms/step - loss: 6.9020e-04 - accuracy: 0.9998 - val_loss: 0.3861 - val_accuracy: 0.9762\n",
            "Epoch 400/500\n",
            "1719/1719 [==============================] - 3s 2ms/step - loss: 0.0027 - accuracy: 0.9993 - val_loss: 0.4267 - val_accuracy: 0.9752\n",
            "Epoch 401/500\n",
            "1719/1719 [==============================] - 3s 2ms/step - loss: 0.0012 - accuracy: 0.9996 - val_loss: 0.3554 - val_accuracy: 0.9784\n",
            "Epoch 402/500\n",
            "1719/1719 [==============================] - 3s 2ms/step - loss: 0.0024 - accuracy: 0.9995 - val_loss: 0.3837 - val_accuracy: 0.9760\n",
            "Epoch 403/500\n",
            "1719/1719 [==============================] - 3s 2ms/step - loss: 0.0026 - accuracy: 0.9993 - val_loss: 0.4032 - val_accuracy: 0.9736\n",
            "Epoch 404/500\n",
            "1719/1719 [==============================] - 3s 2ms/step - loss: 0.0019 - accuracy: 0.9996 - val_loss: 0.4017 - val_accuracy: 0.9756\n",
            "Epoch 405/500\n",
            "1719/1719 [==============================] - 3s 2ms/step - loss: 0.0032 - accuracy: 0.9992 - val_loss: 0.4035 - val_accuracy: 0.9740\n",
            "Epoch 406/500\n",
            "1719/1719 [==============================] - 3s 2ms/step - loss: 0.0015 - accuracy: 0.9997 - val_loss: 0.3682 - val_accuracy: 0.9752\n",
            "Epoch 407/500\n",
            "1719/1719 [==============================] - 3s 2ms/step - loss: 0.0018 - accuracy: 0.9995 - val_loss: 0.4085 - val_accuracy: 0.9744\n",
            "Epoch 408/500\n",
            "1719/1719 [==============================] - 3s 2ms/step - loss: 0.0029 - accuracy: 0.9994 - val_loss: 0.3551 - val_accuracy: 0.9744\n",
            "Epoch 409/500\n",
            "1719/1719 [==============================] - 3s 2ms/step - loss: 3.4871e-04 - accuracy: 0.9999 - val_loss: 0.3631 - val_accuracy: 0.9766\n",
            "Epoch 410/500\n",
            "1719/1719 [==============================] - 3s 2ms/step - loss: 1.4746e-05 - accuracy: 1.0000 - val_loss: 0.3634 - val_accuracy: 0.9770\n",
            "Epoch 411/500\n",
            "1719/1719 [==============================] - 3s 2ms/step - loss: 0.0045 - accuracy: 0.9991 - val_loss: 0.3718 - val_accuracy: 0.9758\n",
            "Epoch 412/500\n",
            "1719/1719 [==============================] - 3s 2ms/step - loss: 0.0016 - accuracy: 0.9995 - val_loss: 0.3719 - val_accuracy: 0.9758\n",
            "Epoch 413/500\n",
            "1719/1719 [==============================] - 3s 2ms/step - loss: 0.0019 - accuracy: 0.9995 - val_loss: 0.4084 - val_accuracy: 0.9768\n",
            "Epoch 414/500\n",
            "1719/1719 [==============================] - 3s 2ms/step - loss: 0.0010 - accuracy: 0.9997 - val_loss: 0.4340 - val_accuracy: 0.9732\n",
            "Epoch 415/500\n",
            "1719/1719 [==============================] - 3s 2ms/step - loss: 0.0032 - accuracy: 0.9993 - val_loss: 0.3884 - val_accuracy: 0.9764\n",
            "Epoch 416/500\n",
            "1719/1719 [==============================] - 3s 2ms/step - loss: 0.0013 - accuracy: 0.9997 - val_loss: 0.3780 - val_accuracy: 0.9784\n",
            "Epoch 417/500\n",
            "1719/1719 [==============================] - 3s 2ms/step - loss: 0.0028 - accuracy: 0.9995 - val_loss: 0.4006 - val_accuracy: 0.9770\n",
            "Epoch 418/500\n",
            "1719/1719 [==============================] - 3s 2ms/step - loss: 0.0036 - accuracy: 0.9993 - val_loss: 0.3808 - val_accuracy: 0.9770\n",
            "Epoch 419/500\n",
            "1719/1719 [==============================] - 3s 2ms/step - loss: 8.1015e-04 - accuracy: 0.9998 - val_loss: 0.4136 - val_accuracy: 0.9744\n",
            "Epoch 420/500\n",
            "1719/1719 [==============================] - 3s 2ms/step - loss: 0.0027 - accuracy: 0.9994 - val_loss: 0.4252 - val_accuracy: 0.9754\n",
            "Epoch 421/500\n",
            "1719/1719 [==============================] - 3s 2ms/step - loss: 0.0015 - accuracy: 0.9997 - val_loss: 0.4507 - val_accuracy: 0.9714\n",
            "Epoch 422/500\n",
            "1719/1719 [==============================] - 3s 2ms/step - loss: 0.0020 - accuracy: 0.9994 - val_loss: 0.4158 - val_accuracy: 0.9772\n",
            "Epoch 423/500\n",
            "1719/1719 [==============================] - 3s 2ms/step - loss: 0.0025 - accuracy: 0.9993 - val_loss: 0.3823 - val_accuracy: 0.9772\n",
            "Epoch 424/500\n",
            "1719/1719 [==============================] - 3s 2ms/step - loss: 0.0013 - accuracy: 0.9997 - val_loss: 0.3964 - val_accuracy: 0.9772\n",
            "Epoch 425/500\n",
            "1719/1719 [==============================] - 3s 2ms/step - loss: 0.0024 - accuracy: 0.9993 - val_loss: 0.3995 - val_accuracy: 0.9758\n",
            "Epoch 426/500\n",
            "1719/1719 [==============================] - 3s 2ms/step - loss: 0.0020 - accuracy: 0.9996 - val_loss: 0.4592 - val_accuracy: 0.9744\n",
            "Epoch 427/500\n",
            "1719/1719 [==============================] - 3s 2ms/step - loss: 0.0015 - accuracy: 0.9996 - val_loss: 0.4480 - val_accuracy: 0.9740\n",
            "Epoch 428/500\n",
            "1719/1719 [==============================] - 3s 2ms/step - loss: 0.0022 - accuracy: 0.9993 - val_loss: 0.4236 - val_accuracy: 0.9756\n",
            "Epoch 429/500\n",
            "1719/1719 [==============================] - 3s 2ms/step - loss: 0.0012 - accuracy: 0.9997 - val_loss: 0.4073 - val_accuracy: 0.9754\n",
            "Epoch 430/500\n",
            "1719/1719 [==============================] - 3s 2ms/step - loss: 0.0017 - accuracy: 0.9995 - val_loss: 0.4094 - val_accuracy: 0.9766\n",
            "Epoch 431/500\n",
            "1719/1719 [==============================] - 3s 2ms/step - loss: 0.0031 - accuracy: 0.9992 - val_loss: 0.4504 - val_accuracy: 0.9754\n",
            "Epoch 432/500\n",
            "1719/1719 [==============================] - 3s 2ms/step - loss: 0.0013 - accuracy: 0.9997 - val_loss: 0.3831 - val_accuracy: 0.9788\n",
            "Epoch 433/500\n",
            "1719/1719 [==============================] - 3s 2ms/step - loss: 0.0039 - accuracy: 0.9990 - val_loss: 0.4264 - val_accuracy: 0.9750\n",
            "Epoch 434/500\n",
            "1719/1719 [==============================] - 3s 2ms/step - loss: 0.0014 - accuracy: 0.9996 - val_loss: 0.3865 - val_accuracy: 0.9768\n",
            "Epoch 435/500\n",
            "1719/1719 [==============================] - 3s 2ms/step - loss: 0.0012 - accuracy: 0.9997 - val_loss: 0.4280 - val_accuracy: 0.9742\n",
            "Epoch 436/500\n",
            "1719/1719 [==============================] - 3s 2ms/step - loss: 0.0023 - accuracy: 0.9995 - val_loss: 0.4413 - val_accuracy: 0.9764\n",
            "Epoch 437/500\n",
            "1719/1719 [==============================] - 3s 2ms/step - loss: 0.0018 - accuracy: 0.9995 - val_loss: 0.4025 - val_accuracy: 0.9764\n",
            "Epoch 438/500\n",
            "1719/1719 [==============================] - 3s 2ms/step - loss: 0.0011 - accuracy: 0.9997 - val_loss: 0.4424 - val_accuracy: 0.9756\n",
            "Epoch 439/500\n",
            "1719/1719 [==============================] - 3s 2ms/step - loss: 0.0022 - accuracy: 0.9994 - val_loss: 0.4283 - val_accuracy: 0.9746\n",
            "Epoch 440/500\n",
            "1719/1719 [==============================] - 3s 2ms/step - loss: 0.0029 - accuracy: 0.9995 - val_loss: 0.4142 - val_accuracy: 0.9764\n",
            "Epoch 441/500\n",
            "1719/1719 [==============================] - 3s 2ms/step - loss: 2.3963e-04 - accuracy: 0.9999 - val_loss: 0.3954 - val_accuracy: 0.9780\n",
            "Epoch 442/500\n",
            "1719/1719 [==============================] - 3s 2ms/step - loss: 2.3611e-04 - accuracy: 0.9999 - val_loss: 0.4089 - val_accuracy: 0.9750\n",
            "Epoch 443/500\n",
            "1719/1719 [==============================] - 3s 2ms/step - loss: 0.0027 - accuracy: 0.9992 - val_loss: 0.4237 - val_accuracy: 0.9774\n",
            "Epoch 444/500\n",
            "1719/1719 [==============================] - 3s 2ms/step - loss: 0.0034 - accuracy: 0.9993 - val_loss: 0.4585 - val_accuracy: 0.9758\n",
            "Epoch 445/500\n",
            "1719/1719 [==============================] - 3s 2ms/step - loss: 0.0013 - accuracy: 0.9997 - val_loss: 0.4200 - val_accuracy: 0.9768\n",
            "Epoch 446/500\n",
            "1719/1719 [==============================] - 3s 2ms/step - loss: 0.0029 - accuracy: 0.9994 - val_loss: 0.4726 - val_accuracy: 0.9718\n",
            "Epoch 447/500\n",
            "1719/1719 [==============================] - 3s 2ms/step - loss: 0.0013 - accuracy: 0.9997 - val_loss: 0.4765 - val_accuracy: 0.9756\n",
            "Epoch 448/500\n",
            "1719/1719 [==============================] - 3s 2ms/step - loss: 0.0024 - accuracy: 0.9993 - val_loss: 0.4470 - val_accuracy: 0.9734\n",
            "Epoch 449/500\n",
            "1719/1719 [==============================] - 3s 2ms/step - loss: 0.0012 - accuracy: 0.9996 - val_loss: 0.4131 - val_accuracy: 0.9764\n",
            "Epoch 450/500\n",
            "1719/1719 [==============================] - 3s 2ms/step - loss: 0.0020 - accuracy: 0.9994 - val_loss: 0.4737 - val_accuracy: 0.9740\n",
            "Epoch 451/500\n",
            "1719/1719 [==============================] - 3s 2ms/step - loss: 0.0021 - accuracy: 0.9995 - val_loss: 0.4315 - val_accuracy: 0.9778\n",
            "Epoch 452/500\n",
            "1719/1719 [==============================] - 3s 2ms/step - loss: 0.0025 - accuracy: 0.9994 - val_loss: 0.4330 - val_accuracy: 0.9784\n",
            "Epoch 453/500\n",
            "1719/1719 [==============================] - 3s 2ms/step - loss: 8.1536e-04 - accuracy: 0.9998 - val_loss: 0.4355 - val_accuracy: 0.9778\n",
            "Epoch 454/500\n",
            "1719/1719 [==============================] - 3s 2ms/step - loss: 0.0035 - accuracy: 0.9993 - val_loss: 0.5009 - val_accuracy: 0.9740\n",
            "Epoch 455/500\n",
            "1719/1719 [==============================] - 3s 2ms/step - loss: 0.0016 - accuracy: 0.9995 - val_loss: 0.4574 - val_accuracy: 0.9754\n",
            "Epoch 456/500\n",
            "1719/1719 [==============================] - 3s 2ms/step - loss: 0.0019 - accuracy: 0.9996 - val_loss: 0.4345 - val_accuracy: 0.9778\n",
            "Epoch 457/500\n",
            "1719/1719 [==============================] - 3s 2ms/step - loss: 0.0020 - accuracy: 0.9996 - val_loss: 0.4517 - val_accuracy: 0.9742\n",
            "Epoch 458/500\n",
            "1719/1719 [==============================] - 3s 2ms/step - loss: 0.0018 - accuracy: 0.9996 - val_loss: 0.4474 - val_accuracy: 0.9742\n",
            "Epoch 459/500\n",
            "1719/1719 [==============================] - 3s 2ms/step - loss: 0.0023 - accuracy: 0.9993 - val_loss: 0.4775 - val_accuracy: 0.9746\n",
            "Epoch 460/500\n",
            "1719/1719 [==============================] - 3s 2ms/step - loss: 0.0016 - accuracy: 0.9996 - val_loss: 0.4242 - val_accuracy: 0.9770\n",
            "Epoch 461/500\n",
            "1719/1719 [==============================] - 3s 2ms/step - loss: 0.0017 - accuracy: 0.9997 - val_loss: 0.4621 - val_accuracy: 0.9746\n",
            "Epoch 462/500\n",
            "1719/1719 [==============================] - 3s 2ms/step - loss: 0.0027 - accuracy: 0.9995 - val_loss: 0.4744 - val_accuracy: 0.9744\n",
            "Epoch 463/500\n",
            "1719/1719 [==============================] - 3s 2ms/step - loss: 0.0025 - accuracy: 0.9994 - val_loss: 0.4961 - val_accuracy: 0.9732\n",
            "Epoch 464/500\n",
            "1719/1719 [==============================] - 3s 2ms/step - loss: 0.0014 - accuracy: 0.9997 - val_loss: 0.4719 - val_accuracy: 0.9746\n",
            "Epoch 465/500\n",
            "1719/1719 [==============================] - 3s 2ms/step - loss: 6.7564e-04 - accuracy: 0.9998 - val_loss: 0.4205 - val_accuracy: 0.9786\n",
            "Epoch 466/500\n",
            "1719/1719 [==============================] - 3s 2ms/step - loss: 0.0026 - accuracy: 0.9995 - val_loss: 0.4225 - val_accuracy: 0.9774\n",
            "Epoch 467/500\n",
            "1719/1719 [==============================] - 3s 2ms/step - loss: 0.0028 - accuracy: 0.9994 - val_loss: 0.4582 - val_accuracy: 0.9738\n",
            "Epoch 468/500\n",
            "1719/1719 [==============================] - 3s 2ms/step - loss: 0.0015 - accuracy: 0.9998 - val_loss: 0.4121 - val_accuracy: 0.9804\n",
            "Epoch 469/500\n",
            "1719/1719 [==============================] - 3s 2ms/step - loss: 0.0024 - accuracy: 0.9994 - val_loss: 0.4656 - val_accuracy: 0.9768\n",
            "Epoch 470/500\n",
            "1719/1719 [==============================] - 3s 2ms/step - loss: 0.0017 - accuracy: 0.9997 - val_loss: 0.4462 - val_accuracy: 0.9776\n",
            "Epoch 471/500\n",
            "1719/1719 [==============================] - 3s 2ms/step - loss: 9.6977e-04 - accuracy: 0.9998 - val_loss: 0.4633 - val_accuracy: 0.9732\n",
            "Epoch 472/500\n",
            "1719/1719 [==============================] - 3s 2ms/step - loss: 0.0028 - accuracy: 0.9993 - val_loss: 0.4511 - val_accuracy: 0.9744\n",
            "Epoch 473/500\n",
            "1719/1719 [==============================] - 3s 2ms/step - loss: 0.0017 - accuracy: 0.9995 - val_loss: 0.4843 - val_accuracy: 0.9764\n",
            "Epoch 474/500\n",
            "1719/1719 [==============================] - 3s 2ms/step - loss: 0.0014 - accuracy: 0.9996 - val_loss: 0.4538 - val_accuracy: 0.9760\n",
            "Epoch 475/500\n",
            "1719/1719 [==============================] - 3s 2ms/step - loss: 0.0026 - accuracy: 0.9993 - val_loss: 0.5217 - val_accuracy: 0.9754\n",
            "Epoch 476/500\n",
            "1719/1719 [==============================] - 3s 2ms/step - loss: 0.0021 - accuracy: 0.9995 - val_loss: 0.4789 - val_accuracy: 0.9766\n",
            "Epoch 477/500\n",
            "1719/1719 [==============================] - 3s 2ms/step - loss: 9.5838e-04 - accuracy: 0.9998 - val_loss: 0.4731 - val_accuracy: 0.9762\n",
            "Epoch 478/500\n",
            "1719/1719 [==============================] - 3s 2ms/step - loss: 0.0030 - accuracy: 0.9993 - val_loss: 0.4444 - val_accuracy: 0.9752\n",
            "Epoch 479/500\n",
            "1719/1719 [==============================] - 3s 2ms/step - loss: 5.8598e-04 - accuracy: 0.9998 - val_loss: 0.4422 - val_accuracy: 0.9772\n",
            "Epoch 480/500\n",
            "1719/1719 [==============================] - 3s 2ms/step - loss: 0.0026 - accuracy: 0.9993 - val_loss: 0.4497 - val_accuracy: 0.9756\n",
            "Epoch 481/500\n",
            "1719/1719 [==============================] - 3s 2ms/step - loss: 0.0012 - accuracy: 0.9996 - val_loss: 0.4335 - val_accuracy: 0.9776\n",
            "Epoch 482/500\n",
            "1719/1719 [==============================] - 3s 2ms/step - loss: 0.0012 - accuracy: 0.9997 - val_loss: 0.4264 - val_accuracy: 0.9784\n",
            "Epoch 483/500\n",
            "1719/1719 [==============================] - 3s 2ms/step - loss: 1.2170e-04 - accuracy: 1.0000 - val_loss: 0.4385 - val_accuracy: 0.9780\n",
            "Epoch 484/500\n",
            "1719/1719 [==============================] - 3s 2ms/step - loss: 0.0058 - accuracy: 0.9992 - val_loss: 0.4660 - val_accuracy: 0.9768\n",
            "Epoch 485/500\n",
            "1719/1719 [==============================] - 3s 2ms/step - loss: 0.0030 - accuracy: 0.9996 - val_loss: 0.5168 - val_accuracy: 0.9750\n",
            "Epoch 486/500\n",
            "1719/1719 [==============================] - 3s 2ms/step - loss: 0.0024 - accuracy: 0.9994 - val_loss: 0.5062 - val_accuracy: 0.9776\n",
            "Epoch 487/500\n",
            "1719/1719 [==============================] - 3s 2ms/step - loss: 0.0025 - accuracy: 0.9995 - val_loss: 0.4470 - val_accuracy: 0.9774\n",
            "Epoch 488/500\n",
            "1719/1719 [==============================] - 3s 2ms/step - loss: 6.6750e-04 - accuracy: 0.9998 - val_loss: 0.5071 - val_accuracy: 0.9752\n",
            "Epoch 489/500\n",
            "1719/1719 [==============================] - 3s 2ms/step - loss: 0.0016 - accuracy: 0.9996 - val_loss: 0.5039 - val_accuracy: 0.9748\n",
            "Epoch 490/500\n",
            "1719/1719 [==============================] - 3s 2ms/step - loss: 0.0028 - accuracy: 0.9994 - val_loss: 0.5054 - val_accuracy: 0.9754\n",
            "Epoch 491/500\n",
            "1719/1719 [==============================] - 3s 2ms/step - loss: 0.0021 - accuracy: 0.9996 - val_loss: 0.4337 - val_accuracy: 0.9784\n",
            "Epoch 492/500\n",
            "1719/1719 [==============================] - 3s 2ms/step - loss: 0.0013 - accuracy: 0.9996 - val_loss: 0.4429 - val_accuracy: 0.9758\n",
            "Epoch 493/500\n",
            "1719/1719 [==============================] - 3s 2ms/step - loss: 0.0013 - accuracy: 0.9996 - val_loss: 0.5245 - val_accuracy: 0.9750\n",
            "Epoch 494/500\n",
            "1719/1719 [==============================] - 3s 2ms/step - loss: 0.0020 - accuracy: 0.9997 - val_loss: 0.4409 - val_accuracy: 0.9760\n",
            "Epoch 495/500\n",
            "1719/1719 [==============================] - 3s 2ms/step - loss: 0.0019 - accuracy: 0.9995 - val_loss: 0.4427 - val_accuracy: 0.9782\n",
            "Epoch 496/500\n",
            "1719/1719 [==============================] - 3s 2ms/step - loss: 0.0018 - accuracy: 0.9996 - val_loss: 0.4904 - val_accuracy: 0.9744\n",
            "Epoch 497/500\n",
            "1719/1719 [==============================] - 3s 2ms/step - loss: 0.0017 - accuracy: 0.9995 - val_loss: 0.4446 - val_accuracy: 0.9780\n",
            "Epoch 498/500\n",
            "1719/1719 [==============================] - 3s 2ms/step - loss: 0.0012 - accuracy: 0.9995 - val_loss: 0.4579 - val_accuracy: 0.9754\n",
            "Epoch 499/500\n",
            "1719/1719 [==============================] - 3s 2ms/step - loss: 7.0011e-04 - accuracy: 0.9999 - val_loss: 0.4668 - val_accuracy: 0.9754\n",
            "Epoch 500/500\n",
            "1719/1719 [==============================] - 3s 2ms/step - loss: 0.0025 - accuracy: 0.9994 - val_loss: 0.4312 - val_accuracy: 0.9748\n"
          ],
          "name": "stdout"
        }
      ]
    },
    {
      "cell_type": "code",
      "metadata": {
        "id": "xxyGZ8ZQT5ns",
        "colab": {
          "base_uri": "https://localhost:8080/",
          "height": 71
        },
        "outputId": "a808aaa4-63a1-4299-97ea-593d9b645083"
      },
      "source": [
        "# initialize the data matrix and labels\n",
        "print(\"Extracting features from test dataset...\")\n",
        "labels_test_nn_hog = []\n",
        "data_test_nn_hog=[]\n",
        "# loop over the training images\n",
        "for img_ind in range(len(X_test)):\n",
        "  # load the image, and extract HOG features\n",
        "  \n",
        "  img_hog= X_test[img_ind]\n",
        "  H_test = feature.hog(img_hog,orientations=9, pixels_per_cell=(8,8), cells_per_block=(2,2),\\\n",
        "                  block_norm='L1', transform_sqrt=True) \n",
        "  # Hint: use same settings as used in training phase\n",
        "  \n",
        "  data_test_nn_hog.append(H_test) #数据特征\n",
        "  \n",
        "  labels_test_nn_hog.append(y_test[img_ind])\n",
        "\n",
        "  \n",
        "  \n",
        "print(np.shape(data_test_nn_hog))\n",
        "print(np.shape(labels_test_nn_hog))"
      ],
      "execution_count": null,
      "outputs": [
        {
          "output_type": "stream",
          "text": [
            "Extracting features from test dataset...\n",
            "(10000, 144)\n",
            "(10000,)\n"
          ],
          "name": "stdout"
        }
      ]
    },
    {
      "cell_type": "code",
      "metadata": {
        "id": "IsrAWzo9Djbv",
        "colab": {
          "base_uri": "https://localhost:8080/",
          "height": 53
        },
        "outputId": "92442fb7-12ae-47cf-c28d-cbc10f16524c"
      },
      "source": [
        "data_test_nn_hog = np.array(data_test_nn_hog)\n",
        "labels_test_nn_hog = np.array(labels_test_nn_hog)\n",
        "#labels_test_nn_hog = img_as_float(labels_test_nn_hog)\n",
        "\n",
        "print(data_test_nn_hog.dtype)\n",
        "print(labels_test_nn_hog.dtype)"
      ],
      "execution_count": null,
      "outputs": [
        {
          "output_type": "stream",
          "text": [
            "float64\n",
            "uint8\n"
          ],
          "name": "stdout"
        }
      ]
    },
    {
      "cell_type": "code",
      "metadata": {
        "id": "2G44x4z3DGaE",
        "colab": {
          "base_uri": "https://localhost:8080/",
          "height": 53
        },
        "outputId": "dc64781b-b633-44ad-d576-258b342ef9c8"
      },
      "source": [
        "model_nn_hog.evaluate(data_test_nn_hog, labels_test_nn_hog)"
      ],
      "execution_count": null,
      "outputs": [
        {
          "output_type": "stream",
          "text": [
            "313/313 [==============================] - 0s 1ms/step - loss: 0.5532 - accuracy: 0.9745\n"
          ],
          "name": "stdout"
        },
        {
          "output_type": "execute_result",
          "data": {
            "text/plain": [
              "[0.5531648993492126, 0.9745000004768372]"
            ]
          },
          "metadata": {
            "tags": []
          },
          "execution_count": 19
        }
      ]
    },
    {
      "cell_type": "markdown",
      "metadata": {
        "id": "FmR36KMLoDVF"
      },
      "source": [
        "####ANN_HOG_SGD"
      ]
    },
    {
      "cell_type": "code",
      "metadata": {
        "id": "pXfLklg_oHM5",
        "colab": {
          "base_uri": "https://localhost:8080/",
          "height": 1000
        },
        "outputId": "f65da3bc-2a5b-4ca8-aeb9-75f1a73a8ef4"
      },
      "source": [
        "model_nn_hog_sgd = tf.keras.models.Sequential([tf.keras.layers.Flatten(input_shape=(144,)), \n",
        "                                    tf.keras.layers.Dense(128, activation=tf.nn.relu), tf.keras.layers.Dense(128, activation=tf.nn.relu), \n",
        "                                    tf.keras.layers.Dense(10, activation=tf.nn.softmax)])## create a model here\n",
        "\n",
        "model_nn_hog_sgd.compile(optimizer = tf.optimizers.SGD(0.3),\n",
        "              loss = 'sparse_categorical_crossentropy',\n",
        "              metrics=['accuracy']) ## add the required arguments\n",
        "\n",
        "H_nn_hog_sgd=model_nn_hog_sgd.fit(data_train_hog_nn, labels_train_hog_nn, epochs=100,validation_data=(valid_images_hog, valid_labels_hog))"
      ],
      "execution_count": null,
      "outputs": [
        {
          "output_type": "stream",
          "text": [
            "Epoch 1/100\n",
            "1719/1719 [==============================] - 3s 2ms/step - loss: 0.5752 - accuracy: 0.8091 - val_loss: 0.3004 - val_accuracy: 0.9010\n",
            "Epoch 2/100\n",
            "1719/1719 [==============================] - 3s 1ms/step - loss: 0.2252 - accuracy: 0.9265 - val_loss: 0.1760 - val_accuracy: 0.9430\n",
            "Epoch 3/100\n",
            "1719/1719 [==============================] - 3s 2ms/step - loss: 0.1827 - accuracy: 0.9392 - val_loss: 0.1368 - val_accuracy: 0.9566\n",
            "Epoch 4/100\n",
            "1719/1719 [==============================] - 3s 2ms/step - loss: 0.1597 - accuracy: 0.9479 - val_loss: 0.1588 - val_accuracy: 0.9504\n",
            "Epoch 5/100\n",
            "1719/1719 [==============================] - 3s 1ms/step - loss: 0.1421 - accuracy: 0.9529 - val_loss: 0.1212 - val_accuracy: 0.9606\n",
            "Epoch 6/100\n",
            "1719/1719 [==============================] - 3s 2ms/step - loss: 0.1340 - accuracy: 0.9558 - val_loss: 0.1163 - val_accuracy: 0.9624\n",
            "Epoch 7/100\n",
            "1719/1719 [==============================] - 3s 1ms/step - loss: 0.1249 - accuracy: 0.9582 - val_loss: 0.1361 - val_accuracy: 0.9548\n",
            "Epoch 8/100\n",
            "1719/1719 [==============================] - 3s 2ms/step - loss: 0.1164 - accuracy: 0.9619 - val_loss: 0.1163 - val_accuracy: 0.9600\n",
            "Epoch 9/100\n",
            "1719/1719 [==============================] - 3s 1ms/step - loss: 0.1100 - accuracy: 0.9636 - val_loss: 0.1020 - val_accuracy: 0.9652\n",
            "Epoch 10/100\n",
            "1719/1719 [==============================] - 3s 2ms/step - loss: 0.1047 - accuracy: 0.9647 - val_loss: 0.1159 - val_accuracy: 0.9616\n",
            "Epoch 11/100\n",
            "1719/1719 [==============================] - 3s 1ms/step - loss: 0.1003 - accuracy: 0.9663 - val_loss: 0.1369 - val_accuracy: 0.9542\n",
            "Epoch 12/100\n",
            "1719/1719 [==============================] - 3s 2ms/step - loss: 0.0968 - accuracy: 0.9675 - val_loss: 0.1197 - val_accuracy: 0.9562\n",
            "Epoch 13/100\n",
            "1719/1719 [==============================] - 3s 1ms/step - loss: 0.0927 - accuracy: 0.9688 - val_loss: 0.0841 - val_accuracy: 0.9708\n",
            "Epoch 14/100\n",
            "1719/1719 [==============================] - 3s 2ms/step - loss: 0.0873 - accuracy: 0.9709 - val_loss: 0.0847 - val_accuracy: 0.9698\n",
            "Epoch 15/100\n",
            "1719/1719 [==============================] - 3s 1ms/step - loss: 0.0848 - accuracy: 0.9721 - val_loss: 0.0918 - val_accuracy: 0.9686\n",
            "Epoch 16/100\n",
            "1719/1719 [==============================] - 3s 1ms/step - loss: 0.0812 - accuracy: 0.9729 - val_loss: 0.1046 - val_accuracy: 0.9642\n",
            "Epoch 17/100\n",
            "1719/1719 [==============================] - 3s 2ms/step - loss: 0.0787 - accuracy: 0.9732 - val_loss: 0.0880 - val_accuracy: 0.9728\n",
            "Epoch 18/100\n",
            "1719/1719 [==============================] - 3s 2ms/step - loss: 0.0754 - accuracy: 0.9744 - val_loss: 0.1218 - val_accuracy: 0.9546\n",
            "Epoch 19/100\n",
            "1719/1719 [==============================] - 3s 2ms/step - loss: 0.0742 - accuracy: 0.9749 - val_loss: 0.0966 - val_accuracy: 0.9690\n",
            "Epoch 20/100\n",
            "1719/1719 [==============================] - 3s 2ms/step - loss: 0.0715 - accuracy: 0.9757 - val_loss: 0.0745 - val_accuracy: 0.9758\n",
            "Epoch 21/100\n",
            "1719/1719 [==============================] - 3s 2ms/step - loss: 0.0686 - accuracy: 0.9765 - val_loss: 0.1022 - val_accuracy: 0.9672\n",
            "Epoch 22/100\n",
            "1719/1719 [==============================] - 3s 2ms/step - loss: 0.0660 - accuracy: 0.9783 - val_loss: 0.0813 - val_accuracy: 0.9710\n",
            "Epoch 23/100\n",
            "1719/1719 [==============================] - 3s 2ms/step - loss: 0.0643 - accuracy: 0.9785 - val_loss: 0.0919 - val_accuracy: 0.9688\n",
            "Epoch 24/100\n",
            "1719/1719 [==============================] - 3s 2ms/step - loss: 0.0613 - accuracy: 0.9793 - val_loss: 0.0821 - val_accuracy: 0.9724\n",
            "Epoch 25/100\n",
            "1719/1719 [==============================] - 3s 2ms/step - loss: 0.0603 - accuracy: 0.9794 - val_loss: 0.0820 - val_accuracy: 0.9738\n",
            "Epoch 26/100\n",
            "1719/1719 [==============================] - 3s 2ms/step - loss: 0.0589 - accuracy: 0.9800 - val_loss: 0.1061 - val_accuracy: 0.9654\n",
            "Epoch 27/100\n",
            "1719/1719 [==============================] - 3s 2ms/step - loss: 0.0571 - accuracy: 0.9807 - val_loss: 0.0817 - val_accuracy: 0.9744\n",
            "Epoch 28/100\n",
            "1719/1719 [==============================] - 3s 2ms/step - loss: 0.0554 - accuracy: 0.9814 - val_loss: 0.0777 - val_accuracy: 0.9758\n",
            "Epoch 29/100\n",
            "1719/1719 [==============================] - 3s 2ms/step - loss: 0.0535 - accuracy: 0.9819 - val_loss: 0.0967 - val_accuracy: 0.9690\n",
            "Epoch 30/100\n",
            "1719/1719 [==============================] - 3s 2ms/step - loss: 0.0518 - accuracy: 0.9821 - val_loss: 0.0893 - val_accuracy: 0.9744\n",
            "Epoch 31/100\n",
            "1719/1719 [==============================] - 3s 2ms/step - loss: 0.0509 - accuracy: 0.9822 - val_loss: 0.1178 - val_accuracy: 0.9614\n",
            "Epoch 32/100\n",
            "1719/1719 [==============================] - 3s 2ms/step - loss: 0.0507 - accuracy: 0.9827 - val_loss: 0.0752 - val_accuracy: 0.9750\n",
            "Epoch 33/100\n",
            "1719/1719 [==============================] - 3s 2ms/step - loss: 0.0488 - accuracy: 0.9832 - val_loss: 0.0867 - val_accuracy: 0.9728\n",
            "Epoch 34/100\n",
            "1719/1719 [==============================] - 3s 2ms/step - loss: 0.0476 - accuracy: 0.9831 - val_loss: 0.0861 - val_accuracy: 0.9728\n",
            "Epoch 35/100\n",
            "1719/1719 [==============================] - 3s 2ms/step - loss: 0.0455 - accuracy: 0.9841 - val_loss: 0.0900 - val_accuracy: 0.9726\n",
            "Epoch 36/100\n",
            "1719/1719 [==============================] - 3s 2ms/step - loss: 0.0456 - accuracy: 0.9844 - val_loss: 0.0786 - val_accuracy: 0.9766\n",
            "Epoch 37/100\n",
            "1719/1719 [==============================] - 3s 2ms/step - loss: 0.0434 - accuracy: 0.9851 - val_loss: 0.0823 - val_accuracy: 0.9722\n",
            "Epoch 38/100\n",
            "1719/1719 [==============================] - 3s 2ms/step - loss: 0.0429 - accuracy: 0.9847 - val_loss: 0.0812 - val_accuracy: 0.9754\n",
            "Epoch 39/100\n",
            "1719/1719 [==============================] - 3s 2ms/step - loss: 0.0418 - accuracy: 0.9858 - val_loss: 0.0794 - val_accuracy: 0.9762\n",
            "Epoch 40/100\n",
            "1719/1719 [==============================] - 3s 2ms/step - loss: 0.0402 - accuracy: 0.9860 - val_loss: 0.1074 - val_accuracy: 0.9666\n",
            "Epoch 41/100\n",
            "1719/1719 [==============================] - 3s 2ms/step - loss: 0.0377 - accuracy: 0.9867 - val_loss: 0.0875 - val_accuracy: 0.9732\n",
            "Epoch 42/100\n",
            "1719/1719 [==============================] - 3s 2ms/step - loss: 0.0381 - accuracy: 0.9869 - val_loss: 0.0952 - val_accuracy: 0.9742\n",
            "Epoch 43/100\n",
            "1719/1719 [==============================] - 3s 1ms/step - loss: 0.0363 - accuracy: 0.9877 - val_loss: 0.0917 - val_accuracy: 0.9718\n",
            "Epoch 44/100\n",
            "1719/1719 [==============================] - 3s 2ms/step - loss: 0.0358 - accuracy: 0.9880 - val_loss: 0.0774 - val_accuracy: 0.9774\n",
            "Epoch 45/100\n",
            "1719/1719 [==============================] - 3s 1ms/step - loss: 0.0354 - accuracy: 0.9878 - val_loss: 0.1019 - val_accuracy: 0.9706\n",
            "Epoch 46/100\n",
            "1719/1719 [==============================] - 3s 2ms/step - loss: 0.0345 - accuracy: 0.9879 - val_loss: 0.0849 - val_accuracy: 0.9766\n",
            "Epoch 47/100\n",
            "1719/1719 [==============================] - 3s 2ms/step - loss: 0.0333 - accuracy: 0.9884 - val_loss: 0.0839 - val_accuracy: 0.9742\n",
            "Epoch 48/100\n",
            "1719/1719 [==============================] - 3s 1ms/step - loss: 0.0310 - accuracy: 0.9897 - val_loss: 0.1018 - val_accuracy: 0.9710\n",
            "Epoch 49/100\n",
            "1719/1719 [==============================] - 3s 2ms/step - loss: 0.0309 - accuracy: 0.9893 - val_loss: 0.0933 - val_accuracy: 0.9740\n",
            "Epoch 50/100\n",
            "1719/1719 [==============================] - 3s 2ms/step - loss: 0.0313 - accuracy: 0.9893 - val_loss: 0.1051 - val_accuracy: 0.9694\n",
            "Epoch 51/100\n",
            "1719/1719 [==============================] - 3s 2ms/step - loss: 0.0309 - accuracy: 0.9890 - val_loss: 0.0883 - val_accuracy: 0.9742\n",
            "Epoch 52/100\n",
            "1719/1719 [==============================] - 3s 2ms/step - loss: 0.0302 - accuracy: 0.9895 - val_loss: 0.1146 - val_accuracy: 0.9644\n",
            "Epoch 53/100\n",
            "1719/1719 [==============================] - 3s 2ms/step - loss: 0.0276 - accuracy: 0.9906 - val_loss: 0.0992 - val_accuracy: 0.9730\n",
            "Epoch 54/100\n",
            "1719/1719 [==============================] - 3s 2ms/step - loss: 0.0273 - accuracy: 0.9907 - val_loss: 0.0993 - val_accuracy: 0.9736\n",
            "Epoch 55/100\n",
            "1719/1719 [==============================] - 3s 2ms/step - loss: 0.0264 - accuracy: 0.9907 - val_loss: 0.0810 - val_accuracy: 0.9780\n",
            "Epoch 56/100\n",
            "1719/1719 [==============================] - 3s 2ms/step - loss: 0.0256 - accuracy: 0.9913 - val_loss: 0.1209 - val_accuracy: 0.9696\n",
            "Epoch 57/100\n",
            "1719/1719 [==============================] - 3s 1ms/step - loss: 0.0258 - accuracy: 0.9911 - val_loss: 0.0921 - val_accuracy: 0.9772\n",
            "Epoch 58/100\n",
            "1719/1719 [==============================] - 3s 2ms/step - loss: 0.0249 - accuracy: 0.9914 - val_loss: 0.0881 - val_accuracy: 0.9774\n",
            "Epoch 59/100\n",
            "1719/1719 [==============================] - 3s 2ms/step - loss: 0.0234 - accuracy: 0.9919 - val_loss: 0.0963 - val_accuracy: 0.9722\n",
            "Epoch 60/100\n",
            "1719/1719 [==============================] - 3s 1ms/step - loss: 0.0232 - accuracy: 0.9919 - val_loss: 0.0928 - val_accuracy: 0.9748\n",
            "Epoch 61/100\n",
            "1719/1719 [==============================] - 3s 2ms/step - loss: 0.0216 - accuracy: 0.9924 - val_loss: 0.0920 - val_accuracy: 0.9756\n",
            "Epoch 62/100\n",
            "1719/1719 [==============================] - 3s 2ms/step - loss: 0.0231 - accuracy: 0.9918 - val_loss: 0.1053 - val_accuracy: 0.9746\n",
            "Epoch 63/100\n",
            "1719/1719 [==============================] - 3s 1ms/step - loss: 0.0211 - accuracy: 0.9923 - val_loss: 0.1167 - val_accuracy: 0.9722\n",
            "Epoch 64/100\n",
            "1719/1719 [==============================] - 3s 1ms/step - loss: 0.0200 - accuracy: 0.9932 - val_loss: 0.1024 - val_accuracy: 0.9736\n",
            "Epoch 65/100\n",
            "1719/1719 [==============================] - 3s 2ms/step - loss: 0.0198 - accuracy: 0.9927 - val_loss: 0.1032 - val_accuracy: 0.9720\n",
            "Epoch 66/100\n",
            "1719/1719 [==============================] - 3s 2ms/step - loss: 0.0194 - accuracy: 0.9935 - val_loss: 0.0969 - val_accuracy: 0.9748\n",
            "Epoch 67/100\n",
            "1719/1719 [==============================] - 3s 2ms/step - loss: 0.0202 - accuracy: 0.9929 - val_loss: 0.0878 - val_accuracy: 0.9762\n",
            "Epoch 68/100\n",
            "1719/1719 [==============================] - 3s 2ms/step - loss: 0.0181 - accuracy: 0.9934 - val_loss: 0.1096 - val_accuracy: 0.9722\n",
            "Epoch 69/100\n",
            "1719/1719 [==============================] - 3s 2ms/step - loss: 0.0184 - accuracy: 0.9934 - val_loss: 0.0995 - val_accuracy: 0.9762\n",
            "Epoch 70/100\n",
            "1719/1719 [==============================] - 3s 2ms/step - loss: 0.0167 - accuracy: 0.9942 - val_loss: 0.0893 - val_accuracy: 0.9790\n",
            "Epoch 71/100\n",
            "1719/1719 [==============================] - 3s 2ms/step - loss: 0.0170 - accuracy: 0.9942 - val_loss: 0.0958 - val_accuracy: 0.9760\n",
            "Epoch 72/100\n",
            "1719/1719 [==============================] - 3s 2ms/step - loss: 0.0163 - accuracy: 0.9947 - val_loss: 0.1058 - val_accuracy: 0.9748\n",
            "Epoch 73/100\n",
            "1719/1719 [==============================] - 3s 1ms/step - loss: 0.0170 - accuracy: 0.9938 - val_loss: 0.1005 - val_accuracy: 0.9744\n",
            "Epoch 74/100\n",
            "1719/1719 [==============================] - 3s 2ms/step - loss: 0.0167 - accuracy: 0.9945 - val_loss: 0.1149 - val_accuracy: 0.9732\n",
            "Epoch 75/100\n",
            "1719/1719 [==============================] - 3s 2ms/step - loss: 0.0157 - accuracy: 0.9945 - val_loss: 0.0999 - val_accuracy: 0.9762\n",
            "Epoch 76/100\n",
            "1719/1719 [==============================] - 3s 2ms/step - loss: 0.0149 - accuracy: 0.9947 - val_loss: 0.1228 - val_accuracy: 0.9718\n",
            "Epoch 77/100\n",
            "1719/1719 [==============================] - 3s 2ms/step - loss: 0.0112 - accuracy: 0.9965 - val_loss: 0.1071 - val_accuracy: 0.9760\n",
            "Epoch 78/100\n",
            "1719/1719 [==============================] - 3s 2ms/step - loss: 0.0125 - accuracy: 0.9960 - val_loss: 0.0997 - val_accuracy: 0.9776\n",
            "Epoch 79/100\n",
            "1719/1719 [==============================] - 3s 2ms/step - loss: 0.0151 - accuracy: 0.9946 - val_loss: 0.0973 - val_accuracy: 0.9748\n",
            "Epoch 80/100\n",
            "1719/1719 [==============================] - 3s 2ms/step - loss: 0.0113 - accuracy: 0.9963 - val_loss: 0.1088 - val_accuracy: 0.9758\n",
            "Epoch 81/100\n",
            "1719/1719 [==============================] - 3s 1ms/step - loss: 0.0129 - accuracy: 0.9957 - val_loss: 0.0888 - val_accuracy: 0.9790\n",
            "Epoch 82/100\n",
            "1719/1719 [==============================] - 3s 1ms/step - loss: 0.0128 - accuracy: 0.9958 - val_loss: 0.1064 - val_accuracy: 0.9754\n",
            "Epoch 83/100\n",
            "1719/1719 [==============================] - 3s 2ms/step - loss: 0.0110 - accuracy: 0.9962 - val_loss: 0.1063 - val_accuracy: 0.9764\n",
            "Epoch 84/100\n",
            "1719/1719 [==============================] - 3s 2ms/step - loss: 0.0116 - accuracy: 0.9957 - val_loss: 0.1004 - val_accuracy: 0.9746\n",
            "Epoch 85/100\n",
            "1719/1719 [==============================] - 3s 2ms/step - loss: 0.0133 - accuracy: 0.9954 - val_loss: 0.1083 - val_accuracy: 0.9764\n",
            "Epoch 86/100\n",
            "1719/1719 [==============================] - 3s 2ms/step - loss: 0.0097 - accuracy: 0.9967 - val_loss: 0.1051 - val_accuracy: 0.9760\n",
            "Epoch 87/100\n",
            "1719/1719 [==============================] - 3s 2ms/step - loss: 0.0110 - accuracy: 0.9963 - val_loss: 0.1135 - val_accuracy: 0.9746\n",
            "Epoch 88/100\n",
            "1719/1719 [==============================] - 3s 1ms/step - loss: 0.0097 - accuracy: 0.9968 - val_loss: 0.0926 - val_accuracy: 0.9778\n",
            "Epoch 89/100\n",
            "1719/1719 [==============================] - 3s 1ms/step - loss: 0.0101 - accuracy: 0.9968 - val_loss: 0.1019 - val_accuracy: 0.9750\n",
            "Epoch 90/100\n",
            "1719/1719 [==============================] - 3s 1ms/step - loss: 0.0113 - accuracy: 0.9961 - val_loss: 0.0993 - val_accuracy: 0.9762\n",
            "Epoch 91/100\n",
            "1719/1719 [==============================] - 3s 1ms/step - loss: 0.0153 - accuracy: 0.9944 - val_loss: 0.1079 - val_accuracy: 0.9756\n",
            "Epoch 92/100\n",
            "1719/1719 [==============================] - 3s 2ms/step - loss: 0.0098 - accuracy: 0.9967 - val_loss: 0.1038 - val_accuracy: 0.9754\n",
            "Epoch 93/100\n",
            "1719/1719 [==============================] - 3s 1ms/step - loss: 0.0080 - accuracy: 0.9975 - val_loss: 0.0997 - val_accuracy: 0.9776\n",
            "Epoch 94/100\n",
            "1719/1719 [==============================] - 3s 1ms/step - loss: 0.0053 - accuracy: 0.9986 - val_loss: 0.1018 - val_accuracy: 0.9780\n",
            "Epoch 95/100\n",
            "1719/1719 [==============================] - 3s 1ms/step - loss: 0.0071 - accuracy: 0.9978 - val_loss: 0.0986 - val_accuracy: 0.9778\n",
            "Epoch 96/100\n",
            "1719/1719 [==============================] - 3s 1ms/step - loss: 0.0053 - accuracy: 0.9985 - val_loss: 0.1079 - val_accuracy: 0.9766\n",
            "Epoch 97/100\n",
            "1719/1719 [==============================] - 3s 2ms/step - loss: 0.0046 - accuracy: 0.9988 - val_loss: 0.1054 - val_accuracy: 0.9772\n",
            "Epoch 98/100\n",
            "1719/1719 [==============================] - 3s 1ms/step - loss: 0.0043 - accuracy: 0.9988 - val_loss: 0.1091 - val_accuracy: 0.9756\n",
            "Epoch 99/100\n",
            "1719/1719 [==============================] - 3s 1ms/step - loss: 0.0061 - accuracy: 0.9981 - val_loss: 0.0998 - val_accuracy: 0.9782\n",
            "Epoch 100/100\n",
            "1719/1719 [==============================] - 3s 2ms/step - loss: 0.0034 - accuracy: 0.9991 - val_loss: 0.1184 - val_accuracy: 0.9770\n"
          ],
          "name": "stdout"
        }
      ]
    },
    {
      "cell_type": "code",
      "metadata": {
        "id": "zwktITotozbz",
        "colab": {
          "base_uri": "https://localhost:8080/",
          "height": 53
        },
        "outputId": "df04edc5-b843-4b5c-ad46-098aaf7ceb13"
      },
      "source": [
        "model_nn_hog_sgd.evaluate(data_test_nn_hog, labels_test_nn_hog)"
      ],
      "execution_count": null,
      "outputs": [
        {
          "output_type": "stream",
          "text": [
            "313/313 [==============================] - 0s 1ms/step - loss: 0.1317 - accuracy: 0.9727\n"
          ],
          "name": "stdout"
        },
        {
          "output_type": "execute_result",
          "data": {
            "text/plain": [
              "[0.13167701661586761, 0.9726999998092651]"
            ]
          },
          "metadata": {
            "tags": []
          },
          "execution_count": 34
        }
      ]
    },
    {
      "cell_type": "code",
      "metadata": {
        "id": "pB-bbffsn6cG",
        "colab": {
          "base_uri": "https://localhost:8080/",
          "height": 602
        },
        "outputId": "33a34fb0-1d65-4b82-b33b-5eb847c294ee"
      },
      "source": [
        "## Plot the learning curves \n",
        "import pandas as pd\n",
        "import matplotlib.pyplot as plt\n",
        "pd.DataFrame(H_nn_hog_sgd.history).plot(figsize=(8, 5))\n",
        "plt.grid(True)\n",
        "plt.gca().set_ylim(0, 1) # set the vertical range to [0-1]\n",
        "plt.show()\n",
        "\n",
        "## Plot only the loss train loss\n",
        "plt.plot(H_nn_hog_sgd.history['loss'])\n",
        "plt.ylabel('cost')\n",
        "plt.xlabel('Epochs')\n",
        "plt.title(\"Cost/Loss Curve\")\n",
        "plt.show()"
      ],
      "execution_count": null,
      "outputs": [
        {
          "output_type": "display_data",
          "data": {
            "image/png": "[encoded data removed]",
            "text/plain": [
              "<Figure size 576x360 with 1 Axes>"
            ]
          },
          "metadata": {
            "tags": [],
            "needs_background": "light"
          }
        },
        {
          "output_type": "display_data",
          "data": {
            "image/png": "[encoded data removed]",
            "text/plain": [
              "<Figure size 432x288 with 1 Axes>"
            ]
          },
          "metadata": {
            "tags": [],
            "needs_background": "light"
          }
        }
      ]
    }
  ]
}