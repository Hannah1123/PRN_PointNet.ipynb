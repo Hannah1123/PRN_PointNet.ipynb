{
  "nbformat": 4,
  "nbformat_minor": 0,
  "metadata": {
    "colab": {
      "name": "gradientdescent.ipynb",
      "provenance": [],
      "authorship_tag": "ABX9TyN9aBjl8TOzZ5YfaKHvXC2l",
      "include_colab_link": true
    },
    "kernelspec": {
      "name": "python3",
      "display_name": "Python 3"
    }
  },
  "cells": [
    {
      "cell_type": "markdown",
      "metadata": {
        "id": "view-in-github",
        "colab_type": "text"
      },
      "source": [
        "<a href=\"https://colab.research.google.com/github/Hannah1123/uts-deeplearng2020.ipynb/blob/master/gradientdescent.ipynb\" target=\"_parent\"><img src=\"https://colab.research.google.com/assets/colab-badge.svg\" alt=\"Open In Colab\"/></a>"
      ]
    },
    {
      "cell_type": "code",
      "metadata": {
        "id": "jn_ZWama_C-g"
      },
      "source": [
        "import numpy as np\n",
        "import matplotlib.pyplot as plt"
      ],
      "execution_count": null,
      "outputs": []
    },
    {
      "cell_type": "code",
      "metadata": {
        "id": "cr0viFxjrwu6"
      },
      "source": [
        "x_data = [338., 333., 328., 207., 226., 25., 179., 60., 208., 606.]\n",
        "y_data = [640., 633., 619., 393., 428., 27., 193., 66., 226., 1591.]"
      ],
      "execution_count": null,
      "outputs": []
    },
    {
      "cell_type": "code",
      "metadata": {
        "id": "VCiGVPgstuvk"
      },
      "source": [
        "x = np.arange(-200, -100, 1) #bias\n",
        "y = np.arange(-5, 5, 0.1) #weight\n",
        "Z = np.zeros((len(x), len(y)))\n",
        "X, Y = np.meshgrid(x, y)\n",
        "for i in range(len(x)):\n",
        "  for j in range(len(y)):\n",
        "    b = x[i]\n",
        "    w = y[j]\n",
        "    z[j][i] = 0\n",
        "    for n in range(len(x_data)):\n",
        "      Z[j][i] = Z[j][i] + (y_data[n] - b - w*x_data[n])**2\n",
        "    Z[j][i] = Z[j][i]/len(x_data)\n",
        "\n"
      ],
      "execution_count": null,
      "outputs": []
    },
    {
      "cell_type": "code",
      "metadata": {
        "id": "S4h7nyvE7gOj",
        "colab": {
          "base_uri": "https://localhost:8080/",
          "height": 302
        },
        "outputId": "38075f12-fb03-47f7-f351-636c58b4e1c6"
      },
      "source": [
        "b = -120\n",
        "w = -4\n",
        "lr = 1\n",
        "iteration = 100000\n",
        "\n",
        "b_history = [b]\n",
        "w_history = [w]\n",
        "\n",
        "lr_b = 0\n",
        "lr_w = 0\n",
        "\n",
        "#iteration\n",
        "for i in range(iteration):\n",
        "\n",
        "  b_grad = 0.0\n",
        "  w_grad = 0.0\n",
        "  for n in range(len(x_data)):\n",
        "    b_grad = b_grad - 2*(y_data[n] - b - w*x_data[n]*1)   #对b偏微分\n",
        "    w_grad = w_grad - 2*(y_data[n] - b - w*x_data[n])*x_data[n]   #对w偏微分\n",
        "\n",
        "  lr_b = lr_b + b_grad ** 2\n",
        "  lr_w = lr_w + w_grad ** 2\n",
        "\n",
        "  #updata parameters\n",
        "  b = b - lr/np.sqrt(lr_b)*b_grad\n",
        "  w = w - lr/np.sqrt(lr_w)*w_grad\n",
        "\n",
        "  #store parameters for plotting\n",
        "  b_history.append(b)\n",
        "  w_history.append(w)\n",
        "\n",
        "#plot the figure\n",
        "plt.contourf(x, y, Z, 50, alpha=0.5, cmap=plt.get_cmap('jet'))  #二维等高线图\n",
        "plt.plot([-188.4], [2.67], 'x', ms=12, markeredgewidth=3, color='orange')\n",
        "plt.plot(b_history, w_history, 'o-', ms=3, lw=1.5, color='black')\n",
        "plt.xlim(-200, -100)\n",
        "plt.ylim(-5, 5)\n",
        "plt.xlabel(r'$b$', fontsize=16)\n",
        "plt.ylabel(r'$w$', fontsize=16)\n",
        "plt.show"
      ],
      "execution_count": null,
      "outputs": [
        {
          "output_type": "execute_result",
          "data": {
            "text/plain": [
              "<function matplotlib.pyplot.show>"
            ]
          },
          "metadata": {
            "tags": []
          },
          "execution_count": 11
        },
        {
          "output_type": "display_data",
          "data": {
            "image/png": "[encoded data removed]",
            "text/plain": [
              "<Figure size 432x288 with 1 Axes>"
            ]
          },
          "metadata": {
            "tags": []
          }
        }
      ]
    }
  ]
}